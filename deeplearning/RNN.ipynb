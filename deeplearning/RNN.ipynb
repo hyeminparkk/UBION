{
 "cells": [
  {
   "cell_type": "markdown",
   "metadata": {},
   "source": [
    "# RNN"
   ]
  },
  {
   "cell_type": "markdown",
   "metadata": {},
   "source": [
    "## 로이터 뉴스 데이터셋 불러오기"
   ]
  },
  {
   "cell_type": "code",
   "execution_count": 24,
   "metadata": {},
   "outputs": [],
   "source": [
    "from tensorflow.keras.datasets import reuters"
   ]
  },
  {
   "cell_type": "markdown",
   "metadata": {},
   "source": [
    "## train / test 나누기 \n",
    "- num_words : 단어가 나타난 빈도가 1~1000에 해당하는 단어만 선택해서 불러오는 것"
   ]
  },
  {
   "cell_type": "code",
   "execution_count": 47,
   "metadata": {},
   "outputs": [],
   "source": [
    "(x_train, y_train), (x_test, y_test) = reuters.load_data(num_words=30000, test_split=0.3, maxlen=50)"
   ]
  },
  {
   "cell_type": "code",
   "execution_count": 48,
   "metadata": {},
   "outputs": [],
   "source": [
    "from tensorflow.keras.preprocessing.sequence import pad_sequences\n",
    "\n",
    "# 입력된 기사의 단어 수가 100보다 크면 100개째 단어만 선택하고 나머지는 버림\n",
    "x_train = pad_sequences(x_train, padding='post')\n",
    "x_test = pad_sequences(x_test, padding='post')"
   ]
  },
  {
   "cell_type": "code",
   "execution_count": 49,
   "metadata": {},
   "outputs": [],
   "source": [
    "import numpy as np\n",
    "\n",
    "x_train = np.array(x_train).reshape((x_train.shape[0], x_train.shape[1], 1))\n",
    "x_test = np.array(x_test).reshape((x_test.shape[0], x_test.shape[1], 1))"
   ]
  },
  {
   "cell_type": "code",
   "execution_count": 50,
   "metadata": {},
   "outputs": [],
   "source": [
    "from keras.utils import np_utils\n",
    "\n",
    "y_train = np_utils.to_categorical(y_train)\n",
    "y_test = np_utils.to_categorical(y_test)"
   ]
  },
  {
   "cell_type": "code",
   "execution_count": 51,
   "metadata": {},
   "outputs": [
    {
     "name": "stdout",
     "output_type": "stream",
     "text": [
      "(1395, 49, 1)\n",
      "(599, 49, 1)\n",
      "(1395, 46)\n",
      "(599, 43)\n"
     ]
    }
   ],
   "source": [
    "print(x_train.shape)\n",
    "print(x_test.shape)\n",
    "print(y_train.shape)\n",
    "print(y_test.shape)"
   ]
  },
  {
   "cell_type": "markdown",
   "metadata": {},
   "source": [
    "## SimpleRNN 모델 구현"
   ]
  },
  {
   "cell_type": "code",
   "execution_count": 52,
   "metadata": {},
   "outputs": [],
   "source": [
    "from tensorflow.keras.models import Sequential\n",
    "from tensorflow.keras.layers import Dense, SimpleRNN, Activation\n",
    "from tensorflow.keras import optimizers\n",
    "from tensorflow.keras.wrappers.scikit_learn import KerasClassifier"
   ]
  },
  {
   "cell_type": "code",
   "execution_count": 53,
   "metadata": {},
   "outputs": [],
   "source": [
    "def stacked_vanilla_rnn():\n",
    "    model = Sequential()\n",
    "    model.add(SimpleRNN(2, input_shape=(49,1), return_sequences=True))\n",
    "    model.add(SimpleRNN(2, return_sequences=False))\n",
    "    model.add(Dense(46))\n",
    "    model.add(Activation('softmax'))\n",
    "    adam = optimizers.Adam(lr=0.001)\n",
    "    model.compile(loss='categorical_crossentropy', optimizer=adam, metrics=['accuracy'])\n",
    "    return model"
   ]
  },
  {
   "cell_type": "code",
   "execution_count": 54,
   "metadata": {},
   "outputs": [
    {
     "name": "stderr",
     "output_type": "stream",
     "text": [
      "C:\\Users\\qkrtj\\AppData\\Local\\Temp\\ipykernel_21360\\2908181492.py:1: DeprecationWarning: KerasClassifier is deprecated, use Sci-Keras (https://github.com/adriangb/scikeras) instead. See https://www.adriangb.com/scikeras/stable/migration.html for help migrating.\n",
      "  model = KerasClassifier(build_fn = stacked_vanilla_rnn, epochs=50, batch_size=50, verbose=1)\n"
     ]
    }
   ],
   "source": [
    "model = KerasClassifier(build_fn = stacked_vanilla_rnn, epochs=50, batch_size=50, verbose=1)"
   ]
  },
  {
   "cell_type": "code",
   "execution_count": 55,
   "metadata": {},
   "outputs": [
    {
     "name": "stdout",
     "output_type": "stream",
     "text": [
      "Epoch 1/50\n"
     ]
    },
    {
     "name": "stderr",
     "output_type": "stream",
     "text": [
      "c:\\Users\\qkrtj\\AppData\\Local\\Programs\\Python\\Python310\\lib\\site-packages\\keras\\optimizers\\optimizer_v2\\adam.py:114: UserWarning: The `lr` argument is deprecated, use `learning_rate` instead.\n",
      "  super().__init__(name, **kwargs)\n"
     ]
    },
    {
     "name": "stdout",
     "output_type": "stream",
     "text": [
      "28/28 [==============================] - 1s 8ms/step - loss: 3.8004 - accuracy: 0.0832\n",
      "Epoch 2/50\n",
      "28/28 [==============================] - 0s 8ms/step - loss: 3.7266 - accuracy: 0.2703\n",
      "Epoch 3/50\n",
      "28/28 [==============================] - 0s 7ms/step - loss: 3.6160 - accuracy: 0.5104\n",
      "Epoch 4/50\n",
      "28/28 [==============================] - 0s 7ms/step - loss: 3.4638 - accuracy: 0.7147\n",
      "Epoch 5/50\n",
      "28/28 [==============================] - 0s 7ms/step - loss: 3.3186 - accuracy: 0.7147\n",
      "Epoch 6/50\n",
      "28/28 [==============================] - 0s 8ms/step - loss: 3.1721 - accuracy: 0.7147\n",
      "Epoch 7/50\n",
      "28/28 [==============================] - 0s 7ms/step - loss: 3.0261 - accuracy: 0.7147\n",
      "Epoch 8/50\n",
      "28/28 [==============================] - 0s 7ms/step - loss: 2.8824 - accuracy: 0.7147\n",
      "Epoch 9/50\n",
      "28/28 [==============================] - 0s 7ms/step - loss: 2.7425 - accuracy: 0.7147\n",
      "Epoch 10/50\n",
      "28/28 [==============================] - 0s 7ms/step - loss: 2.6077 - accuracy: 0.7147\n",
      "Epoch 11/50\n",
      "28/28 [==============================] - 0s 8ms/step - loss: 2.4796 - accuracy: 0.7147\n",
      "Epoch 12/50\n",
      "28/28 [==============================] - 0s 8ms/step - loss: 2.3581 - accuracy: 0.7147\n",
      "Epoch 13/50\n",
      "28/28 [==============================] - 0s 8ms/step - loss: 2.2446 - accuracy: 0.7147\n",
      "Epoch 14/50\n",
      "28/28 [==============================] - 0s 7ms/step - loss: 2.1392 - accuracy: 0.7147\n",
      "Epoch 15/50\n",
      "28/28 [==============================] - 0s 7ms/step - loss: 2.0420 - accuracy: 0.7147\n",
      "Epoch 16/50\n",
      "28/28 [==============================] - 0s 8ms/step - loss: 1.9530 - accuracy: 0.7147\n",
      "Epoch 17/50\n",
      "28/28 [==============================] - 0s 7ms/step - loss: 1.8715 - accuracy: 0.7147\n",
      "Epoch 18/50\n",
      "28/28 [==============================] - 0s 8ms/step - loss: 1.7981 - accuracy: 0.7147\n",
      "Epoch 19/50\n",
      "28/28 [==============================] - 0s 8ms/step - loss: 1.7317 - accuracy: 0.7147\n",
      "Epoch 20/50\n",
      "28/28 [==============================] - 0s 8ms/step - loss: 1.6721 - accuracy: 0.7147\n",
      "Epoch 21/50\n",
      "28/28 [==============================] - 0s 7ms/step - loss: 1.6181 - accuracy: 0.7147\n",
      "Epoch 22/50\n",
      "28/28 [==============================] - 0s 7ms/step - loss: 1.5705 - accuracy: 0.7147\n",
      "Epoch 23/50\n",
      "28/28 [==============================] - 0s 7ms/step - loss: 1.5279 - accuracy: 0.7147\n",
      "Epoch 24/50\n",
      "28/28 [==============================] - 0s 8ms/step - loss: 1.4901 - accuracy: 0.7147\n",
      "Epoch 25/50\n",
      "28/28 [==============================] - 0s 8ms/step - loss: 1.4564 - accuracy: 0.7147\n",
      "Epoch 26/50\n",
      "28/28 [==============================] - 0s 8ms/step - loss: 1.4270 - accuracy: 0.7147\n",
      "Epoch 27/50\n",
      "28/28 [==============================] - 0s 8ms/step - loss: 1.4007 - accuracy: 0.7147\n",
      "Epoch 28/50\n",
      "28/28 [==============================] - 0s 8ms/step - loss: 1.3775 - accuracy: 0.7147\n",
      "Epoch 29/50\n",
      "28/28 [==============================] - 0s 7ms/step - loss: 1.3572 - accuracy: 0.7147\n",
      "Epoch 30/50\n",
      "28/28 [==============================] - 0s 7ms/step - loss: 1.3391 - accuracy: 0.7147\n",
      "Epoch 31/50\n",
      "28/28 [==============================] - 0s 7ms/step - loss: 1.3229 - accuracy: 0.7147\n",
      "Epoch 32/50\n",
      "28/28 [==============================] - 0s 7ms/step - loss: 1.3088 - accuracy: 0.7147\n",
      "Epoch 33/50\n",
      "28/28 [==============================] - 0s 7ms/step - loss: 1.2962 - accuracy: 0.7147\n",
      "Epoch 34/50\n",
      "28/28 [==============================] - 0s 8ms/step - loss: 1.2849 - accuracy: 0.7147\n",
      "Epoch 35/50\n",
      "28/28 [==============================] - 0s 7ms/step - loss: 1.2750 - accuracy: 0.7147\n",
      "Epoch 36/50\n",
      "28/28 [==============================] - 0s 7ms/step - loss: 1.2660 - accuracy: 0.7147\n",
      "Epoch 37/50\n",
      "28/28 [==============================] - 0s 7ms/step - loss: 1.2579 - accuracy: 0.7147\n",
      "Epoch 38/50\n",
      "28/28 [==============================] - 0s 7ms/step - loss: 1.2508 - accuracy: 0.7147\n",
      "Epoch 39/50\n",
      "28/28 [==============================] - 0s 7ms/step - loss: 1.2442 - accuracy: 0.7147\n",
      "Epoch 40/50\n",
      "28/28 [==============================] - 0s 7ms/step - loss: 1.2386 - accuracy: 0.7147\n",
      "Epoch 41/50\n",
      "28/28 [==============================] - 0s 8ms/step - loss: 1.2332 - accuracy: 0.7147\n",
      "Epoch 42/50\n",
      "28/28 [==============================] - 0s 8ms/step - loss: 1.2283 - accuracy: 0.7147\n",
      "Epoch 43/50\n",
      "28/28 [==============================] - 0s 7ms/step - loss: 1.2237 - accuracy: 0.7147\n",
      "Epoch 44/50\n",
      "28/28 [==============================] - 0s 7ms/step - loss: 1.2198 - accuracy: 0.7147\n",
      "Epoch 45/50\n",
      "28/28 [==============================] - 0s 7ms/step - loss: 1.2161 - accuracy: 0.7147\n",
      "Epoch 46/50\n",
      "28/28 [==============================] - 0s 7ms/step - loss: 1.2128 - accuracy: 0.7147\n",
      "Epoch 47/50\n",
      "28/28 [==============================] - 0s 7ms/step - loss: 1.2097 - accuracy: 0.7147\n",
      "Epoch 48/50\n",
      "28/28 [==============================] - 0s 7ms/step - loss: 1.2069 - accuracy: 0.7147\n",
      "Epoch 49/50\n",
      "28/28 [==============================] - 0s 7ms/step - loss: 1.2043 - accuracy: 0.7147\n",
      "Epoch 50/50\n",
      "28/28 [==============================] - 0s 8ms/step - loss: 1.2018 - accuracy: 0.7147\n",
      "19/19 [==============================] - 0s 2ms/step\n",
      "0.7479131886477463\n"
     ]
    }
   ],
   "source": [
    "from sklearn.metrics import accuracy_score\n",
    "\n",
    "model.fit(x_train, y_train)\n",
    "y_pred = model.predict(x_test)\n",
    "y_test_ = np.argmax(y_test, axis=1) # 원핫인코딩 된 것 -> 몇번째 카테고리에 속하는지로 표현\n",
    "print(accuracy_score(y_pred, y_test_))"
   ]
  },
  {
   "cell_type": "markdown",
   "metadata": {},
   "source": [
    "## 함수 안쓰고 하는 방법"
   ]
  },
  {
   "cell_type": "code",
   "execution_count": 56,
   "metadata": {},
   "outputs": [],
   "source": [
    "model = Sequential()\n",
    "model.add(SimpleRNN(2, input_shape=(49,1), return_sequences=True))\n",
    "model.add(SimpleRNN(2, return_sequences=False))\n",
    "model.add(Dense(46, activation='softmax'))\n",
    "\n",
    "model.compile(loss='categorical_crossentropy', optimizer='adam', metrics=['accuracy'])"
   ]
  },
  {
   "cell_type": "code",
   "execution_count": 57,
   "metadata": {},
   "outputs": [
    {
     "name": "stdout",
     "output_type": "stream",
     "text": [
      "Epoch 1/50\n",
      "28/28 [==============================] - 1s 7ms/step - loss: 3.7478 - accuracy: 0.2588\n",
      "Epoch 2/50\n",
      "28/28 [==============================] - 0s 7ms/step - loss: 3.6482 - accuracy: 0.6530\n",
      "Epoch 3/50\n",
      "28/28 [==============================] - 0s 7ms/step - loss: 3.5343 - accuracy: 0.7147\n",
      "Epoch 4/50\n",
      "28/28 [==============================] - 0s 7ms/step - loss: 3.3968 - accuracy: 0.7147\n",
      "Epoch 5/50\n",
      "28/28 [==============================] - 0s 7ms/step - loss: 3.2356 - accuracy: 0.7147\n",
      "Epoch 6/50\n",
      "28/28 [==============================] - 0s 7ms/step - loss: 3.0548 - accuracy: 0.7147\n",
      "Epoch 7/50\n",
      "28/28 [==============================] - 0s 9ms/step - loss: 2.8651 - accuracy: 0.7147\n",
      "Epoch 8/50\n",
      "28/28 [==============================] - 0s 8ms/step - loss: 2.6841 - accuracy: 0.7147\n",
      "Epoch 9/50\n",
      "28/28 [==============================] - 0s 8ms/step - loss: 2.5192 - accuracy: 0.7147\n",
      "Epoch 10/50\n",
      "28/28 [==============================] - 0s 7ms/step - loss: 2.3726 - accuracy: 0.7147\n",
      "Epoch 11/50\n",
      "28/28 [==============================] - 0s 8ms/step - loss: 2.2428 - accuracy: 0.7147\n",
      "Epoch 12/50\n",
      "28/28 [==============================] - 0s 8ms/step - loss: 2.1275 - accuracy: 0.7147\n",
      "Epoch 13/50\n",
      "28/28 [==============================] - 0s 8ms/step - loss: 2.0245 - accuracy: 0.7147\n",
      "Epoch 14/50\n",
      "28/28 [==============================] - 0s 8ms/step - loss: 1.9328 - accuracy: 0.7147\n",
      "Epoch 15/50\n",
      "28/28 [==============================] - 0s 8ms/step - loss: 1.8511 - accuracy: 0.7147\n",
      "Epoch 16/50\n",
      "28/28 [==============================] - 0s 8ms/step - loss: 1.7775 - accuracy: 0.7147\n",
      "Epoch 17/50\n",
      "28/28 [==============================] - 0s 7ms/step - loss: 1.7124 - accuracy: 0.7147\n",
      "Epoch 18/50\n",
      "28/28 [==============================] - 0s 7ms/step - loss: 1.6540 - accuracy: 0.7147\n",
      "Epoch 19/50\n",
      "28/28 [==============================] - 0s 8ms/step - loss: 1.6021 - accuracy: 0.7147\n",
      "Epoch 20/50\n",
      "28/28 [==============================] - 0s 8ms/step - loss: 1.5565 - accuracy: 0.7147\n",
      "Epoch 21/50\n",
      "28/28 [==============================] - 0s 8ms/step - loss: 1.5152 - accuracy: 0.7147\n",
      "Epoch 22/50\n",
      "28/28 [==============================] - 0s 8ms/step - loss: 1.4789 - accuracy: 0.7147\n",
      "Epoch 23/50\n",
      "28/28 [==============================] - 0s 8ms/step - loss: 1.4468 - accuracy: 0.7147\n",
      "Epoch 24/50\n",
      "28/28 [==============================] - 0s 8ms/step - loss: 1.4185 - accuracy: 0.7147\n",
      "Epoch 25/50\n",
      "28/28 [==============================] - 0s 8ms/step - loss: 1.3932 - accuracy: 0.7147\n",
      "Epoch 26/50\n",
      "28/28 [==============================] - 0s 8ms/step - loss: 1.3710 - accuracy: 0.7147\n",
      "Epoch 27/50\n",
      "28/28 [==============================] - 0s 7ms/step - loss: 1.3515 - accuracy: 0.7147\n",
      "Epoch 28/50\n",
      "28/28 [==============================] - 0s 8ms/step - loss: 1.3338 - accuracy: 0.7147\n",
      "Epoch 29/50\n",
      "28/28 [==============================] - 0s 8ms/step - loss: 1.3185 - accuracy: 0.7147\n",
      "Epoch 30/50\n",
      "28/28 [==============================] - 0s 8ms/step - loss: 1.3045 - accuracy: 0.7147\n",
      "Epoch 31/50\n",
      "28/28 [==============================] - 0s 7ms/step - loss: 1.2925 - accuracy: 0.7147\n",
      "Epoch 32/50\n",
      "28/28 [==============================] - 0s 8ms/step - loss: 1.2815 - accuracy: 0.7147\n",
      "Epoch 33/50\n",
      "28/28 [==============================] - 0s 7ms/step - loss: 1.2717 - accuracy: 0.7147\n",
      "Epoch 34/50\n",
      "28/28 [==============================] - 0s 8ms/step - loss: 1.2631 - accuracy: 0.7147\n",
      "Epoch 35/50\n",
      "28/28 [==============================] - 0s 7ms/step - loss: 1.2552 - accuracy: 0.7147\n",
      "Epoch 36/50\n",
      "28/28 [==============================] - 0s 7ms/step - loss: 1.2481 - accuracy: 0.7147\n",
      "Epoch 37/50\n",
      "28/28 [==============================] - 0s 7ms/step - loss: 1.2418 - accuracy: 0.7147\n",
      "Epoch 38/50\n",
      "28/28 [==============================] - 0s 8ms/step - loss: 1.2360 - accuracy: 0.7147\n",
      "Epoch 39/50\n",
      "28/28 [==============================] - 0s 8ms/step - loss: 1.2308 - accuracy: 0.7147\n",
      "Epoch 40/50\n",
      "28/28 [==============================] - 0s 8ms/step - loss: 1.2259 - accuracy: 0.7147\n",
      "Epoch 41/50\n",
      "28/28 [==============================] - 0s 7ms/step - loss: 1.2217 - accuracy: 0.7147\n",
      "Epoch 42/50\n",
      "28/28 [==============================] - 0s 7ms/step - loss: 1.2177 - accuracy: 0.7147\n",
      "Epoch 43/50\n",
      "28/28 [==============================] - 0s 7ms/step - loss: 1.2140 - accuracy: 0.7147\n",
      "Epoch 44/50\n",
      "28/28 [==============================] - 0s 7ms/step - loss: 1.2107 - accuracy: 0.7147\n",
      "Epoch 45/50\n",
      "28/28 [==============================] - 0s 7ms/step - loss: 1.2076 - accuracy: 0.7147\n",
      "Epoch 46/50\n",
      "28/28 [==============================] - 0s 8ms/step - loss: 1.2048 - accuracy: 0.7147\n",
      "Epoch 47/50\n",
      "28/28 [==============================] - 0s 8ms/step - loss: 1.2021 - accuracy: 0.7147\n",
      "Epoch 48/50\n",
      "28/28 [==============================] - 0s 8ms/step - loss: 1.1998 - accuracy: 0.7147\n",
      "Epoch 49/50\n",
      "28/28 [==============================] - 0s 8ms/step - loss: 1.1975 - accuracy: 0.7147\n",
      "Epoch 50/50\n",
      "28/28 [==============================] - 0s 8ms/step - loss: 1.1955 - accuracy: 0.7147\n"
     ]
    },
    {
     "data": {
      "text/plain": [
       "<keras.callbacks.History at 0x1c9ed7585b0>"
      ]
     },
     "execution_count": 57,
     "metadata": {},
     "output_type": "execute_result"
    }
   ],
   "source": [
    "model.fit(x_train, y_train, epochs=50, batch_size=50, verbose=1)"
   ]
  },
  {
   "cell_type": "code",
   "execution_count": 58,
   "metadata": {},
   "outputs": [
    {
     "name": "stdout",
     "output_type": "stream",
     "text": [
      "19/19 [==============================] - 0s 2ms/step\n"
     ]
    }
   ],
   "source": [
    "y_pred = model.predict(x_test)"
   ]
  },
  {
   "cell_type": "code",
   "execution_count": 60,
   "metadata": {},
   "outputs": [],
   "source": [
    "y_pred_ = np.argmax(y_pred, axis=1)\n",
    "y_test_ = np.argmax(y_test, axis=1)"
   ]
  },
  {
   "cell_type": "code",
   "execution_count": 62,
   "metadata": {},
   "outputs": [
    {
     "name": "stdout",
     "output_type": "stream",
     "text": [
      "0.7479131886477463\n"
     ]
    }
   ],
   "source": [
    "print(accuracy_score(y_pred_, y_test_))"
   ]
  }
 ],
 "metadata": {
  "kernelspec": {
   "display_name": "Python 3.10.7 64-bit",
   "language": "python",
   "name": "python3"
  },
  "language_info": {
   "codemirror_mode": {
    "name": "ipython",
    "version": 3
   },
   "file_extension": ".py",
   "mimetype": "text/x-python",
   "name": "python",
   "nbconvert_exporter": "python",
   "pygments_lexer": "ipython3",
   "version": "3.10.7"
  },
  "orig_nbformat": 4,
  "vscode": {
   "interpreter": {
    "hash": "a27045bf5bf9047ebf3975ed17baacbf35043dbfcfadee1ce3b14e031ff2cf32"
   }
  }
 },
 "nbformat": 4,
 "nbformat_minor": 2
}
