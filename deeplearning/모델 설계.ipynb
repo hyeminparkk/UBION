{
 "cells": [
  {
   "cell_type": "markdown",
   "metadata": {},
   "source": [
    "# 데이터 불러오기"
   ]
  },
  {
   "cell_type": "code",
   "execution_count": 27,
   "metadata": {},
   "outputs": [],
   "source": [
    "import pandas as pd\n",
    "surgery = pd.read_csv('./datasets/ThoraricSurgery.csv', header=None)"
   ]
  },
  {
   "cell_type": "code",
   "execution_count": 28,
   "metadata": {},
   "outputs": [
    {
     "data": {
      "text/plain": [
       "0    400\n",
       "1     70\n",
       "Name: 17, dtype: int64"
      ]
     },
     "execution_count": 28,
     "metadata": {},
     "output_type": "execute_result"
    }
   ],
   "source": [
    "surgery[17].value_counts()"
   ]
  },
  {
   "cell_type": "code",
   "execution_count": 29,
   "metadata": {},
   "outputs": [],
   "source": [
    "X = surgery.drop(17, axis=1)\n",
    "y = surgery[[17]]"
   ]
  },
  {
   "cell_type": "markdown",
   "metadata": {},
   "source": [
    "# train / test 데이터 나누기"
   ]
  },
  {
   "cell_type": "code",
   "execution_count": 30,
   "metadata": {},
   "outputs": [],
   "source": [
    "from sklearn.model_selection import train_test_split\n",
    "\n",
    "X_train, X_test, y_train, y_test = train_test_split(X, y, test_size=0.2, random_state=11)"
   ]
  },
  {
   "cell_type": "markdown",
   "metadata": {},
   "source": [
    "# 딥러닝 구조 결정 & 실행\n",
    "- 은닉층 30개\n",
    "- 출력층 1개 -> 나머지 하나는 자동으로 결정"
   ]
  },
  {
   "cell_type": "code",
   "execution_count": 31,
   "metadata": {},
   "outputs": [],
   "source": [
    "import tensorflow\n",
    "import numpy as np\n",
    "\n",
    "np.random.seed(3)\n",
    "tensorflow.random.set_seed(3)"
   ]
  },
  {
   "cell_type": "code",
   "execution_count": 32,
   "metadata": {},
   "outputs": [],
   "source": [
    "from tensorflow.keras.models import Sequential\n",
    "from tensorflow.keras.layers import Dense\n",
    "\n",
    "model = Sequential()\n",
    "model.add(Dense(30, input_dim=17, activation='relu'))\n",
    "model.add(Dense(1, activation='sigmoid'))"
   ]
  },
  {
   "cell_type": "code",
   "execution_count": 38,
   "metadata": {},
   "outputs": [
    {
     "name": "stdout",
     "output_type": "stream",
     "text": [
      "Epoch 1/50\n",
      "38/38 [==============================] - 0s 773us/step - loss: 0.4484 - accuracy: 0.8457\n",
      "Epoch 2/50\n",
      "38/38 [==============================] - 0s 849us/step - loss: 0.4048 - accuracy: 0.8431\n",
      "Epoch 3/50\n",
      "38/38 [==============================] - 0s 858us/step - loss: 0.4274 - accuracy: 0.8431\n",
      "Epoch 4/50\n",
      "38/38 [==============================] - 0s 942us/step - loss: 0.4290 - accuracy: 0.8404\n",
      "Epoch 5/50\n",
      "38/38 [==============================] - 0s 840us/step - loss: 0.4459 - accuracy: 0.8351\n",
      "Epoch 6/50\n",
      "38/38 [==============================] - 0s 894us/step - loss: 0.4566 - accuracy: 0.8457\n",
      "Epoch 7/50\n",
      "38/38 [==============================] - 0s 893us/step - loss: 0.3930 - accuracy: 0.8457\n",
      "Epoch 8/50\n",
      "38/38 [==============================] - 0s 812us/step - loss: 0.3915 - accuracy: 0.8484\n",
      "Epoch 9/50\n",
      "38/38 [==============================] - 0s 786us/step - loss: 0.4152 - accuracy: 0.8537\n",
      "Epoch 10/50\n",
      "38/38 [==============================] - 0s 796us/step - loss: 0.4018 - accuracy: 0.8457\n",
      "Epoch 11/50\n",
      "38/38 [==============================] - 0s 730us/step - loss: 0.4118 - accuracy: 0.8457\n",
      "Epoch 12/50\n",
      "38/38 [==============================] - 0s 771us/step - loss: 0.4176 - accuracy: 0.8511\n",
      "Epoch 13/50\n",
      "38/38 [==============================] - 0s 784us/step - loss: 0.4286 - accuracy: 0.8324\n",
      "Epoch 14/50\n",
      "38/38 [==============================] - 0s 855us/step - loss: 0.3851 - accuracy: 0.8484\n",
      "Epoch 15/50\n",
      "38/38 [==============================] - 0s 767us/step - loss: 0.4135 - accuracy: 0.8484\n",
      "Epoch 16/50\n",
      "38/38 [==============================] - 0s 846us/step - loss: 0.3985 - accuracy: 0.8537\n",
      "Epoch 17/50\n",
      "38/38 [==============================] - 0s 778us/step - loss: 0.4058 - accuracy: 0.8564\n",
      "Epoch 18/50\n",
      "38/38 [==============================] - 0s 811us/step - loss: 0.3933 - accuracy: 0.8617\n",
      "Epoch 19/50\n",
      "38/38 [==============================] - 0s 732us/step - loss: 0.4114 - accuracy: 0.8431\n",
      "Epoch 20/50\n",
      "38/38 [==============================] - 0s 790us/step - loss: 0.4407 - accuracy: 0.8245\n",
      "Epoch 21/50\n",
      "38/38 [==============================] - 0s 810us/step - loss: 0.4608 - accuracy: 0.8351\n",
      "Epoch 22/50\n",
      "38/38 [==============================] - 0s 730us/step - loss: 0.3977 - accuracy: 0.8404\n",
      "Epoch 23/50\n",
      "38/38 [==============================] - 0s 795us/step - loss: 0.5354 - accuracy: 0.8191\n",
      "Epoch 24/50\n",
      "38/38 [==============================] - 0s 2ms/step - loss: 0.4369 - accuracy: 0.8617\n",
      "Epoch 25/50\n",
      "38/38 [==============================] - 0s 811us/step - loss: 0.4127 - accuracy: 0.8404\n",
      "Epoch 26/50\n",
      "38/38 [==============================] - 0s 892us/step - loss: 0.4007 - accuracy: 0.8644\n",
      "Epoch 27/50\n",
      "38/38 [==============================] - 0s 715us/step - loss: 0.4214 - accuracy: 0.8431\n",
      "Epoch 28/50\n",
      "38/38 [==============================] - 0s 765us/step - loss: 0.4016 - accuracy: 0.8484\n",
      "Epoch 29/50\n",
      "38/38 [==============================] - 0s 770us/step - loss: 0.3946 - accuracy: 0.8431\n",
      "Epoch 30/50\n",
      "38/38 [==============================] - 0s 745us/step - loss: 0.4718 - accuracy: 0.8378\n",
      "Epoch 31/50\n",
      "38/38 [==============================] - 0s 802us/step - loss: 0.3933 - accuracy: 0.8457\n",
      "Epoch 32/50\n",
      "38/38 [==============================] - 0s 757us/step - loss: 0.4059 - accuracy: 0.8511\n",
      "Epoch 33/50\n",
      "38/38 [==============================] - 0s 787us/step - loss: 0.4002 - accuracy: 0.8511\n",
      "Epoch 34/50\n",
      "38/38 [==============================] - 0s 817us/step - loss: 0.4361 - accuracy: 0.8457\n",
      "Epoch 35/50\n",
      "38/38 [==============================] - 0s 775us/step - loss: 0.5040 - accuracy: 0.8085\n",
      "Epoch 36/50\n",
      "38/38 [==============================] - 0s 784us/step - loss: 0.4092 - accuracy: 0.8511\n",
      "Epoch 37/50\n",
      "38/38 [==============================] - 0s 958us/step - loss: 0.3831 - accuracy: 0.8484\n",
      "Epoch 38/50\n",
      "38/38 [==============================] - 0s 729us/step - loss: 0.4374 - accuracy: 0.8564\n",
      "Epoch 39/50\n",
      "38/38 [==============================] - 0s 744us/step - loss: 0.4144 - accuracy: 0.8590\n",
      "Epoch 40/50\n",
      "38/38 [==============================] - 0s 822us/step - loss: 0.4150 - accuracy: 0.8298\n",
      "Epoch 41/50\n",
      "38/38 [==============================] - 0s 741us/step - loss: 0.4299 - accuracy: 0.8324\n",
      "Epoch 42/50\n",
      "38/38 [==============================] - 0s 804us/step - loss: 0.3792 - accuracy: 0.8457\n",
      "Epoch 43/50\n",
      "38/38 [==============================] - 0s 730us/step - loss: 0.4268 - accuracy: 0.8431\n",
      "Epoch 44/50\n",
      "38/38 [==============================] - 0s 766us/step - loss: 0.3969 - accuracy: 0.8484\n",
      "Epoch 45/50\n",
      "38/38 [==============================] - 0s 747us/step - loss: 0.4121 - accuracy: 0.8404\n",
      "Epoch 46/50\n",
      "38/38 [==============================] - 0s 744us/step - loss: 0.3727 - accuracy: 0.8590\n",
      "Epoch 47/50\n",
      "38/38 [==============================] - 0s 782us/step - loss: 0.3944 - accuracy: 0.8484\n",
      "Epoch 48/50\n",
      "38/38 [==============================] - 0s 824us/step - loss: 0.4251 - accuracy: 0.8431\n",
      "Epoch 49/50\n",
      "38/38 [==============================] - 0s 795us/step - loss: 0.4760 - accuracy: 0.8484\n",
      "Epoch 50/50\n",
      "38/38 [==============================] - 0s 759us/step - loss: 0.4076 - accuracy: 0.8564\n"
     ]
    }
   ],
   "source": [
    "# 정해진 모델을 컴퓨터가 알아들을 수 있게끔 컴파일\n",
    "model.compile(loss='binary_crossentropy', optimizer='adam', metrics=['accuracy'])\n",
    "\n",
    "# 모델 수행\n",
    "history = model.fit(X_train, y_train, epochs=50, batch_size=10)"
   ]
  },
  {
   "cell_type": "code",
   "execution_count": 39,
   "metadata": {},
   "outputs": [
    {
     "name": "stdout",
     "output_type": "stream",
     "text": [
      "Model: \"sequential_2\"\n",
      "_________________________________________________________________\n",
      " Layer (type)                Output Shape              Param #   \n",
      "=================================================================\n",
      " dense_4 (Dense)             (None, 30)                540       \n",
      "                                                                 \n",
      " dense_5 (Dense)             (None, 1)                 31        \n",
      "                                                                 \n",
      "=================================================================\n",
      "Total params: 571\n",
      "Trainable params: 571\n",
      "Non-trainable params: 0\n",
      "_________________________________________________________________\n"
     ]
    }
   ],
   "source": [
    "model.summary()"
   ]
  },
  {
   "cell_type": "code",
   "execution_count": 42,
   "metadata": {},
   "outputs": [],
   "source": [
    "acc = history.history['accuracy']\n",
    "loss = history.history['loss']"
   ]
  },
  {
   "cell_type": "code",
   "execution_count": 46,
   "metadata": {},
   "outputs": [
    {
     "data": {
      "image/png": "[encoded data removed]",
      "text/plain": [
       "<Figure size 640x480 with 1 Axes>"
      ]
     },
     "metadata": {},
     "output_type": "display_data"
    }
   ],
   "source": [
    "import matplotlib.pyplot as plt\n",
    "\n",
    "plt.plot(acc, label='accuracy')\n",
    "plt.plot(loss, label='loss')\n",
    "plt.legend()\n",
    "plt.show()"
   ]
  },
  {
   "cell_type": "markdown",
   "metadata": {},
   "source": [
    "## 예측 & 평가"
   ]
  },
  {
   "cell_type": "code",
   "execution_count": 48,
   "metadata": {},
   "outputs": [
    {
     "name": "stdout",
     "output_type": "stream",
     "text": [
      "3/3 [==============================] - 2s 2ms/step\n"
     ]
    },
    {
     "data": {
      "text/plain": [
       "array([[1.28786191e-01],\n",
       "       [1.03735350e-01],\n",
       "       [2.13683754e-01],\n",
       "       [3.66960466e-02],\n",
       "       [3.45087264e-10],\n",
       "       [2.36626923e-01],\n",
       "       [1.87522396e-01],\n",
       "       [3.91265601e-01],\n",
       "       [1.96498394e-01],\n",
       "       [1.16705827e-01],\n",
       "       [1.83609247e-01],\n",
       "       [3.05039771e-02],\n",
       "       [6.45105779e-01],\n",
       "       [1.63199171e-01],\n",
       "       [5.83258420e-02],\n",
       "       [4.77153398e-02],\n",
       "       [1.17696889e-01],\n",
       "       [2.08853379e-01],\n",
       "       [1.59248084e-01],\n",
       "       [3.57863046e-02],\n",
       "       [2.23533988e-01],\n",
       "       [1.67070150e-01],\n",
       "       [1.97944477e-01],\n",
       "       [2.70809323e-01],\n",
       "       [9.06088725e-02],\n",
       "       [1.88840166e-01],\n",
       "       [1.21611401e-01],\n",
       "       [6.29631951e-02],\n",
       "       [3.43191028e-02],\n",
       "       [1.38037801e-01],\n",
       "       [1.20247528e-01],\n",
       "       [6.20683692e-02],\n",
       "       [2.28855088e-01],\n",
       "       [1.91111490e-01],\n",
       "       [9.88014415e-02],\n",
       "       [5.38937673e-02],\n",
       "       [4.92304713e-02],\n",
       "       [3.79923344e-01],\n",
       "       [2.10920423e-01],\n",
       "       [1.67619750e-01],\n",
       "       [1.10888995e-01],\n",
       "       [1.27337888e-01],\n",
       "       [9.71256644e-02],\n",
       "       [8.52740780e-02],\n",
       "       [2.89019853e-01],\n",
       "       [1.42608508e-01],\n",
       "       [7.70720392e-02],\n",
       "       [7.03533068e-02],\n",
       "       [4.65482399e-02],\n",
       "       [2.14403629e-01],\n",
       "       [1.32462710e-01],\n",
       "       [4.80818788e-11],\n",
       "       [1.35733083e-01],\n",
       "       [9.96518284e-02],\n",
       "       [1.29752442e-01],\n",
       "       [2.37255856e-01],\n",
       "       [4.59126145e-01],\n",
       "       [1.71039596e-01],\n",
       "       [5.12058318e-01],\n",
       "       [6.74614618e-12],\n",
       "       [2.22010255e-01],\n",
       "       [7.63413683e-02],\n",
       "       [6.52965355e-07],\n",
       "       [1.10302605e-01],\n",
       "       [4.74117547e-02],\n",
       "       [1.18403733e-01],\n",
       "       [1.62473097e-01],\n",
       "       [1.95817783e-01],\n",
       "       [1.22582309e-01],\n",
       "       [1.26607507e-01],\n",
       "       [1.44508690e-01],\n",
       "       [1.19887933e-01],\n",
       "       [5.24077639e-02],\n",
       "       [3.44185531e-02],\n",
       "       [3.98068391e-02],\n",
       "       [1.05308011e-01],\n",
       "       [4.43602473e-01],\n",
       "       [6.95139989e-02],\n",
       "       [1.01885609e-01],\n",
       "       [6.06071129e-02],\n",
       "       [1.70838013e-01],\n",
       "       [1.64828584e-01],\n",
       "       [3.81620139e-01],\n",
       "       [1.01060703e-01],\n",
       "       [2.89111793e-01],\n",
       "       [3.03234130e-01],\n",
       "       [4.23011175e-11],\n",
       "       [3.02029133e-01],\n",
       "       [5.93846023e-01],\n",
       "       [1.80533797e-01],\n",
       "       [6.39377013e-02],\n",
       "       [1.65671557e-01],\n",
       "       [2.49122605e-02],\n",
       "       [4.47957329e-02]], dtype=float32)"
      ]
     },
     "execution_count": 48,
     "metadata": {},
     "output_type": "execute_result"
    }
   ],
   "source": [
    "model.predict(X_test)"
   ]
  },
  {
   "cell_type": "code",
   "execution_count": 49,
   "metadata": {},
   "outputs": [
    {
     "name": "stdout",
     "output_type": "stream",
     "text": [
      "3/3 [==============================] - 0s 2ms/step - loss: 0.6336 - accuracy: 0.8404\n"
     ]
    },
    {
     "data": {
      "text/plain": [
       "[0.6336330771446228, 0.8404255509376526]"
      ]
     },
     "execution_count": 49,
     "metadata": {},
     "output_type": "execute_result"
    }
   ],
   "source": [
    "model.evaluate(X_test, y_test)"
   ]
  },
  {
   "cell_type": "markdown",
   "metadata": {},
   "source": [
    "# Pima Indian (이진 분류)"
   ]
  },
  {
   "cell_type": "markdown",
   "metadata": {},
   "source": [
    "## 데이터 불러오기"
   ]
  },
  {
   "cell_type": "code",
   "execution_count": 57,
   "metadata": {},
   "outputs": [],
   "source": [
    "import pandas as pd\n",
    "import matplotlib.pyplot as plt\n",
    "import seaborn as sns\n",
    "\n",
    "df = pd.read_csv('./datasets/diabetes.csv')\n",
    "df.columns = [\"pregnant\",'plasma','pressure','thickness','insulin', 'BMI','pedigree','age','class']"
   ]
  },
  {
   "cell_type": "code",
   "execution_count": 60,
   "metadata": {},
   "outputs": [
    {
     "data": {
      "text/html": [
       "<div>\n",
       "<style scoped>\n",
       "    .dataframe tbody tr th:only-of-type {\n",
       "        vertical-align: middle;\n",
       "    }\n",
       "\n",
       "    .dataframe tbody tr th {\n",
       "        vertical-align: top;\n",
       "    }\n",
       "\n",
       "    .dataframe thead th {\n",
       "        text-align: right;\n",
       "    }\n",
       "</style>\n",
       "<table border=\"1\" class=\"dataframe\">\n",
       "  <thead>\n",
       "    <tr style=\"text-align: right;\">\n",
       "      <th></th>\n",
       "      <th>pregnant</th>\n",
       "      <th>plasma</th>\n",
       "      <th>pressure</th>\n",
       "      <th>thickness</th>\n",
       "      <th>insulin</th>\n",
       "      <th>BMI</th>\n",
       "      <th>pedigree</th>\n",
       "      <th>age</th>\n",
       "      <th>class</th>\n",
       "    </tr>\n",
       "  </thead>\n",
       "  <tbody>\n",
       "    <tr>\n",
       "      <th>count</th>\n",
       "      <td>768.000000</td>\n",
       "      <td>768.000000</td>\n",
       "      <td>768.000000</td>\n",
       "      <td>768.000000</td>\n",
       "      <td>768.000000</td>\n",
       "      <td>768.000000</td>\n",
       "      <td>768.000000</td>\n",
       "      <td>768.000000</td>\n",
       "      <td>768.000000</td>\n",
       "    </tr>\n",
       "    <tr>\n",
       "      <th>mean</th>\n",
       "      <td>3.845052</td>\n",
       "      <td>120.894531</td>\n",
       "      <td>69.105469</td>\n",
       "      <td>20.536458</td>\n",
       "      <td>79.799479</td>\n",
       "      <td>31.992578</td>\n",
       "      <td>0.471876</td>\n",
       "      <td>33.240885</td>\n",
       "      <td>0.348958</td>\n",
       "    </tr>\n",
       "    <tr>\n",
       "      <th>std</th>\n",
       "      <td>3.369578</td>\n",
       "      <td>31.972618</td>\n",
       "      <td>19.355807</td>\n",
       "      <td>15.952218</td>\n",
       "      <td>115.244002</td>\n",
       "      <td>7.884160</td>\n",
       "      <td>0.331329</td>\n",
       "      <td>11.760232</td>\n",
       "      <td>0.476951</td>\n",
       "    </tr>\n",
       "    <tr>\n",
       "      <th>min</th>\n",
       "      <td>0.000000</td>\n",
       "      <td>0.000000</td>\n",
       "      <td>0.000000</td>\n",
       "      <td>0.000000</td>\n",
       "      <td>0.000000</td>\n",
       "      <td>0.000000</td>\n",
       "      <td>0.078000</td>\n",
       "      <td>21.000000</td>\n",
       "      <td>0.000000</td>\n",
       "    </tr>\n",
       "    <tr>\n",
       "      <th>25%</th>\n",
       "      <td>1.000000</td>\n",
       "      <td>99.000000</td>\n",
       "      <td>62.000000</td>\n",
       "      <td>0.000000</td>\n",
       "      <td>0.000000</td>\n",
       "      <td>27.300000</td>\n",
       "      <td>0.243750</td>\n",
       "      <td>24.000000</td>\n",
       "      <td>0.000000</td>\n",
       "    </tr>\n",
       "    <tr>\n",
       "      <th>50%</th>\n",
       "      <td>3.000000</td>\n",
       "      <td>117.000000</td>\n",
       "      <td>72.000000</td>\n",
       "      <td>23.000000</td>\n",
       "      <td>30.500000</td>\n",
       "      <td>32.000000</td>\n",
       "      <td>0.372500</td>\n",
       "      <td>29.000000</td>\n",
       "      <td>0.000000</td>\n",
       "    </tr>\n",
       "    <tr>\n",
       "      <th>75%</th>\n",
       "      <td>6.000000</td>\n",
       "      <td>140.250000</td>\n",
       "      <td>80.000000</td>\n",
       "      <td>32.000000</td>\n",
       "      <td>127.250000</td>\n",
       "      <td>36.600000</td>\n",
       "      <td>0.626250</td>\n",
       "      <td>41.000000</td>\n",
       "      <td>1.000000</td>\n",
       "    </tr>\n",
       "    <tr>\n",
       "      <th>max</th>\n",
       "      <td>17.000000</td>\n",
       "      <td>199.000000</td>\n",
       "      <td>122.000000</td>\n",
       "      <td>99.000000</td>\n",
       "      <td>846.000000</td>\n",
       "      <td>67.100000</td>\n",
       "      <td>2.420000</td>\n",
       "      <td>81.000000</td>\n",
       "      <td>1.000000</td>\n",
       "    </tr>\n",
       "  </tbody>\n",
       "</table>\n",
       "</div>"
      ],
      "text/plain": [
       "         pregnant      plasma    pressure   thickness     insulin         BMI  \\\n",
       "count  768.000000  768.000000  768.000000  768.000000  768.000000  768.000000   \n",
       "mean     3.845052  120.894531   69.105469   20.536458   79.799479   31.992578   \n",
       "std      3.369578   31.972618   19.355807   15.952218  115.244002    7.884160   \n",
       "min      0.000000    0.000000    0.000000    0.000000    0.000000    0.000000   \n",
       "25%      1.000000   99.000000   62.000000    0.000000    0.000000   27.300000   \n",
       "50%      3.000000  117.000000   72.000000   23.000000   30.500000   32.000000   \n",
       "75%      6.000000  140.250000   80.000000   32.000000  127.250000   36.600000   \n",
       "max     17.000000  199.000000  122.000000   99.000000  846.000000   67.100000   \n",
       "\n",
       "         pedigree         age       class  \n",
       "count  768.000000  768.000000  768.000000  \n",
       "mean     0.471876   33.240885    0.348958  \n",
       "std      0.331329   11.760232    0.476951  \n",
       "min      0.078000   21.000000    0.000000  \n",
       "25%      0.243750   24.000000    0.000000  \n",
       "50%      0.372500   29.000000    0.000000  \n",
       "75%      0.626250   41.000000    1.000000  \n",
       "max      2.420000   81.000000    1.000000  "
      ]
     },
     "execution_count": 60,
     "metadata": {},
     "output_type": "execute_result"
    }
   ],
   "source": [
    "df.describe()"
   ]
  },
  {
   "cell_type": "markdown",
   "metadata": {},
   "source": [
    "## 임신 횟수 당 당뇨병 발병 확률"
   ]
  },
  {
   "cell_type": "code",
   "execution_count": 61,
   "metadata": {},
   "outputs": [
    {
     "data": {
      "text/html": [
       "<div>\n",
       "<style scoped>\n",
       "    .dataframe tbody tr th:only-of-type {\n",
       "        vertical-align: middle;\n",
       "    }\n",
       "\n",
       "    .dataframe tbody tr th {\n",
       "        vertical-align: top;\n",
       "    }\n",
       "\n",
       "    .dataframe thead th {\n",
       "        text-align: right;\n",
       "    }\n",
       "</style>\n",
       "<table border=\"1\" class=\"dataframe\">\n",
       "  <thead>\n",
       "    <tr style=\"text-align: right;\">\n",
       "      <th></th>\n",
       "      <th>pregnant</th>\n",
       "      <th>class</th>\n",
       "    </tr>\n",
       "  </thead>\n",
       "  <tbody>\n",
       "    <tr>\n",
       "      <th>0</th>\n",
       "      <td>0</td>\n",
       "      <td>0.342342</td>\n",
       "    </tr>\n",
       "    <tr>\n",
       "      <th>1</th>\n",
       "      <td>1</td>\n",
       "      <td>0.214815</td>\n",
       "    </tr>\n",
       "    <tr>\n",
       "      <th>2</th>\n",
       "      <td>2</td>\n",
       "      <td>0.184466</td>\n",
       "    </tr>\n",
       "    <tr>\n",
       "      <th>3</th>\n",
       "      <td>3</td>\n",
       "      <td>0.360000</td>\n",
       "    </tr>\n",
       "    <tr>\n",
       "      <th>4</th>\n",
       "      <td>4</td>\n",
       "      <td>0.338235</td>\n",
       "    </tr>\n",
       "    <tr>\n",
       "      <th>5</th>\n",
       "      <td>5</td>\n",
       "      <td>0.368421</td>\n",
       "    </tr>\n",
       "    <tr>\n",
       "      <th>6</th>\n",
       "      <td>6</td>\n",
       "      <td>0.320000</td>\n",
       "    </tr>\n",
       "    <tr>\n",
       "      <th>7</th>\n",
       "      <td>7</td>\n",
       "      <td>0.555556</td>\n",
       "    </tr>\n",
       "    <tr>\n",
       "      <th>8</th>\n",
       "      <td>8</td>\n",
       "      <td>0.578947</td>\n",
       "    </tr>\n",
       "    <tr>\n",
       "      <th>9</th>\n",
       "      <td>9</td>\n",
       "      <td>0.642857</td>\n",
       "    </tr>\n",
       "    <tr>\n",
       "      <th>10</th>\n",
       "      <td>10</td>\n",
       "      <td>0.416667</td>\n",
       "    </tr>\n",
       "    <tr>\n",
       "      <th>11</th>\n",
       "      <td>11</td>\n",
       "      <td>0.636364</td>\n",
       "    </tr>\n",
       "    <tr>\n",
       "      <th>12</th>\n",
       "      <td>12</td>\n",
       "      <td>0.444444</td>\n",
       "    </tr>\n",
       "    <tr>\n",
       "      <th>13</th>\n",
       "      <td>13</td>\n",
       "      <td>0.500000</td>\n",
       "    </tr>\n",
       "    <tr>\n",
       "      <th>14</th>\n",
       "      <td>14</td>\n",
       "      <td>1.000000</td>\n",
       "    </tr>\n",
       "    <tr>\n",
       "      <th>15</th>\n",
       "      <td>15</td>\n",
       "      <td>1.000000</td>\n",
       "    </tr>\n",
       "    <tr>\n",
       "      <th>16</th>\n",
       "      <td>17</td>\n",
       "      <td>1.000000</td>\n",
       "    </tr>\n",
       "  </tbody>\n",
       "</table>\n",
       "</div>"
      ],
      "text/plain": [
       "    pregnant     class\n",
       "0          0  0.342342\n",
       "1          1  0.214815\n",
       "2          2  0.184466\n",
       "3          3  0.360000\n",
       "4          4  0.338235\n",
       "5          5  0.368421\n",
       "6          6  0.320000\n",
       "7          7  0.555556\n",
       "8          8  0.578947\n",
       "9          9  0.642857\n",
       "10        10  0.416667\n",
       "11        11  0.636364\n",
       "12        12  0.444444\n",
       "13        13  0.500000\n",
       "14        14  1.000000\n",
       "15        15  1.000000\n",
       "16        17  1.000000"
      ]
     },
     "execution_count": 61,
     "metadata": {},
     "output_type": "execute_result"
    }
   ],
   "source": [
    "df[['pregnant', 'class']].groupby(['pregnant'], as_index=False).mean().sort_values(by='pregnant', ascending=True)"
   ]
  },
  {
   "cell_type": "markdown",
   "metadata": {},
   "source": [
    "## 데이터 간의 상관관계"
   ]
  },
  {
   "cell_type": "code",
   "execution_count": 63,
   "metadata": {},
   "outputs": [
    {
     "data": {
      "text/plain": [
       "<AxesSubplot: >"
      ]
     },
     "execution_count": 63,
     "metadata": {},
     "output_type": "execute_result"
    },
    {
     "data": {
      "image/png": "[encoded data removed]",
      "text/plain": [
       "<Figure size 640x480 with 2 Axes>"
      ]
     },
     "metadata": {},
     "output_type": "display_data"
    }
   ],
   "source": [
    "sns.heatmap(df.corr(), linewidths=0.1, vmax=0.5, annot=True)"
   ]
  },
  {
   "cell_type": "markdown",
   "metadata": {},
   "source": [
    "## plasma와 class 관계 시각화"
   ]
  },
  {
   "cell_type": "code",
   "execution_count": 69,
   "metadata": {},
   "outputs": [
    {
     "data": {
      "image/png": "[encoded data removed]",
      "text/plain": [
       "<Figure size 600x300 with 2 Axes>"
      ]
     },
     "metadata": {},
     "output_type": "display_data"
    }
   ],
   "source": [
    "grid = sns.FacetGrid(df, col='class')\n",
    "grid.map(plt.hist, 'plasma', bins=10)\n",
    "plt.show()"
   ]
  },
  {
   "cell_type": "markdown",
   "metadata": {},
   "source": [
    "## 모델 설정"
   ]
  },
  {
   "cell_type": "code",
   "execution_count": 70,
   "metadata": {},
   "outputs": [],
   "source": [
    "from tensorflow.keras.models import Sequential\n",
    "from tensorflow.keras.layers import Dense\n",
    "\n",
    "import numpy as np\n",
    "import tensorflow as tf\n",
    "\n",
    "np.random.seed(3)\n",
    "tf.random.set_seed(3)"
   ]
  },
  {
   "cell_type": "code",
   "execution_count": 72,
   "metadata": {},
   "outputs": [],
   "source": [
    "X = df.drop('class', axis=1)\n",
    "y = df[['class']]"
   ]
  },
  {
   "cell_type": "code",
   "execution_count": 74,
   "metadata": {},
   "outputs": [],
   "source": [
    "model = Sequential()\n",
    "model.add(Dense(12, input_dim=8, activation='relu'))\n",
    "model.add(Dense(8, activation='relu'))\n",
    "model.add(Dense(1, activation='sigmoid'))"
   ]
  },
  {
   "cell_type": "markdown",
   "metadata": {},
   "source": [
    "## 모델 컴파일 & 실행"
   ]
  },
  {
   "cell_type": "code",
   "execution_count": 75,
   "metadata": {},
   "outputs": [
    {
     "name": "stdout",
     "output_type": "stream",
     "text": [
      "Epoch 1/100\n",
      "77/77 [==============================] - 0s 1ms/step - loss: 4.4176 - accuracy: 0.5781\n",
      "Epoch 2/100\n",
      "77/77 [==============================] - 0s 1ms/step - loss: 1.9462 - accuracy: 0.6328\n",
      "Epoch 3/100\n",
      "77/77 [==============================] - 0s 2ms/step - loss: 1.5164 - accuracy: 0.6576\n",
      "Epoch 4/100\n",
      "77/77 [==============================] - 0s 1ms/step - loss: 1.2278 - accuracy: 0.6680\n",
      "Epoch 5/100\n",
      "77/77 [==============================] - 0s 953us/step - loss: 1.0377 - accuracy: 0.6549\n",
      "Epoch 6/100\n",
      "77/77 [==============================] - 0s 1ms/step - loss: 1.0075 - accuracy: 0.6562\n",
      "Epoch 7/100\n",
      "77/77 [==============================] - 0s 1ms/step - loss: 0.8789 - accuracy: 0.6862\n",
      "Epoch 8/100\n",
      "77/77 [==============================] - 0s 881us/step - loss: 0.8094 - accuracy: 0.6836\n",
      "Epoch 9/100\n",
      "77/77 [==============================] - 0s 934us/step - loss: 0.7578 - accuracy: 0.6784\n",
      "Epoch 10/100\n",
      "77/77 [==============================] - 0s 969us/step - loss: 0.7165 - accuracy: 0.7018\n",
      "Epoch 11/100\n",
      "77/77 [==============================] - 0s 915us/step - loss: 0.7106 - accuracy: 0.6771\n",
      "Epoch 12/100\n",
      "77/77 [==============================] - 0s 918us/step - loss: 0.7057 - accuracy: 0.6771\n",
      "Epoch 13/100\n",
      "77/77 [==============================] - 0s 956us/step - loss: 0.6770 - accuracy: 0.6979\n",
      "Epoch 14/100\n",
      "77/77 [==============================] - 0s 941us/step - loss: 0.7271 - accuracy: 0.6589\n",
      "Epoch 15/100\n",
      "77/77 [==============================] - 0s 913us/step - loss: 0.5990 - accuracy: 0.7214\n",
      "Epoch 16/100\n",
      "77/77 [==============================] - 0s 922us/step - loss: 0.6447 - accuracy: 0.6849\n",
      "Epoch 17/100\n",
      "77/77 [==============================] - 0s 894us/step - loss: 0.6301 - accuracy: 0.6992\n",
      "Epoch 18/100\n",
      "77/77 [==============================] - 0s 925us/step - loss: 0.5903 - accuracy: 0.7253\n",
      "Epoch 19/100\n",
      "77/77 [==============================] - 0s 893us/step - loss: 0.6542 - accuracy: 0.6992\n",
      "Epoch 20/100\n",
      "77/77 [==============================] - 0s 882us/step - loss: 0.6165 - accuracy: 0.7018\n",
      "Epoch 21/100\n",
      "77/77 [==============================] - 0s 929us/step - loss: 0.6186 - accuracy: 0.6966\n",
      "Epoch 22/100\n",
      "77/77 [==============================] - 0s 879us/step - loss: 0.5885 - accuracy: 0.7135\n",
      "Epoch 23/100\n",
      "77/77 [==============================] - 0s 899us/step - loss: 0.6195 - accuracy: 0.6966\n",
      "Epoch 24/100\n",
      "77/77 [==============================] - 0s 896us/step - loss: 0.5648 - accuracy: 0.7266\n",
      "Epoch 25/100\n",
      "77/77 [==============================] - 0s 1ms/step - loss: 0.5967 - accuracy: 0.7174\n",
      "Epoch 26/100\n",
      "77/77 [==============================] - 0s 1ms/step - loss: 0.5895 - accuracy: 0.7018\n",
      "Epoch 27/100\n",
      "77/77 [==============================] - 0s 1ms/step - loss: 0.6206 - accuracy: 0.7109\n",
      "Epoch 28/100\n",
      "77/77 [==============================] - 0s 913us/step - loss: 0.6168 - accuracy: 0.6966\n",
      "Epoch 29/100\n",
      "77/77 [==============================] - 0s 882us/step - loss: 0.6448 - accuracy: 0.7044\n",
      "Epoch 30/100\n",
      "77/77 [==============================] - 0s 985us/step - loss: 0.5808 - accuracy: 0.7253\n",
      "Epoch 31/100\n",
      "77/77 [==============================] - 0s 1ms/step - loss: 0.5575 - accuracy: 0.7279\n",
      "Epoch 32/100\n",
      "77/77 [==============================] - 0s 949us/step - loss: 0.5514 - accuracy: 0.7396\n",
      "Epoch 33/100\n",
      "77/77 [==============================] - 0s 899us/step - loss: 0.5801 - accuracy: 0.7070\n",
      "Epoch 34/100\n",
      "77/77 [==============================] - 0s 907us/step - loss: 0.6243 - accuracy: 0.7161\n",
      "Epoch 35/100\n",
      "77/77 [==============================] - 0s 943us/step - loss: 0.5534 - accuracy: 0.7253\n",
      "Epoch 36/100\n",
      "77/77 [==============================] - 0s 946us/step - loss: 0.5603 - accuracy: 0.7240\n",
      "Epoch 37/100\n",
      "77/77 [==============================] - 0s 868us/step - loss: 0.6113 - accuracy: 0.7109\n",
      "Epoch 38/100\n",
      "77/77 [==============================] - 0s 928us/step - loss: 0.6058 - accuracy: 0.7161\n",
      "Epoch 39/100\n",
      "77/77 [==============================] - 0s 904us/step - loss: 0.5705 - accuracy: 0.7148\n",
      "Epoch 40/100\n",
      "77/77 [==============================] - 0s 883us/step - loss: 0.5551 - accuracy: 0.7174\n",
      "Epoch 41/100\n",
      "77/77 [==============================] - 0s 899us/step - loss: 0.5824 - accuracy: 0.7188\n",
      "Epoch 42/100\n",
      "77/77 [==============================] - 0s 907us/step - loss: 0.5462 - accuracy: 0.7461\n",
      "Epoch 43/100\n",
      "77/77 [==============================] - 0s 940us/step - loss: 0.5717 - accuracy: 0.7279\n",
      "Epoch 44/100\n",
      "77/77 [==============================] - 0s 882us/step - loss: 0.5602 - accuracy: 0.7266\n",
      "Epoch 45/100\n",
      "77/77 [==============================] - 0s 908us/step - loss: 0.5509 - accuracy: 0.7435\n",
      "Epoch 46/100\n",
      "77/77 [==============================] - 0s 927us/step - loss: 0.5557 - accuracy: 0.7357\n",
      "Epoch 47/100\n",
      "77/77 [==============================] - 0s 974us/step - loss: 0.5989 - accuracy: 0.7005\n",
      "Epoch 48/100\n",
      "77/77 [==============================] - 0s 899us/step - loss: 0.5412 - accuracy: 0.7383\n",
      "Epoch 49/100\n",
      "77/77 [==============================] - 0s 965us/step - loss: 0.5639 - accuracy: 0.7135\n",
      "Epoch 50/100\n",
      "77/77 [==============================] - 0s 1ms/step - loss: 0.5481 - accuracy: 0.7331\n",
      "Epoch 51/100\n",
      "77/77 [==============================] - 0s 1ms/step - loss: 0.5478 - accuracy: 0.7240\n",
      "Epoch 52/100\n",
      "77/77 [==============================] - 0s 844us/step - loss: 0.5399 - accuracy: 0.7331\n",
      "Epoch 53/100\n",
      "77/77 [==============================] - 0s 874us/step - loss: 0.5422 - accuracy: 0.7357\n",
      "Epoch 54/100\n",
      "77/77 [==============================] - 0s 903us/step - loss: 0.6054 - accuracy: 0.7161\n",
      "Epoch 55/100\n",
      "77/77 [==============================] - 0s 963us/step - loss: 0.5767 - accuracy: 0.7174\n",
      "Epoch 56/100\n",
      "77/77 [==============================] - 0s 891us/step - loss: 0.5590 - accuracy: 0.7227\n",
      "Epoch 57/100\n",
      "77/77 [==============================] - 0s 922us/step - loss: 0.6078 - accuracy: 0.6888\n",
      "Epoch 58/100\n",
      "77/77 [==============================] - 0s 936us/step - loss: 0.5608 - accuracy: 0.7344\n",
      "Epoch 59/100\n",
      "77/77 [==============================] - 0s 923us/step - loss: 0.5587 - accuracy: 0.7214\n",
      "Epoch 60/100\n",
      "77/77 [==============================] - 0s 890us/step - loss: 0.5826 - accuracy: 0.7109\n",
      "Epoch 61/100\n",
      "77/77 [==============================] - 0s 856us/step - loss: 0.5893 - accuracy: 0.7174\n",
      "Epoch 62/100\n",
      "77/77 [==============================] - 0s 937us/step - loss: 0.5257 - accuracy: 0.7266\n",
      "Epoch 63/100\n",
      "77/77 [==============================] - 0s 988us/step - loss: 0.5316 - accuracy: 0.7487\n",
      "Epoch 64/100\n",
      "77/77 [==============================] - 0s 1ms/step - loss: 0.5359 - accuracy: 0.7227\n",
      "Epoch 65/100\n",
      "77/77 [==============================] - 0s 1ms/step - loss: 0.5525 - accuracy: 0.7500\n",
      "Epoch 66/100\n",
      "77/77 [==============================] - 0s 1ms/step - loss: 0.5275 - accuracy: 0.7552\n",
      "Epoch 67/100\n",
      "77/77 [==============================] - 0s 998us/step - loss: 0.5240 - accuracy: 0.7487\n",
      "Epoch 68/100\n",
      "77/77 [==============================] - 0s 933us/step - loss: 0.5283 - accuracy: 0.7500\n",
      "Epoch 69/100\n",
      "77/77 [==============================] - 0s 957us/step - loss: 0.5069 - accuracy: 0.7526\n",
      "Epoch 70/100\n",
      "77/77 [==============================] - 0s 961us/step - loss: 0.5319 - accuracy: 0.7383\n",
      "Epoch 71/100\n",
      "77/77 [==============================] - 0s 943us/step - loss: 0.5272 - accuracy: 0.7409\n",
      "Epoch 72/100\n",
      "77/77 [==============================] - 0s 1ms/step - loss: 0.5635 - accuracy: 0.7227\n",
      "Epoch 73/100\n",
      "77/77 [==============================] - 0s 2ms/step - loss: 0.5080 - accuracy: 0.7435\n",
      "Epoch 74/100\n",
      "77/77 [==============================] - 0s 1ms/step - loss: 0.5183 - accuracy: 0.7513\n",
      "Epoch 75/100\n",
      "77/77 [==============================] - 0s 2ms/step - loss: 0.5450 - accuracy: 0.7422\n",
      "Epoch 76/100\n",
      "77/77 [==============================] - 0s 1ms/step - loss: 0.5596 - accuracy: 0.7174\n",
      "Epoch 77/100\n",
      "77/77 [==============================] - 0s 1ms/step - loss: 0.5718 - accuracy: 0.7161\n",
      "Epoch 78/100\n",
      "77/77 [==============================] - 0s 1ms/step - loss: 0.5596 - accuracy: 0.7396\n",
      "Epoch 79/100\n",
      "77/77 [==============================] - 0s 2ms/step - loss: 0.5901 - accuracy: 0.7096\n",
      "Epoch 80/100\n",
      "77/77 [==============================] - 0s 2ms/step - loss: 0.6278 - accuracy: 0.7148\n",
      "Epoch 81/100\n",
      "77/77 [==============================] - 0s 2ms/step - loss: 0.5730 - accuracy: 0.7214\n",
      "Epoch 82/100\n",
      "77/77 [==============================] - 0s 2ms/step - loss: 0.5084 - accuracy: 0.7617\n",
      "Epoch 83/100\n",
      "77/77 [==============================] - 0s 934us/step - loss: 0.5168 - accuracy: 0.7617\n",
      "Epoch 84/100\n",
      "77/77 [==============================] - 0s 948us/step - loss: 0.5276 - accuracy: 0.7500\n",
      "Epoch 85/100\n",
      "77/77 [==============================] - 0s 2ms/step - loss: 0.5382 - accuracy: 0.7396\n",
      "Epoch 86/100\n",
      "77/77 [==============================] - 0s 1ms/step - loss: 0.5074 - accuracy: 0.7526\n",
      "Epoch 87/100\n",
      "77/77 [==============================] - 0s 1ms/step - loss: 0.5474 - accuracy: 0.7344\n",
      "Epoch 88/100\n",
      "77/77 [==============================] - 0s 1ms/step - loss: 0.5315 - accuracy: 0.7383\n",
      "Epoch 89/100\n",
      "77/77 [==============================] - 0s 1ms/step - loss: 0.5793 - accuracy: 0.7305\n",
      "Epoch 90/100\n",
      "77/77 [==============================] - 0s 1ms/step - loss: 0.5172 - accuracy: 0.7539\n",
      "Epoch 91/100\n",
      "77/77 [==============================] - 0s 927us/step - loss: 0.5087 - accuracy: 0.7448\n",
      "Epoch 92/100\n",
      "77/77 [==============================] - 0s 2ms/step - loss: 0.5159 - accuracy: 0.7552\n",
      "Epoch 93/100\n",
      "77/77 [==============================] - 0s 2ms/step - loss: 0.5811 - accuracy: 0.7357\n",
      "Epoch 94/100\n",
      "77/77 [==============================] - 0s 2ms/step - loss: 0.5636 - accuracy: 0.7318\n",
      "Epoch 95/100\n",
      "77/77 [==============================] - 0s 995us/step - loss: 0.5084 - accuracy: 0.7474\n",
      "Epoch 96/100\n",
      "77/77 [==============================] - 0s 1ms/step - loss: 0.5035 - accuracy: 0.7682\n",
      "Epoch 97/100\n",
      "77/77 [==============================] - 0s 969us/step - loss: 0.5220 - accuracy: 0.7383\n",
      "Epoch 98/100\n",
      "77/77 [==============================] - 0s 1ms/step - loss: 0.5558 - accuracy: 0.7240\n",
      "Epoch 99/100\n",
      "77/77 [==============================] - 0s 1ms/step - loss: 0.5916 - accuracy: 0.7422\n",
      "Epoch 100/100\n",
      "77/77 [==============================] - 0s 1ms/step - loss: 0.5190 - accuracy: 0.7487\n"
     ]
    },
    {
     "data": {
      "text/plain": [
       "<keras.callbacks.History at 0x2063217ee30>"
      ]
     },
     "execution_count": 75,
     "metadata": {},
     "output_type": "execute_result"
    }
   ],
   "source": [
    "# 모델 컴파일\n",
    "model.compile(loss='binary_crossentropy', optimizer='adam', metrics=['accuracy'])\n",
    "\n",
    "# 모델 실행\n",
    "model.fit(X, y, epochs=100, batch_size=10)"
   ]
  },
  {
   "cell_type": "code",
   "execution_count": 76,
   "metadata": {},
   "outputs": [
    {
     "name": "stdout",
     "output_type": "stream",
     "text": [
      "24/24 [==============================] - 0s 2ms/step - loss: 0.4830 - accuracy: 0.7708\n",
      "\n",
      " Accuracy: 0.7708\n"
     ]
    }
   ],
   "source": [
    "print('\\n Accuracy: %.4f' % (model.evaluate(X,y)[1]))"
   ]
  },
  {
   "cell_type": "markdown",
   "metadata": {},
   "source": [
    "# IRIS 데이터 (다중 분류)"
   ]
  },
  {
   "cell_type": "markdown",
   "metadata": {},
   "source": [
    "## 데이터 불러오기"
   ]
  },
  {
   "cell_type": "code",
   "execution_count": 99,
   "metadata": {},
   "outputs": [],
   "source": [
    "from sklearn.datasets import load_iris\n",
    "from tensorflow.keras.models import Sequential\n",
    "from tensorflow.keras.layers import Dense\n",
    "from sklearn.preprocessing import LabelEncoder\n",
    "\n",
    "import pandas as pd\n",
    "import seaborn as sns\n",
    "import matplotlib.pyplot as plt\n",
    "import numpy as np\n",
    "import tensorflow as tf"
   ]
  },
  {
   "cell_type": "code",
   "execution_count": 100,
   "metadata": {},
   "outputs": [],
   "source": [
    "np.random.seed(3)\n",
    "tf.random.set_seed(3)"
   ]
  },
  {
   "cell_type": "code",
   "execution_count": 101,
   "metadata": {},
   "outputs": [],
   "source": [
    "df = load_iris()\n",
    "X = df.data\n",
    "y = df.target"
   ]
  },
  {
   "cell_type": "markdown",
   "metadata": {},
   "source": [
    "## y값 원핫인코딩"
   ]
  },
  {
   "cell_type": "code",
   "execution_count": 102,
   "metadata": {},
   "outputs": [
    {
     "data": {
      "text/plain": [
       "array([[1., 0., 0.],\n",
       "       [1., 0., 0.],\n",
       "       [1., 0., 0.],\n",
       "       [1., 0., 0.],\n",
       "       [1., 0., 0.],\n",
       "       [1., 0., 0.],\n",
       "       [1., 0., 0.],\n",
       "       [1., 0., 0.],\n",
       "       [1., 0., 0.],\n",
       "       [1., 0., 0.],\n",
       "       [1., 0., 0.],\n",
       "       [1., 0., 0.],\n",
       "       [1., 0., 0.],\n",
       "       [1., 0., 0.],\n",
       "       [1., 0., 0.],\n",
       "       [1., 0., 0.],\n",
       "       [1., 0., 0.],\n",
       "       [1., 0., 0.],\n",
       "       [1., 0., 0.],\n",
       "       [1., 0., 0.],\n",
       "       [1., 0., 0.],\n",
       "       [1., 0., 0.],\n",
       "       [1., 0., 0.],\n",
       "       [1., 0., 0.],\n",
       "       [1., 0., 0.],\n",
       "       [1., 0., 0.],\n",
       "       [1., 0., 0.],\n",
       "       [1., 0., 0.],\n",
       "       [1., 0., 0.],\n",
       "       [1., 0., 0.],\n",
       "       [1., 0., 0.],\n",
       "       [1., 0., 0.],\n",
       "       [1., 0., 0.],\n",
       "       [1., 0., 0.],\n",
       "       [1., 0., 0.],\n",
       "       [1., 0., 0.],\n",
       "       [1., 0., 0.],\n",
       "       [1., 0., 0.],\n",
       "       [1., 0., 0.],\n",
       "       [1., 0., 0.],\n",
       "       [1., 0., 0.],\n",
       "       [1., 0., 0.],\n",
       "       [1., 0., 0.],\n",
       "       [1., 0., 0.],\n",
       "       [1., 0., 0.],\n",
       "       [1., 0., 0.],\n",
       "       [1., 0., 0.],\n",
       "       [1., 0., 0.],\n",
       "       [1., 0., 0.],\n",
       "       [1., 0., 0.],\n",
       "       [0., 1., 0.],\n",
       "       [0., 1., 0.],\n",
       "       [0., 1., 0.],\n",
       "       [0., 1., 0.],\n",
       "       [0., 1., 0.],\n",
       "       [0., 1., 0.],\n",
       "       [0., 1., 0.],\n",
       "       [0., 1., 0.],\n",
       "       [0., 1., 0.],\n",
       "       [0., 1., 0.],\n",
       "       [0., 1., 0.],\n",
       "       [0., 1., 0.],\n",
       "       [0., 1., 0.],\n",
       "       [0., 1., 0.],\n",
       "       [0., 1., 0.],\n",
       "       [0., 1., 0.],\n",
       "       [0., 1., 0.],\n",
       "       [0., 1., 0.],\n",
       "       [0., 1., 0.],\n",
       "       [0., 1., 0.],\n",
       "       [0., 1., 0.],\n",
       "       [0., 1., 0.],\n",
       "       [0., 1., 0.],\n",
       "       [0., 1., 0.],\n",
       "       [0., 1., 0.],\n",
       "       [0., 1., 0.],\n",
       "       [0., 1., 0.],\n",
       "       [0., 1., 0.],\n",
       "       [0., 1., 0.],\n",
       "       [0., 1., 0.],\n",
       "       [0., 1., 0.],\n",
       "       [0., 1., 0.],\n",
       "       [0., 1., 0.],\n",
       "       [0., 1., 0.],\n",
       "       [0., 1., 0.],\n",
       "       [0., 1., 0.],\n",
       "       [0., 1., 0.],\n",
       "       [0., 1., 0.],\n",
       "       [0., 1., 0.],\n",
       "       [0., 1., 0.],\n",
       "       [0., 1., 0.],\n",
       "       [0., 1., 0.],\n",
       "       [0., 1., 0.],\n",
       "       [0., 1., 0.],\n",
       "       [0., 1., 0.],\n",
       "       [0., 1., 0.],\n",
       "       [0., 1., 0.],\n",
       "       [0., 1., 0.],\n",
       "       [0., 1., 0.],\n",
       "       [0., 1., 0.],\n",
       "       [0., 0., 1.],\n",
       "       [0., 0., 1.],\n",
       "       [0., 0., 1.],\n",
       "       [0., 0., 1.],\n",
       "       [0., 0., 1.],\n",
       "       [0., 0., 1.],\n",
       "       [0., 0., 1.],\n",
       "       [0., 0., 1.],\n",
       "       [0., 0., 1.],\n",
       "       [0., 0., 1.],\n",
       "       [0., 0., 1.],\n",
       "       [0., 0., 1.],\n",
       "       [0., 0., 1.],\n",
       "       [0., 0., 1.],\n",
       "       [0., 0., 1.],\n",
       "       [0., 0., 1.],\n",
       "       [0., 0., 1.],\n",
       "       [0., 0., 1.],\n",
       "       [0., 0., 1.],\n",
       "       [0., 0., 1.],\n",
       "       [0., 0., 1.],\n",
       "       [0., 0., 1.],\n",
       "       [0., 0., 1.],\n",
       "       [0., 0., 1.],\n",
       "       [0., 0., 1.],\n",
       "       [0., 0., 1.],\n",
       "       [0., 0., 1.],\n",
       "       [0., 0., 1.],\n",
       "       [0., 0., 1.],\n",
       "       [0., 0., 1.],\n",
       "       [0., 0., 1.],\n",
       "       [0., 0., 1.],\n",
       "       [0., 0., 1.],\n",
       "       [0., 0., 1.],\n",
       "       [0., 0., 1.],\n",
       "       [0., 0., 1.],\n",
       "       [0., 0., 1.],\n",
       "       [0., 0., 1.],\n",
       "       [0., 0., 1.],\n",
       "       [0., 0., 1.],\n",
       "       [0., 0., 1.],\n",
       "       [0., 0., 1.],\n",
       "       [0., 0., 1.],\n",
       "       [0., 0., 1.],\n",
       "       [0., 0., 1.],\n",
       "       [0., 0., 1.],\n",
       "       [0., 0., 1.],\n",
       "       [0., 0., 1.],\n",
       "       [0., 0., 1.],\n",
       "       [0., 0., 1.]], dtype=float32)"
      ]
     },
     "execution_count": 102,
     "metadata": {},
     "output_type": "execute_result"
    }
   ],
   "source": [
    "from tensorflow.keras.utils import to_categorical\n",
    "\n",
    "y_encoded = to_categorical(y)\n",
    "y_encoded"
   ]
  },
  {
   "cell_type": "markdown",
   "metadata": {},
   "source": [
    "## 모델 설정"
   ]
  },
  {
   "cell_type": "code",
   "execution_count": 103,
   "metadata": {},
   "outputs": [],
   "source": [
    "model = Sequential()\n",
    "model.add(Dense(16, input_dim=4, activation='relu'))\n",
    "model.add(Dense(3, activation='softmax'))"
   ]
  },
  {
   "cell_type": "markdown",
   "metadata": {},
   "source": [
    "## 모델 컴파일 후 실행"
   ]
  },
  {
   "cell_type": "code",
   "execution_count": 104,
   "metadata": {},
   "outputs": [
    {
     "name": "stdout",
     "output_type": "stream",
     "text": [
      "Epoch 1/50\n",
      "150/150 [==============================] - 1s 2ms/step - loss: 1.7011 - accuracy: 0.5533\n",
      "Epoch 2/50\n",
      "150/150 [==============================] - 0s 2ms/step - loss: 0.8171 - accuracy: 0.6333\n",
      "Epoch 3/50\n",
      "150/150 [==============================] - 0s 2ms/step - loss: 0.6672 - accuracy: 0.6600\n",
      "Epoch 4/50\n",
      "150/150 [==============================] - 0s 2ms/step - loss: 0.5895 - accuracy: 0.6667\n",
      "Epoch 5/50\n",
      "150/150 [==============================] - 0s 2ms/step - loss: 0.5293 - accuracy: 0.7267\n",
      "Epoch 6/50\n",
      "150/150 [==============================] - 0s 2ms/step - loss: 0.4778 - accuracy: 0.8533\n",
      "Epoch 7/50\n",
      "150/150 [==============================] - 0s 2ms/step - loss: 0.4383 - accuracy: 0.8733\n",
      "Epoch 8/50\n",
      "150/150 [==============================] - 0s 2ms/step - loss: 0.4174 - accuracy: 0.8933\n",
      "Epoch 9/50\n",
      "150/150 [==============================] - 0s 2ms/step - loss: 0.3889 - accuracy: 0.9200\n",
      "Epoch 10/50\n",
      "150/150 [==============================] - 0s 2ms/step - loss: 0.3662 - accuracy: 0.9333\n",
      "Epoch 11/50\n",
      "150/150 [==============================] - 0s 1ms/step - loss: 0.3402 - accuracy: 0.9400\n",
      "Epoch 12/50\n",
      "150/150 [==============================] - 0s 1ms/step - loss: 0.3177 - accuracy: 0.9400\n",
      "Epoch 13/50\n",
      "150/150 [==============================] - 0s 2ms/step - loss: 0.3119 - accuracy: 0.9267\n",
      "Epoch 14/50\n",
      "150/150 [==============================] - 0s 1ms/step - loss: 0.2892 - accuracy: 0.9467\n",
      "Epoch 15/50\n",
      "150/150 [==============================] - 0s 1ms/step - loss: 0.2747 - accuracy: 0.9467\n",
      "Epoch 16/50\n",
      "150/150 [==============================] - 0s 1ms/step - loss: 0.2616 - accuracy: 0.9533\n",
      "Epoch 17/50\n",
      "150/150 [==============================] - 0s 1ms/step - loss: 0.2524 - accuracy: 0.9533\n",
      "Epoch 18/50\n",
      "150/150 [==============================] - 0s 2ms/step - loss: 0.2498 - accuracy: 0.9333\n",
      "Epoch 19/50\n",
      "150/150 [==============================] - 0s 2ms/step - loss: 0.2256 - accuracy: 0.9667\n",
      "Epoch 20/50\n",
      "150/150 [==============================] - 0s 2ms/step - loss: 0.2151 - accuracy: 0.9600\n",
      "Epoch 21/50\n",
      "150/150 [==============================] - 0s 2ms/step - loss: 0.2115 - accuracy: 0.9533\n",
      "Epoch 22/50\n",
      "150/150 [==============================] - 0s 2ms/step - loss: 0.2054 - accuracy: 0.9667\n",
      "Epoch 23/50\n",
      "150/150 [==============================] - 0s 2ms/step - loss: 0.1918 - accuracy: 0.9667\n",
      "Epoch 24/50\n",
      "150/150 [==============================] - 0s 1ms/step - loss: 0.1883 - accuracy: 0.9667\n",
      "Epoch 25/50\n",
      "150/150 [==============================] - 0s 1ms/step - loss: 0.1765 - accuracy: 0.9800\n",
      "Epoch 26/50\n",
      "150/150 [==============================] - 0s 1ms/step - loss: 0.1711 - accuracy: 0.9667\n",
      "Epoch 27/50\n",
      "150/150 [==============================] - 0s 1ms/step - loss: 0.1688 - accuracy: 0.9600\n",
      "Epoch 28/50\n",
      "150/150 [==============================] - 0s 1ms/step - loss: 0.1466 - accuracy: 0.9867\n",
      "Epoch 29/50\n",
      "150/150 [==============================] - 0s 1ms/step - loss: 0.1568 - accuracy: 0.9667\n",
      "Epoch 30/50\n",
      "150/150 [==============================] - 0s 1ms/step - loss: 0.1544 - accuracy: 0.9600\n",
      "Epoch 31/50\n",
      "150/150 [==============================] - 0s 2ms/step - loss: 0.1469 - accuracy: 0.9600\n",
      "Epoch 32/50\n",
      "150/150 [==============================] - 0s 2ms/step - loss: 0.1438 - accuracy: 0.9667\n",
      "Epoch 33/50\n",
      "150/150 [==============================] - 0s 2ms/step - loss: 0.1396 - accuracy: 0.9600\n",
      "Epoch 34/50\n",
      "150/150 [==============================] - 0s 2ms/step - loss: 0.1324 - accuracy: 0.9733\n",
      "Epoch 35/50\n",
      "150/150 [==============================] - 0s 2ms/step - loss: 0.1318 - accuracy: 0.9667\n",
      "Epoch 36/50\n",
      "150/150 [==============================] - 0s 1ms/step - loss: 0.1291 - accuracy: 0.9533\n",
      "Epoch 37/50\n",
      "150/150 [==============================] - 0s 2ms/step - loss: 0.1192 - accuracy: 0.9533\n",
      "Epoch 38/50\n",
      "150/150 [==============================] - 0s 2ms/step - loss: 0.1220 - accuracy: 0.9667\n",
      "Epoch 39/50\n",
      "150/150 [==============================] - 0s 1ms/step - loss: 0.1144 - accuracy: 0.9733\n",
      "Epoch 40/50\n",
      "150/150 [==============================] - 0s 1ms/step - loss: 0.1250 - accuracy: 0.9667\n",
      "Epoch 41/50\n",
      "150/150 [==============================] - 0s 2ms/step - loss: 0.1140 - accuracy: 0.9667\n",
      "Epoch 42/50\n",
      "150/150 [==============================] - 0s 1ms/step - loss: 0.1142 - accuracy: 0.9600\n",
      "Epoch 43/50\n",
      "150/150 [==============================] - 0s 2ms/step - loss: 0.1124 - accuracy: 0.9600\n",
      "Epoch 44/50\n",
      "150/150 [==============================] - 0s 2ms/step - loss: 0.1079 - accuracy: 0.9667\n",
      "Epoch 45/50\n",
      "150/150 [==============================] - 0s 2ms/step - loss: 0.1153 - accuracy: 0.9533\n",
      "Epoch 46/50\n",
      "150/150 [==============================] - 0s 2ms/step - loss: 0.1090 - accuracy: 0.9533\n",
      "Epoch 47/50\n",
      "150/150 [==============================] - 0s 1ms/step - loss: 0.1057 - accuracy: 0.9533\n",
      "Epoch 48/50\n",
      "150/150 [==============================] - 0s 991us/step - loss: 0.1023 - accuracy: 0.9533\n",
      "Epoch 49/50\n",
      "150/150 [==============================] - 0s 992us/step - loss: 0.1010 - accuracy: 0.9600\n",
      "Epoch 50/50\n",
      "150/150 [==============================] - 0s 1ms/step - loss: 0.1088 - accuracy: 0.9467\n",
      "5/5 [==============================] - 0s 1ms/step - loss: 0.0928 - accuracy: 0.9667\n",
      "\n",
      " Acuracy: 0.9667\n"
     ]
    }
   ],
   "source": [
    "model.compile(loss='categorical_crossentropy', optimizer='adam', metrics=['accuracy'])\n",
    "model.fit(X, y_encoded, epochs=50, batch_size=1)\n",
    "print('\\n Acuracy: %.4f' % (model.evaluate(X, y_encoded)[1]))"
   ]
  },
  {
   "cell_type": "code",
   "execution_count": null,
   "metadata": {},
   "outputs": [],
   "source": []
  }
 ],
 "metadata": {
  "kernelspec": {
   "display_name": "Python 3.10.7 64-bit",
   "language": "python",
   "name": "python3"
  },
  "language_info": {
   "codemirror_mode": {
    "name": "ipython",
    "version": 3
   },
   "file_extension": ".py",
   "mimetype": "text/x-python",
   "name": "python",
   "nbconvert_exporter": "python",
   "pygments_lexer": "ipython3",
   "version": "3.10.7"
  },
  "orig_nbformat": 4,
  "vscode": {
   "interpreter": {
    "hash": "a27045bf5bf9047ebf3975ed17baacbf35043dbfcfadee1ce3b14e031ff2cf32"
   }
  }
 },
 "nbformat": 4,
 "nbformat_minor": 2
}
