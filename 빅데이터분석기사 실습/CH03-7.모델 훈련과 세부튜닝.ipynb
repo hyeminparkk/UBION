{
 "cells": [
  {
   "cell_type": "markdown",
   "metadata": {},
   "source": [
    "# 데이터 불러오기 및 데이터셋 분할"
   ]
  },
  {
   "cell_type": "code",
   "execution_count": 2,
   "metadata": {},
   "outputs": [],
   "source": [
    "import warnings\n",
    "warnings.filterwarnings('ignore')\n",
    "import pandas as pd\n",
    "\n",
    "df = pd.read_csv('../datasets/빅분기 실기 데이터/Fvote.csv', encoding='utf-8')"
   ]
  },
  {
   "cell_type": "code",
   "execution_count": 3,
   "metadata": {},
   "outputs": [],
   "source": [
    "X = df.drop('vote', axis=1)\n",
    "y = df[['vote']]"
   ]
  },
  {
   "cell_type": "code",
   "execution_count": 8,
   "metadata": {},
   "outputs": [],
   "source": [
    "from sklearn.model_selection import train_test_split\n",
    "\n",
    "X_train, X_test, y_train, y_test = train_test_split(X, y, random_state=11, stratify=y)"
   ]
  },
  {
   "cell_type": "markdown",
   "metadata": {},
   "source": [
    "# Grid Search"
   ]
  },
  {
   "cell_type": "code",
   "execution_count": 9,
   "metadata": {},
   "outputs": [],
   "source": [
    "from sklearn.model_selection import GridSearchCV\n",
    "param_grid = {'C':[0.001, 0.01, 0.1, 1, 10, 100]}"
   ]
  },
  {
   "cell_type": "code",
   "execution_count": 10,
   "metadata": {},
   "outputs": [],
   "source": [
    "from sklearn.linear_model import LogisticRegression\n",
    "\n",
    "model = LogisticRegression(random_state=11)"
   ]
  },
  {
   "cell_type": "code",
   "execution_count": 12,
   "metadata": {},
   "outputs": [
    {
     "name": "stdout",
     "output_type": "stream",
     "text": [
      "Best Parameter: {'C': 0.1}\n",
      "Best Cross-validity Score: 0.721\n"
     ]
    }
   ],
   "source": [
    "grid_search = GridSearchCV(model, param_grid, cv=5, return_train_score=True)\n",
    "grid_search.fit(X_train, y_train)\n",
    "\n",
    "print('Best Parameter: {}'.format(grid_search.best_params_))\n",
    "print('Best Cross-validity Score: {:.3f}'.format(grid_search.best_score_))"
   ]
  },
  {
   "cell_type": "markdown",
   "metadata": {},
   "source": [
    "## 최적의 파라미터로 test 데이터 예측"
   ]
  },
  {
   "cell_type": "code",
   "execution_count": 14,
   "metadata": {},
   "outputs": [
    {
     "name": "stdout",
     "output_type": "stream",
     "text": [
      "Test set Score : 0.642\n"
     ]
    }
   ],
   "source": [
    "print('Test set Score : {:.3f}'.format(grid_search.score(X_test, y_test)))"
   ]
  },
  {
   "cell_type": "code",
   "execution_count": 18,
   "metadata": {},
   "outputs": [
    {
     "name": "stdout",
     "output_type": "stream",
     "text": [
      "Test set Score : 0.642\n"
     ]
    }
   ],
   "source": [
    "from sklearn.metrics import accuracy_score\n",
    "\n",
    "estimator = grid_search.best_estimator_\n",
    "\n",
    "# GridSearchCV의 best_estimator_는 이미 최적 하이퍼 파라미터로 학습이 됨\n",
    "pred = estimator.predict(X_test)\n",
    "print('Test set Score : {0:.3f}'.format(accuracy_score(y_test,pred)))"
   ]
  },
  {
   "cell_type": "code",
   "execution_count": 20,
   "metadata": {},
   "outputs": [
    {
     "data": {
      "text/html": [
       "<div>\n",
       "<style scoped>\n",
       "    .dataframe tbody tr th:only-of-type {\n",
       "        vertical-align: middle;\n",
       "    }\n",
       "\n",
       "    .dataframe tbody tr th {\n",
       "        vertical-align: top;\n",
       "    }\n",
       "\n",
       "    .dataframe thead th {\n",
       "        text-align: right;\n",
       "    }\n",
       "</style>\n",
       "<table border=\"1\" class=\"dataframe\">\n",
       "  <thead>\n",
       "    <tr style=\"text-align: right;\">\n",
       "      <th></th>\n",
       "      <th>mean_fit_time</th>\n",
       "      <th>std_fit_time</th>\n",
       "      <th>mean_score_time</th>\n",
       "      <th>std_score_time</th>\n",
       "      <th>param_C</th>\n",
       "      <th>params</th>\n",
       "      <th>split0_test_score</th>\n",
       "      <th>split1_test_score</th>\n",
       "      <th>split2_test_score</th>\n",
       "      <th>split3_test_score</th>\n",
       "      <th>...</th>\n",
       "      <th>mean_test_score</th>\n",
       "      <th>std_test_score</th>\n",
       "      <th>rank_test_score</th>\n",
       "      <th>split0_train_score</th>\n",
       "      <th>split1_train_score</th>\n",
       "      <th>split2_train_score</th>\n",
       "      <th>split3_train_score</th>\n",
       "      <th>split4_train_score</th>\n",
       "      <th>mean_train_score</th>\n",
       "      <th>std_train_score</th>\n",
       "    </tr>\n",
       "  </thead>\n",
       "  <tbody>\n",
       "    <tr>\n",
       "      <th>0</th>\n",
       "      <td>0.005375</td>\n",
       "      <td>0.003063</td>\n",
       "      <td>0.001199</td>\n",
       "      <td>0.000748</td>\n",
       "      <td>0.001</td>\n",
       "      <td>{'C': 0.001}</td>\n",
       "      <td>0.71875</td>\n",
       "      <td>0.71875</td>\n",
       "      <td>0.68750</td>\n",
       "      <td>0.709677</td>\n",
       "      <td>...</td>\n",
       "      <td>0.708871</td>\n",
       "      <td>0.011430</td>\n",
       "      <td>2</td>\n",
       "      <td>0.706349</td>\n",
       "      <td>0.706349</td>\n",
       "      <td>0.714286</td>\n",
       "      <td>0.708661</td>\n",
       "      <td>0.708661</td>\n",
       "      <td>0.708861</td>\n",
       "      <td>0.002903</td>\n",
       "    </tr>\n",
       "    <tr>\n",
       "      <th>1</th>\n",
       "      <td>0.004205</td>\n",
       "      <td>0.000750</td>\n",
       "      <td>0.001399</td>\n",
       "      <td>0.000491</td>\n",
       "      <td>0.01</td>\n",
       "      <td>{'C': 0.01}</td>\n",
       "      <td>0.71875</td>\n",
       "      <td>0.71875</td>\n",
       "      <td>0.68750</td>\n",
       "      <td>0.709677</td>\n",
       "      <td>...</td>\n",
       "      <td>0.708871</td>\n",
       "      <td>0.011430</td>\n",
       "      <td>2</td>\n",
       "      <td>0.706349</td>\n",
       "      <td>0.706349</td>\n",
       "      <td>0.714286</td>\n",
       "      <td>0.708661</td>\n",
       "      <td>0.708661</td>\n",
       "      <td>0.708861</td>\n",
       "      <td>0.002903</td>\n",
       "    </tr>\n",
       "    <tr>\n",
       "      <th>2</th>\n",
       "      <td>0.004406</td>\n",
       "      <td>0.001035</td>\n",
       "      <td>0.000620</td>\n",
       "      <td>0.000510</td>\n",
       "      <td>0.1</td>\n",
       "      <td>{'C': 0.1}</td>\n",
       "      <td>0.75000</td>\n",
       "      <td>0.78125</td>\n",
       "      <td>0.68750</td>\n",
       "      <td>0.741935</td>\n",
       "      <td>...</td>\n",
       "      <td>0.721169</td>\n",
       "      <td>0.048545</td>\n",
       "      <td>1</td>\n",
       "      <td>0.738095</td>\n",
       "      <td>0.722222</td>\n",
       "      <td>0.738095</td>\n",
       "      <td>0.732283</td>\n",
       "      <td>0.740157</td>\n",
       "      <td>0.734171</td>\n",
       "      <td>0.006526</td>\n",
       "    </tr>\n",
       "    <tr>\n",
       "      <th>3</th>\n",
       "      <td>0.006204</td>\n",
       "      <td>0.001150</td>\n",
       "      <td>0.000994</td>\n",
       "      <td>0.000633</td>\n",
       "      <td>1</td>\n",
       "      <td>{'C': 1}</td>\n",
       "      <td>0.68750</td>\n",
       "      <td>0.71875</td>\n",
       "      <td>0.65625</td>\n",
       "      <td>0.774194</td>\n",
       "      <td>...</td>\n",
       "      <td>0.696371</td>\n",
       "      <td>0.046622</td>\n",
       "      <td>4</td>\n",
       "      <td>0.793651</td>\n",
       "      <td>0.753968</td>\n",
       "      <td>0.746032</td>\n",
       "      <td>0.724409</td>\n",
       "      <td>0.755906</td>\n",
       "      <td>0.754793</td>\n",
       "      <td>0.022413</td>\n",
       "    </tr>\n",
       "    <tr>\n",
       "      <th>4</th>\n",
       "      <td>0.006597</td>\n",
       "      <td>0.000490</td>\n",
       "      <td>0.000802</td>\n",
       "      <td>0.000401</td>\n",
       "      <td>10</td>\n",
       "      <td>{'C': 10}</td>\n",
       "      <td>0.65625</td>\n",
       "      <td>0.71875</td>\n",
       "      <td>0.65625</td>\n",
       "      <td>0.774194</td>\n",
       "      <td>...</td>\n",
       "      <td>0.683669</td>\n",
       "      <td>0.056457</td>\n",
       "      <td>6</td>\n",
       "      <td>0.777778</td>\n",
       "      <td>0.761905</td>\n",
       "      <td>0.738095</td>\n",
       "      <td>0.724409</td>\n",
       "      <td>0.755906</td>\n",
       "      <td>0.751619</td>\n",
       "      <td>0.018610</td>\n",
       "    </tr>\n",
       "    <tr>\n",
       "      <th>5</th>\n",
       "      <td>0.006802</td>\n",
       "      <td>0.000750</td>\n",
       "      <td>0.000801</td>\n",
       "      <td>0.000401</td>\n",
       "      <td>100</td>\n",
       "      <td>{'C': 100}</td>\n",
       "      <td>0.68750</td>\n",
       "      <td>0.71875</td>\n",
       "      <td>0.65625</td>\n",
       "      <td>0.774194</td>\n",
       "      <td>...</td>\n",
       "      <td>0.696371</td>\n",
       "      <td>0.046622</td>\n",
       "      <td>4</td>\n",
       "      <td>0.777778</td>\n",
       "      <td>0.761905</td>\n",
       "      <td>0.738095</td>\n",
       "      <td>0.724409</td>\n",
       "      <td>0.755906</td>\n",
       "      <td>0.751619</td>\n",
       "      <td>0.018610</td>\n",
       "    </tr>\n",
       "  </tbody>\n",
       "</table>\n",
       "<p>6 rows × 21 columns</p>\n",
       "</div>"
      ],
      "text/plain": [
       "   mean_fit_time  std_fit_time  mean_score_time  std_score_time param_C  \\\n",
       "0       0.005375      0.003063         0.001199        0.000748   0.001   \n",
       "1       0.004205      0.000750         0.001399        0.000491    0.01   \n",
       "2       0.004406      0.001035         0.000620        0.000510     0.1   \n",
       "3       0.006204      0.001150         0.000994        0.000633       1   \n",
       "4       0.006597      0.000490         0.000802        0.000401      10   \n",
       "5       0.006802      0.000750         0.000801        0.000401     100   \n",
       "\n",
       "         params  split0_test_score  split1_test_score  split2_test_score  \\\n",
       "0  {'C': 0.001}            0.71875            0.71875            0.68750   \n",
       "1   {'C': 0.01}            0.71875            0.71875            0.68750   \n",
       "2    {'C': 0.1}            0.75000            0.78125            0.68750   \n",
       "3      {'C': 1}            0.68750            0.71875            0.65625   \n",
       "4     {'C': 10}            0.65625            0.71875            0.65625   \n",
       "5    {'C': 100}            0.68750            0.71875            0.65625   \n",
       "\n",
       "   split3_test_score  ...  mean_test_score  std_test_score  rank_test_score  \\\n",
       "0           0.709677  ...         0.708871        0.011430                2   \n",
       "1           0.709677  ...         0.708871        0.011430                2   \n",
       "2           0.741935  ...         0.721169        0.048545                1   \n",
       "3           0.774194  ...         0.696371        0.046622                4   \n",
       "4           0.774194  ...         0.683669        0.056457                6   \n",
       "5           0.774194  ...         0.696371        0.046622                4   \n",
       "\n",
       "   split0_train_score  split1_train_score  split2_train_score  \\\n",
       "0            0.706349            0.706349            0.714286   \n",
       "1            0.706349            0.706349            0.714286   \n",
       "2            0.738095            0.722222            0.738095   \n",
       "3            0.793651            0.753968            0.746032   \n",
       "4            0.777778            0.761905            0.738095   \n",
       "5            0.777778            0.761905            0.738095   \n",
       "\n",
       "   split3_train_score  split4_train_score  mean_train_score  std_train_score  \n",
       "0            0.708661            0.708661          0.708861         0.002903  \n",
       "1            0.708661            0.708661          0.708861         0.002903  \n",
       "2            0.732283            0.740157          0.734171         0.006526  \n",
       "3            0.724409            0.755906          0.754793         0.022413  \n",
       "4            0.724409            0.755906          0.751619         0.018610  \n",
       "5            0.724409            0.755906          0.751619         0.018610  \n",
       "\n",
       "[6 rows x 21 columns]"
      ]
     },
     "execution_count": 20,
     "metadata": {},
     "output_type": "execute_result"
    }
   ],
   "source": [
    "scores_df = pd.DataFrame(grid_search.cv_results_)\n",
    "scores_df"
   ]
  }
 ],
 "metadata": {
  "kernelspec": {
   "display_name": "Python 3.10.7 64-bit",
   "language": "python",
   "name": "python3"
  },
  "language_info": {
   "codemirror_mode": {
    "name": "ipython",
    "version": 3
   },
   "file_extension": ".py",
   "mimetype": "text/x-python",
   "name": "python",
   "nbconvert_exporter": "python",
   "pygments_lexer": "ipython3",
   "version": "3.10.7"
  },
  "orig_nbformat": 4,
  "vscode": {
   "interpreter": {
    "hash": "a27045bf5bf9047ebf3975ed17baacbf35043dbfcfadee1ce3b14e031ff2cf32"
   }
  }
 },
 "nbformat": 4,
 "nbformat_minor": 2
}
