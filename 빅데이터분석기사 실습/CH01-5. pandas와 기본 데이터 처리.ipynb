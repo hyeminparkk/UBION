{
 "cells": [
  {
   "cell_type": "markdown",
   "id": "da5cc16a",
   "metadata": {},
   "source": [
    "# 데이터 파일 불러오기"
   ]
  },
  {
   "cell_type": "code",
   "execution_count": 1,
   "id": "ddf54d38",
   "metadata": {
    "ExecuteTime": {
     "end_time": "2022-10-19T03:23:08.356286Z",
     "start_time": "2022-10-19T03:23:07.430194Z"
    }
   },
   "outputs": [],
   "source": [
    "import pandas as pd"
   ]
  },
  {
   "cell_type": "markdown",
   "id": "262039d9",
   "metadata": {},
   "source": [
    "## 인코딩 옵션 : euc-kr\n",
    "- euc-kr로 불러오면 한글 잘 불러와짐"
   ]
  },
  {
   "cell_type": "code",
   "execution_count": 5,
   "id": "bcf55abd",
   "metadata": {
    "ExecuteTime": {
     "end_time": "2022-10-19T03:24:53.328712Z",
     "start_time": "2022-10-19T03:24:53.300789Z"
    }
   },
   "outputs": [],
   "source": [
    "df = pd.read_csv('../datasets/빅분기 실기 데이터/EX_GrapeData.csv', encoding='euc-kr')"
   ]
  },
  {
   "cell_type": "code",
   "execution_count": 6,
   "id": "ed278948",
   "metadata": {
    "ExecuteTime": {
     "end_time": "2022-10-19T03:24:54.250282Z",
     "start_time": "2022-10-19T03:24:54.219365Z"
    }
   },
   "outputs": [
    {
     "data": {
      "text/html": [
       "<div>\n",
       "<style scoped>\n",
       "    .dataframe tbody tr th:only-of-type {\n",
       "        vertical-align: middle;\n",
       "    }\n",
       "\n",
       "    .dataframe tbody tr th {\n",
       "        vertical-align: top;\n",
       "    }\n",
       "\n",
       "    .dataframe thead th {\n",
       "        text-align: right;\n",
       "    }\n",
       "</style>\n",
       "<table border=\"1\" class=\"dataframe\">\n",
       "  <thead>\n",
       "    <tr style=\"text-align: right;\">\n",
       "      <th></th>\n",
       "      <th>continent</th>\n",
       "      <th>brand</th>\n",
       "      <th>size</th>\n",
       "      <th>period</th>\n",
       "      <th>price</th>\n",
       "    </tr>\n",
       "  </thead>\n",
       "  <tbody>\n",
       "    <tr>\n",
       "      <th>0</th>\n",
       "      <td>2</td>\n",
       "      <td>2</td>\n",
       "      <td>10.7</td>\n",
       "      <td>47.65</td>\n",
       "      <td>144</td>\n",
       "    </tr>\n",
       "    <tr>\n",
       "      <th>1</th>\n",
       "      <td>2</td>\n",
       "      <td>3</td>\n",
       "      <td>14.0</td>\n",
       "      <td>63.13</td>\n",
       "      <td>215</td>\n",
       "    </tr>\n",
       "    <tr>\n",
       "      <th>2</th>\n",
       "      <td>2</td>\n",
       "      <td>2</td>\n",
       "      <td>9.0</td>\n",
       "      <td>58.76</td>\n",
       "      <td>105</td>\n",
       "    </tr>\n",
       "    <tr>\n",
       "      <th>3</th>\n",
       "      <td>1</td>\n",
       "      <td>1</td>\n",
       "      <td>8.0</td>\n",
       "      <td>34.88</td>\n",
       "      <td>69</td>\n",
       "    </tr>\n",
       "    <tr>\n",
       "      <th>4</th>\n",
       "      <td>2</td>\n",
       "      <td>2</td>\n",
       "      <td>10.0</td>\n",
       "      <td>55.53</td>\n",
       "      <td>134</td>\n",
       "    </tr>\n",
       "    <tr>\n",
       "      <th>...</th>\n",
       "      <td>...</td>\n",
       "      <td>...</td>\n",
       "      <td>...</td>\n",
       "      <td>...</td>\n",
       "      <td>...</td>\n",
       "    </tr>\n",
       "    <tr>\n",
       "      <th>58</th>\n",
       "      <td>1</td>\n",
       "      <td>1</td>\n",
       "      <td>5.0</td>\n",
       "      <td>16.66</td>\n",
       "      <td>21.5</td>\n",
       "    </tr>\n",
       "    <tr>\n",
       "      <th>59</th>\n",
       "      <td>2</td>\n",
       "      <td>1</td>\n",
       "      <td>21.0</td>\n",
       "      <td>43.00</td>\n",
       "      <td></td>\n",
       "    </tr>\n",
       "    <tr>\n",
       "      <th>60</th>\n",
       "      <td>2</td>\n",
       "      <td>2</td>\n",
       "      <td>5.0</td>\n",
       "      <td>12.00</td>\n",
       "      <td></td>\n",
       "    </tr>\n",
       "    <tr>\n",
       "      <th>61</th>\n",
       "      <td>2</td>\n",
       "      <td>3</td>\n",
       "      <td>13.0</td>\n",
       "      <td>20.00</td>\n",
       "      <td></td>\n",
       "    </tr>\n",
       "    <tr>\n",
       "      <th>62</th>\n",
       "      <td>2</td>\n",
       "      <td>3</td>\n",
       "      <td>31.0</td>\n",
       "      <td>19.00</td>\n",
       "      <td></td>\n",
       "    </tr>\n",
       "  </tbody>\n",
       "</table>\n",
       "<p>63 rows × 5 columns</p>\n",
       "</div>"
      ],
      "text/plain": [
       "    continent  brand  size  period price\n",
       "0           2      2  10.7   47.65   144\n",
       "1           2      3  14.0   63.13   215\n",
       "2           2      2   9.0   58.76   105\n",
       "3           1      1   8.0   34.88    69\n",
       "4           2      2  10.0   55.53   134\n",
       "..        ...    ...   ...     ...   ...\n",
       "58          1      1   5.0   16.66  21.5\n",
       "59          2      1  21.0   43.00      \n",
       "60          2      2   5.0   12.00      \n",
       "61          2      3  13.0   20.00      \n",
       "62          2      3  31.0   19.00      \n",
       "\n",
       "[63 rows x 5 columns]"
      ]
     },
     "execution_count": 6,
     "metadata": {},
     "output_type": "execute_result"
    }
   ],
   "source": [
    "df"
   ]
  },
  {
   "cell_type": "markdown",
   "id": "9f1487b0",
   "metadata": {},
   "source": [
    "# 열 불러오기\n",
    "- 데이터셋명[['열 이름']]\n",
    "- 데이터셋명[데이터셋명.columns[[열 번호]]]\n",
    "- 데이터셋명.loc[:, 첫 열 이름 : 끝 열 이름]"
   ]
  },
  {
   "cell_type": "code",
   "execution_count": 13,
   "id": "9f35169b",
   "metadata": {
    "ExecuteTime": {
     "end_time": "2022-10-19T03:29:30.156629Z",
     "start_time": "2022-10-19T03:29:30.127699Z"
    }
   },
   "outputs": [
    {
     "data": {
      "text/html": [
       "<div>\n",
       "<style scoped>\n",
       "    .dataframe tbody tr th:only-of-type {\n",
       "        vertical-align: middle;\n",
       "    }\n",
       "\n",
       "    .dataframe tbody tr th {\n",
       "        vertical-align: top;\n",
       "    }\n",
       "\n",
       "    .dataframe thead th {\n",
       "        text-align: right;\n",
       "    }\n",
       "</style>\n",
       "<table border=\"1\" class=\"dataframe\">\n",
       "  <thead>\n",
       "    <tr style=\"text-align: right;\">\n",
       "      <th></th>\n",
       "      <th>size</th>\n",
       "      <th>period</th>\n",
       "      <th>price</th>\n",
       "    </tr>\n",
       "  </thead>\n",
       "  <tbody>\n",
       "    <tr>\n",
       "      <th>0</th>\n",
       "      <td>10.7</td>\n",
       "      <td>47.65</td>\n",
       "      <td>144</td>\n",
       "    </tr>\n",
       "    <tr>\n",
       "      <th>1</th>\n",
       "      <td>14.0</td>\n",
       "      <td>63.13</td>\n",
       "      <td>215</td>\n",
       "    </tr>\n",
       "    <tr>\n",
       "      <th>2</th>\n",
       "      <td>9.0</td>\n",
       "      <td>58.76</td>\n",
       "      <td>105</td>\n",
       "    </tr>\n",
       "    <tr>\n",
       "      <th>3</th>\n",
       "      <td>8.0</td>\n",
       "      <td>34.88</td>\n",
       "      <td>69</td>\n",
       "    </tr>\n",
       "    <tr>\n",
       "      <th>4</th>\n",
       "      <td>10.0</td>\n",
       "      <td>55.53</td>\n",
       "      <td>134</td>\n",
       "    </tr>\n",
       "    <tr>\n",
       "      <th>...</th>\n",
       "      <td>...</td>\n",
       "      <td>...</td>\n",
       "      <td>...</td>\n",
       "    </tr>\n",
       "    <tr>\n",
       "      <th>58</th>\n",
       "      <td>5.0</td>\n",
       "      <td>16.66</td>\n",
       "      <td>21.5</td>\n",
       "    </tr>\n",
       "    <tr>\n",
       "      <th>59</th>\n",
       "      <td>21.0</td>\n",
       "      <td>43.00</td>\n",
       "      <td></td>\n",
       "    </tr>\n",
       "    <tr>\n",
       "      <th>60</th>\n",
       "      <td>5.0</td>\n",
       "      <td>12.00</td>\n",
       "      <td></td>\n",
       "    </tr>\n",
       "    <tr>\n",
       "      <th>61</th>\n",
       "      <td>13.0</td>\n",
       "      <td>20.00</td>\n",
       "      <td></td>\n",
       "    </tr>\n",
       "    <tr>\n",
       "      <th>62</th>\n",
       "      <td>31.0</td>\n",
       "      <td>19.00</td>\n",
       "      <td></td>\n",
       "    </tr>\n",
       "  </tbody>\n",
       "</table>\n",
       "<p>63 rows × 3 columns</p>\n",
       "</div>"
      ],
      "text/plain": [
       "    size  period price\n",
       "0   10.7   47.65   144\n",
       "1   14.0   63.13   215\n",
       "2    9.0   58.76   105\n",
       "3    8.0   34.88    69\n",
       "4   10.0   55.53   134\n",
       "..   ...     ...   ...\n",
       "58   5.0   16.66  21.5\n",
       "59  21.0   43.00      \n",
       "60   5.0   12.00      \n",
       "61  13.0   20.00      \n",
       "62  31.0   19.00      \n",
       "\n",
       "[63 rows x 3 columns]"
      ]
     },
     "execution_count": 13,
     "metadata": {},
     "output_type": "execute_result"
    }
   ],
   "source": [
    "df['price'] # series 형태\n",
    "df[['price']] # DataFrame 형태\n",
    "\n",
    "df[df.columns[[0,2,4]]]\n",
    "\n",
    "df.loc[:, 'size':'price']"
   ]
  },
  {
   "cell_type": "markdown",
   "id": "db561c33",
   "metadata": {},
   "source": [
    "# 데이터 프레임 특정 행과 열 불러오기\n",
    "- 데이터셋명.iloc[첫 행:끝 행, 첫 열:끝 열]"
   ]
  },
  {
   "cell_type": "code",
   "execution_count": 14,
   "id": "c09cc6d1",
   "metadata": {
    "ExecuteTime": {
     "end_time": "2022-10-19T03:31:22.807477Z",
     "start_time": "2022-10-19T03:31:22.786533Z"
    }
   },
   "outputs": [
    {
     "data": {
      "text/html": [
       "<div>\n",
       "<style scoped>\n",
       "    .dataframe tbody tr th:only-of-type {\n",
       "        vertical-align: middle;\n",
       "    }\n",
       "\n",
       "    .dataframe tbody tr th {\n",
       "        vertical-align: top;\n",
       "    }\n",
       "\n",
       "    .dataframe thead th {\n",
       "        text-align: right;\n",
       "    }\n",
       "</style>\n",
       "<table border=\"1\" class=\"dataframe\">\n",
       "  <thead>\n",
       "    <tr style=\"text-align: right;\">\n",
       "      <th></th>\n",
       "      <th>continent</th>\n",
       "      <th>brand</th>\n",
       "    </tr>\n",
       "  </thead>\n",
       "  <tbody>\n",
       "    <tr>\n",
       "      <th>1</th>\n",
       "      <td>2</td>\n",
       "      <td>3</td>\n",
       "    </tr>\n",
       "    <tr>\n",
       "      <th>2</th>\n",
       "      <td>2</td>\n",
       "      <td>2</td>\n",
       "    </tr>\n",
       "    <tr>\n",
       "      <th>3</th>\n",
       "      <td>1</td>\n",
       "      <td>1</td>\n",
       "    </tr>\n",
       "    <tr>\n",
       "      <th>4</th>\n",
       "      <td>2</td>\n",
       "      <td>2</td>\n",
       "    </tr>\n",
       "    <tr>\n",
       "      <th>5</th>\n",
       "      <td>2</td>\n",
       "      <td>2</td>\n",
       "    </tr>\n",
       "    <tr>\n",
       "      <th>6</th>\n",
       "      <td>2</td>\n",
       "      <td>2</td>\n",
       "    </tr>\n",
       "  </tbody>\n",
       "</table>\n",
       "</div>"
      ],
      "text/plain": [
       "   continent  brand\n",
       "1          2      3\n",
       "2          2      2\n",
       "3          1      1\n",
       "4          2      2\n",
       "5          2      2\n",
       "6          2      2"
      ]
     },
     "execution_count": 14,
     "metadata": {},
     "output_type": "execute_result"
    }
   ],
   "source": [
    "df.iloc[1:7, 0:2]"
   ]
  },
  {
   "cell_type": "markdown",
   "id": "aa0eaf55",
   "metadata": {},
   "source": [
    "# 특정한 하나의 값을 지정해 불러오기\n",
    "- 데이터셋명.at[행 번호, '열 이름']"
   ]
  },
  {
   "cell_type": "code",
   "execution_count": 16,
   "id": "4b2a6da9",
   "metadata": {
    "ExecuteTime": {
     "end_time": "2022-10-19T03:32:29.013137Z",
     "start_time": "2022-10-19T03:32:29.000176Z"
    }
   },
   "outputs": [
    {
     "data": {
      "text/plain": [
       "'129'"
      ]
     },
     "execution_count": 16,
     "metadata": {},
     "output_type": "execute_result"
    }
   ],
   "source": [
    "df.at[5, 'price']"
   ]
  },
  {
   "cell_type": "markdown",
   "id": "9e707bae",
   "metadata": {
    "ExecuteTime": {
     "end_time": "2022-10-19T03:34:22.381653Z",
     "start_time": "2022-10-19T03:34:22.359712Z"
    }
   },
   "source": [
    "# 변수이름 변경 / 변수 추가&삭제"
   ]
  },
  {
   "cell_type": "code",
   "execution_count": 21,
   "id": "af9e3903",
   "metadata": {
    "ExecuteTime": {
     "end_time": "2022-10-19T03:35:25.265887Z",
     "start_time": "2022-10-19T03:35:25.252922Z"
    }
   },
   "outputs": [
    {
     "data": {
      "text/plain": [
       "Index(['continent', 'brand', 'size', 'time', 'price'], dtype='object')"
      ]
     },
     "execution_count": 21,
     "metadata": {},
     "output_type": "execute_result"
    }
   ],
   "source": [
    "df.rename(columns={'period':'time'}, inplace=True)\n",
    "df.columns"
   ]
  },
  {
   "cell_type": "code",
   "execution_count": 25,
   "id": "d018f8e3",
   "metadata": {
    "ExecuteTime": {
     "end_time": "2022-10-19T03:40:06.418081Z",
     "start_time": "2022-10-19T03:40:06.384177Z"
    }
   },
   "outputs": [
    {
     "data": {
      "text/html": [
       "<div>\n",
       "<style scoped>\n",
       "    .dataframe tbody tr th:only-of-type {\n",
       "        vertical-align: middle;\n",
       "    }\n",
       "\n",
       "    .dataframe tbody tr th {\n",
       "        vertical-align: top;\n",
       "    }\n",
       "\n",
       "    .dataframe thead th {\n",
       "        text-align: right;\n",
       "    }\n",
       "</style>\n",
       "<table border=\"1\" class=\"dataframe\">\n",
       "  <thead>\n",
       "    <tr style=\"text-align: right;\">\n",
       "      <th></th>\n",
       "      <th>continent</th>\n",
       "      <th>brand</th>\n",
       "      <th>size</th>\n",
       "      <th>time</th>\n",
       "      <th>price</th>\n",
       "      <th>growth</th>\n",
       "    </tr>\n",
       "  </thead>\n",
       "  <tbody>\n",
       "    <tr>\n",
       "      <th>0</th>\n",
       "      <td>2</td>\n",
       "      <td>2</td>\n",
       "      <td>10.7</td>\n",
       "      <td>47.65</td>\n",
       "      <td>144</td>\n",
       "      <td>0.224554</td>\n",
       "    </tr>\n",
       "    <tr>\n",
       "      <th>1</th>\n",
       "      <td>2</td>\n",
       "      <td>3</td>\n",
       "      <td>14.0</td>\n",
       "      <td>63.13</td>\n",
       "      <td>215</td>\n",
       "      <td>0.221765</td>\n",
       "    </tr>\n",
       "  </tbody>\n",
       "</table>\n",
       "</div>"
      ],
      "text/plain": [
       "   continent  brand  size   time price    growth\n",
       "0          2      2  10.7  47.65   144  0.224554\n",
       "1          2      3  14.0  63.13   215  0.221765"
      ]
     },
     "execution_count": 25,
     "metadata": {},
     "output_type": "execute_result"
    }
   ],
   "source": [
    "df['growth'] = df['size']/df['time']\n",
    "df.head(2)"
   ]
  },
  {
   "cell_type": "code",
   "execution_count": 26,
   "id": "b2552904",
   "metadata": {
    "ExecuteTime": {
     "end_time": "2022-10-19T03:40:07.232287Z",
     "start_time": "2022-10-19T03:40:07.206311Z"
    }
   },
   "outputs": [
    {
     "data": {
      "text/html": [
       "<div>\n",
       "<style scoped>\n",
       "    .dataframe tbody tr th:only-of-type {\n",
       "        vertical-align: middle;\n",
       "    }\n",
       "\n",
       "    .dataframe tbody tr th {\n",
       "        vertical-align: top;\n",
       "    }\n",
       "\n",
       "    .dataframe thead th {\n",
       "        text-align: right;\n",
       "    }\n",
       "</style>\n",
       "<table border=\"1\" class=\"dataframe\">\n",
       "  <thead>\n",
       "    <tr style=\"text-align: right;\">\n",
       "      <th></th>\n",
       "      <th>continent</th>\n",
       "      <th>brand</th>\n",
       "      <th>size</th>\n",
       "      <th>time</th>\n",
       "      <th>price</th>\n",
       "    </tr>\n",
       "  </thead>\n",
       "  <tbody>\n",
       "    <tr>\n",
       "      <th>0</th>\n",
       "      <td>2</td>\n",
       "      <td>2</td>\n",
       "      <td>10.7</td>\n",
       "      <td>47.65</td>\n",
       "      <td>144</td>\n",
       "    </tr>\n",
       "    <tr>\n",
       "      <th>1</th>\n",
       "      <td>2</td>\n",
       "      <td>3</td>\n",
       "      <td>14.0</td>\n",
       "      <td>63.13</td>\n",
       "      <td>215</td>\n",
       "    </tr>\n",
       "  </tbody>\n",
       "</table>\n",
       "</div>"
      ],
      "text/plain": [
       "   continent  brand  size   time price\n",
       "0          2      2  10.7  47.65   144\n",
       "1          2      3  14.0  63.13   215"
      ]
     },
     "execution_count": 26,
     "metadata": {},
     "output_type": "execute_result"
    }
   ],
   "source": [
    "del df['growth']\n",
    "df.head(2)"
   ]
  },
  {
   "cell_type": "markdown",
   "id": "03016ad7",
   "metadata": {},
   "source": [
    "# 특정 조건 만족하는 데이터 추출\n",
    "- AND 조건 : &\n",
    "- OR 조건 : |"
   ]
  },
  {
   "cell_type": "code",
   "execution_count": 27,
   "id": "fbff1f2d",
   "metadata": {
    "ExecuteTime": {
     "end_time": "2022-10-19T03:44:04.233721Z",
     "start_time": "2022-10-19T03:44:04.191828Z"
    }
   },
   "outputs": [
    {
     "data": {
      "text/html": [
       "<div>\n",
       "<style scoped>\n",
       "    .dataframe tbody tr th:only-of-type {\n",
       "        vertical-align: middle;\n",
       "    }\n",
       "\n",
       "    .dataframe tbody tr th {\n",
       "        vertical-align: top;\n",
       "    }\n",
       "\n",
       "    .dataframe thead th {\n",
       "        text-align: right;\n",
       "    }\n",
       "</style>\n",
       "<table border=\"1\" class=\"dataframe\">\n",
       "  <thead>\n",
       "    <tr style=\"text-align: right;\">\n",
       "      <th></th>\n",
       "      <th>continent</th>\n",
       "      <th>brand</th>\n",
       "      <th>size</th>\n",
       "      <th>time</th>\n",
       "      <th>price</th>\n",
       "    </tr>\n",
       "  </thead>\n",
       "  <tbody>\n",
       "    <tr>\n",
       "      <th>3</th>\n",
       "      <td>1</td>\n",
       "      <td>1</td>\n",
       "      <td>8.0</td>\n",
       "      <td>34.88</td>\n",
       "      <td>69</td>\n",
       "    </tr>\n",
       "    <tr>\n",
       "      <th>11</th>\n",
       "      <td>1</td>\n",
       "      <td>1</td>\n",
       "      <td>10.4</td>\n",
       "      <td>17.67</td>\n",
       "      <td>54</td>\n",
       "    </tr>\n",
       "  </tbody>\n",
       "</table>\n",
       "</div>"
      ],
      "text/plain": [
       "    continent  brand  size   time price\n",
       "3           1      1   8.0  34.88    69\n",
       "11          1      1  10.4  17.67    54"
      ]
     },
     "execution_count": 27,
     "metadata": {},
     "output_type": "execute_result"
    }
   ],
   "source": [
    "df_continent = df[(df['continent']==1) & (df['brand']==1)]\n",
    "df_continent.head(2)"
   ]
  },
  {
   "cell_type": "markdown",
   "id": "fe4c4e0a",
   "metadata": {},
   "source": [
    "# 코딩 변경"
   ]
  },
  {
   "cell_type": "code",
   "execution_count": 28,
   "id": "cf625835",
   "metadata": {
    "ExecuteTime": {
     "end_time": "2022-10-19T03:45:27.718759Z",
     "start_time": "2022-10-19T03:45:27.697811Z"
    }
   },
   "outputs": [
    {
     "data": {
      "text/plain": [
       "2    24\n",
       "1    23\n",
       "3    16\n",
       "Name: brand, dtype: int64"
      ]
     },
     "execution_count": 28,
     "metadata": {},
     "output_type": "execute_result"
    }
   ],
   "source": [
    "df['brand'].value_counts()"
   ]
  },
  {
   "cell_type": "code",
   "execution_count": 31,
   "id": "b77b401f",
   "metadata": {
    "ExecuteTime": {
     "end_time": "2022-10-19T03:46:40.862485Z",
     "start_time": "2022-10-19T03:46:40.833563Z"
    }
   },
   "outputs": [
    {
     "data": {
      "text/plain": [
       "1    47\n",
       "2    16\n",
       "Name: brand, dtype: int64"
      ]
     },
     "execution_count": 31,
     "metadata": {},
     "output_type": "execute_result"
    }
   ],
   "source": [
    "recode_brand = {'brand':{1:1, 2:1, 3:2}}\n",
    "df_recode1 = df.replace(recode_brand)\n",
    "df_recode1['brand'].value_counts()"
   ]
  },
  {
   "cell_type": "code",
   "execution_count": 34,
   "id": "be2dc040",
   "metadata": {
    "ExecuteTime": {
     "end_time": "2022-10-19T03:48:43.408353Z",
     "start_time": "2022-10-19T03:48:43.385415Z"
    }
   },
   "outputs": [
    {
     "data": {
      "text/html": [
       "<div>\n",
       "<style scoped>\n",
       "    .dataframe tbody tr th:only-of-type {\n",
       "        vertical-align: middle;\n",
       "    }\n",
       "\n",
       "    .dataframe tbody tr th {\n",
       "        vertical-align: top;\n",
       "    }\n",
       "\n",
       "    .dataframe thead th {\n",
       "        text-align: right;\n",
       "    }\n",
       "</style>\n",
       "<table border=\"1\" class=\"dataframe\">\n",
       "  <thead>\n",
       "    <tr style=\"text-align: right;\">\n",
       "      <th></th>\n",
       "      <th>continent</th>\n",
       "      <th>brand</th>\n",
       "      <th>size</th>\n",
       "      <th>time</th>\n",
       "      <th>price</th>\n",
       "      <th>re_brand</th>\n",
       "    </tr>\n",
       "  </thead>\n",
       "  <tbody>\n",
       "    <tr>\n",
       "      <th>0</th>\n",
       "      <td>2</td>\n",
       "      <td>2</td>\n",
       "      <td>10.7</td>\n",
       "      <td>47.65</td>\n",
       "      <td>144</td>\n",
       "      <td>1</td>\n",
       "    </tr>\n",
       "    <tr>\n",
       "      <th>1</th>\n",
       "      <td>2</td>\n",
       "      <td>3</td>\n",
       "      <td>14.0</td>\n",
       "      <td>63.13</td>\n",
       "      <td>215</td>\n",
       "      <td>2</td>\n",
       "    </tr>\n",
       "    <tr>\n",
       "      <th>2</th>\n",
       "      <td>2</td>\n",
       "      <td>2</td>\n",
       "      <td>9.0</td>\n",
       "      <td>58.76</td>\n",
       "      <td>105</td>\n",
       "      <td>1</td>\n",
       "    </tr>\n",
       "    <tr>\n",
       "      <th>3</th>\n",
       "      <td>1</td>\n",
       "      <td>1</td>\n",
       "      <td>8.0</td>\n",
       "      <td>34.88</td>\n",
       "      <td>69</td>\n",
       "      <td>1</td>\n",
       "    </tr>\n",
       "    <tr>\n",
       "      <th>4</th>\n",
       "      <td>2</td>\n",
       "      <td>2</td>\n",
       "      <td>10.0</td>\n",
       "      <td>55.53</td>\n",
       "      <td>134</td>\n",
       "      <td>1</td>\n",
       "    </tr>\n",
       "  </tbody>\n",
       "</table>\n",
       "</div>"
      ],
      "text/plain": [
       "   continent  brand  size   time price  re_brand\n",
       "0          2      2  10.7  47.65   144         1\n",
       "1          2      3  14.0  63.13   215         2\n",
       "2          2      2   9.0  58.76   105         1\n",
       "3          1      1   8.0  34.88    69         1\n",
       "4          2      2  10.0  55.53   134         1"
      ]
     },
     "execution_count": 34,
     "metadata": {},
     "output_type": "execute_result"
    }
   ],
   "source": [
    "def brand_groups(series):\n",
    "    if series == 1 :\n",
    "        return 1\n",
    "    elif series == 2 :\n",
    "        return 1\n",
    "    elif series == 3 :\n",
    "        return 2\n",
    "    \n",
    "df['re_brand'] = df['brand'].apply(brand_groups)\n",
    "df.head(5)"
   ]
  }
 ],
 "metadata": {
  "kernelspec": {
   "display_name": "Python 3 (ipykernel)",
   "language": "python",
   "name": "python3"
  },
  "language_info": {
   "codemirror_mode": {
    "name": "ipython",
    "version": 3
   },
   "file_extension": ".py",
   "mimetype": "text/x-python",
   "name": "python",
   "nbconvert_exporter": "python",
   "pygments_lexer": "ipython3",
   "version": "3.8.7"
  },
  "toc": {
   "base_numbering": 1,
   "nav_menu": {},
   "number_sections": true,
   "sideBar": true,
   "skip_h1_title": false,
   "title_cell": "Table of Contents",
   "title_sidebar": "Contents",
   "toc_cell": false,
   "toc_position": {},
   "toc_section_display": true,
   "toc_window_display": false
  },
  "varInspector": {
   "cols": {
    "lenName": 16,
    "lenType": 16,
    "lenVar": 40
   },
   "kernels_config": {
    "python": {
     "delete_cmd_postfix": "",
     "delete_cmd_prefix": "del ",
     "library": "var_list.py",
     "varRefreshCmd": "print(var_dic_list())"
    },
    "r": {
     "delete_cmd_postfix": ") ",
     "delete_cmd_prefix": "rm(",
     "library": "var_list.r",
     "varRefreshCmd": "cat(var_dic_list()) "
    }
   },
   "types_to_exclude": [
    "module",
    "function",
    "builtin_function_or_method",
    "instance",
    "_Feature"
   ],
   "window_display": false
  }
 },
 "nbformat": 4,
 "nbformat_minor": 5
}
