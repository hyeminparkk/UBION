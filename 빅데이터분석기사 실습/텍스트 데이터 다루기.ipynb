{
 "cells": [
  {
   "cell_type": "markdown",
   "id": "24bd0584",
   "metadata": {},
   "source": [
    "# 문자열 데이터 전처리\n",
    "- startswith(pat) : pat로 시작한다면 True, 아니면 False 반환\n",
    "- endswith(pat) : pat로 끝난다면 True, 아니면 False 반환\n",
    "- contains(pat) : pat이 포함되면 True, 아니면 False 반환\n",
    "- split(pat=None) : pat을 기준으로 문자열을 분할, pat의 default 값은 None으로 공백을 기준으로 분할됨\n",
    "- find(sub, start=0, end=None) : sub가 있는 위치를 start에서부터 end까지에서 찾아 위치값을 반환 (sub가 없을 경우 -1 반환)\n",
    "- rfind(sub, start=0, end=None) : sub가 있는 위치를 start에서부터 end까지에서 찾아 가장 높은 위치 값을 반환 (sub가 없을 경우 -1 반환)\n",
    "- findall(pat) : 모든 pat 항목 반환\n",
    "- replace(pat, repl) : pat를 repl으로 대치\n",
    "- strip(to_strip=None) : 선행 및 후행 문자를 제거, to_strip의 defaul값은 None으로 공백 제거\n",
    "- lstrip(to_strip=None) : 선행 문자 제거\n",
    "- rstrip(to_strip=None) : 후행 문자 제거\n",
    "- lower() : 모두 소문자로 변경\n",
    "- upper() : 모두 대문자로 변경\n",
    "- swapcase() : 소문자는 대문자, 대문자는 소문자로 변경"
   ]
  },
  {
   "cell_type": "code",
   "execution_count": 1,
   "id": "44abe0c7",
   "metadata": {},
   "outputs": [],
   "source": [
    "import pandas as pd"
   ]
  },
  {
   "cell_type": "markdown",
   "id": "84dce50a",
   "metadata": {},
   "source": [
    "# 데이터1 불러오기 "
   ]
  },
  {
   "cell_type": "code",
   "execution_count": 5,
   "id": "a1c5584a",
   "metadata": {},
   "outputs": [],
   "source": [
    "df = pd.read_csv('./datasets/예제/University_text_after.csv', encoding='CP949')"
   ]
  },
  {
   "cell_type": "code",
   "execution_count": 6,
   "id": "b5550e3d",
   "metadata": {},
   "outputs": [
    {
     "data": {
      "text/html": [
       "<div>\n",
       "<style scoped>\n",
       "    .dataframe tbody tr th:only-of-type {\n",
       "        vertical-align: middle;\n",
       "    }\n",
       "\n",
       "    .dataframe tbody tr th {\n",
       "        vertical-align: top;\n",
       "    }\n",
       "\n",
       "    .dataframe thead th {\n",
       "        text-align: right;\n",
       "    }\n",
       "</style>\n",
       "<table border=\"1\" class=\"dataframe\">\n",
       "  <thead>\n",
       "    <tr style=\"text-align: right;\">\n",
       "      <th></th>\n",
       "      <th>대학이름</th>\n",
       "      <th>주소</th>\n",
       "    </tr>\n",
       "  </thead>\n",
       "  <tbody>\n",
       "    <tr>\n",
       "      <th>0</th>\n",
       "      <td>서울대학교</td>\n",
       "      <td>서울특별시 관악구 관악로 1</td>\n",
       "    </tr>\n",
       "    <tr>\n",
       "      <th>1</th>\n",
       "      <td>KAIST</td>\n",
       "      <td>대전광역시 유성구 대학로 291</td>\n",
       "    </tr>\n",
       "    <tr>\n",
       "      <th>2</th>\n",
       "      <td>성균관대학교</td>\n",
       "      <td>서울특별시 종로구 성균관로 25-2</td>\n",
       "    </tr>\n",
       "    <tr>\n",
       "      <th>3</th>\n",
       "      <td>연세대학교</td>\n",
       "      <td>서울특별시 서대문구 연세로 50</td>\n",
       "    </tr>\n",
       "    <tr>\n",
       "      <th>4</th>\n",
       "      <td>UNIST</td>\n",
       "      <td>울산광역시 울주군 언양읍 유니스트길 50</td>\n",
       "    </tr>\n",
       "    <tr>\n",
       "      <th>5</th>\n",
       "      <td>포항공과대학교</td>\n",
       "      <td>경상북도 포항시 남구 청암로 77</td>\n",
       "    </tr>\n",
       "    <tr>\n",
       "      <th>6</th>\n",
       "      <td>고려대학교</td>\n",
       "      <td>서울특별시 성북구 안암로 145</td>\n",
       "    </tr>\n",
       "    <tr>\n",
       "      <th>7</th>\n",
       "      <td>경희대학교</td>\n",
       "      <td>서울특별시 동대문구 경희대로 26</td>\n",
       "    </tr>\n",
       "    <tr>\n",
       "      <th>8</th>\n",
       "      <td>세종대학교</td>\n",
       "      <td>서울특별시 광진구 능동로 209</td>\n",
       "    </tr>\n",
       "    <tr>\n",
       "      <th>9</th>\n",
       "      <td>한양대학교</td>\n",
       "      <td>서울특별시 성동구 왕십리로 222</td>\n",
       "    </tr>\n",
       "    <tr>\n",
       "      <th>10</th>\n",
       "      <td>GIST</td>\n",
       "      <td>광주광역시 북구 첨단과기로 123</td>\n",
       "    </tr>\n",
       "    <tr>\n",
       "      <th>11</th>\n",
       "      <td>아주대학교</td>\n",
       "      <td>경기도 수원시 영통구 월드컵로 206</td>\n",
       "    </tr>\n",
       "    <tr>\n",
       "      <th>12</th>\n",
       "      <td>중앙대학교</td>\n",
       "      <td>서울특별시 동작구 흑석로 84</td>\n",
       "    </tr>\n",
       "    <tr>\n",
       "      <th>13</th>\n",
       "      <td>이화여자대학교</td>\n",
       "      <td>서울특별시 서대문구 이화여대길 52</td>\n",
       "    </tr>\n",
       "    <tr>\n",
       "      <th>14</th>\n",
       "      <td>건국대학교</td>\n",
       "      <td>서울특별시 광진구 능동로 120</td>\n",
       "    </tr>\n",
       "    <tr>\n",
       "      <th>15</th>\n",
       "      <td>경북대학교</td>\n",
       "      <td>대구광역시 북구 대학로 80</td>\n",
       "    </tr>\n",
       "    <tr>\n",
       "      <th>16</th>\n",
       "      <td>울산대학교</td>\n",
       "      <td>울산광역시 남구 대학로 93</td>\n",
       "    </tr>\n",
       "    <tr>\n",
       "      <th>17</th>\n",
       "      <td>부산대학교</td>\n",
       "      <td>부산광역시 금정구 부산대학로63번길 2</td>\n",
       "    </tr>\n",
       "    <tr>\n",
       "      <th>18</th>\n",
       "      <td>영남대학교</td>\n",
       "      <td>경상북도 경산시 대학로 280</td>\n",
       "    </tr>\n",
       "    <tr>\n",
       "      <th>19</th>\n",
       "      <td>가톨릭대학교</td>\n",
       "      <td>서울특별시 종로구 창경궁로 296-12</td>\n",
       "    </tr>\n",
       "  </tbody>\n",
       "</table>\n",
       "</div>"
      ],
      "text/plain": [
       "       대학이름                      주소\n",
       "0     서울대학교         서울특별시 관악구 관악로 1\n",
       "1     KAIST       대전광역시 유성구 대학로 291\n",
       "2    성균관대학교     서울특별시 종로구 성균관로 25-2\n",
       "3     연세대학교       서울특별시 서대문구 연세로 50\n",
       "4     UNIST  울산광역시 울주군 언양읍 유니스트길 50\n",
       "5   포항공과대학교      경상북도 포항시 남구 청암로 77\n",
       "6     고려대학교       서울특별시 성북구 안암로 145\n",
       "7     경희대학교      서울특별시 동대문구 경희대로 26\n",
       "8     세종대학교       서울특별시 광진구 능동로 209\n",
       "9     한양대학교      서울특별시 성동구 왕십리로 222\n",
       "10     GIST      광주광역시 북구 첨단과기로 123\n",
       "11    아주대학교    경기도 수원시 영통구 월드컵로 206\n",
       "12    중앙대학교        서울특별시 동작구 흑석로 84\n",
       "13  이화여자대학교     서울특별시 서대문구 이화여대길 52\n",
       "14    건국대학교       서울특별시 광진구 능동로 120\n",
       "15    경북대학교         대구광역시 북구 대학로 80\n",
       "16    울산대학교         울산광역시 남구 대학로 93\n",
       "17    부산대학교   부산광역시 금정구 부산대학로63번길 2\n",
       "18    영남대학교        경상북도 경산시 대학로 280\n",
       "19   가톨릭대학교   서울특별시 종로구 창경궁로 296-12"
      ]
     },
     "execution_count": 6,
     "metadata": {},
     "output_type": "execute_result"
    }
   ],
   "source": [
    "df"
   ]
  },
  {
   "cell_type": "code",
   "execution_count": 7,
   "id": "d23a5b02",
   "metadata": {},
   "outputs": [
    {
     "data": {
      "text/plain": [
       "0     서울특별시\n",
       "1     대전광역시\n",
       "2     서울특별시\n",
       "3     서울특별시\n",
       "4     울산광역시\n",
       "5     경상북도 \n",
       "6     서울특별시\n",
       "7     서울특별시\n",
       "8     서울특별시\n",
       "9     서울특별시\n",
       "10    광주광역시\n",
       "11    경기도 수\n",
       "12    서울특별시\n",
       "13    서울특별시\n",
       "14    서울특별시\n",
       "15    대구광역시\n",
       "16    울산광역시\n",
       "17    부산광역시\n",
       "18    경상북도 \n",
       "19    서울특별시\n",
       "Name: 주소, dtype: object"
      ]
     },
     "execution_count": 7,
     "metadata": {},
     "output_type": "execute_result"
    }
   ],
   "source": [
    "df['주소'].str[0:5]"
   ]
  },
  {
   "cell_type": "markdown",
   "id": "50faaa01",
   "metadata": {},
   "source": [
    "# 주소가 '서울'로 시작하는 데이터셋 추출"
   ]
  },
  {
   "cell_type": "code",
   "execution_count": 9,
   "id": "aaf06f6b",
   "metadata": {},
   "outputs": [
    {
     "data": {
      "text/html": [
       "<div>\n",
       "<style scoped>\n",
       "    .dataframe tbody tr th:only-of-type {\n",
       "        vertical-align: middle;\n",
       "    }\n",
       "\n",
       "    .dataframe tbody tr th {\n",
       "        vertical-align: top;\n",
       "    }\n",
       "\n",
       "    .dataframe thead th {\n",
       "        text-align: right;\n",
       "    }\n",
       "</style>\n",
       "<table border=\"1\" class=\"dataframe\">\n",
       "  <thead>\n",
       "    <tr style=\"text-align: right;\">\n",
       "      <th></th>\n",
       "      <th>대학이름</th>\n",
       "      <th>주소</th>\n",
       "    </tr>\n",
       "  </thead>\n",
       "  <tbody>\n",
       "    <tr>\n",
       "      <th>0</th>\n",
       "      <td>서울대학교</td>\n",
       "      <td>서울특별시 관악구 관악로 1</td>\n",
       "    </tr>\n",
       "    <tr>\n",
       "      <th>2</th>\n",
       "      <td>성균관대학교</td>\n",
       "      <td>서울특별시 종로구 성균관로 25-2</td>\n",
       "    </tr>\n",
       "    <tr>\n",
       "      <th>3</th>\n",
       "      <td>연세대학교</td>\n",
       "      <td>서울특별시 서대문구 연세로 50</td>\n",
       "    </tr>\n",
       "    <tr>\n",
       "      <th>6</th>\n",
       "      <td>고려대학교</td>\n",
       "      <td>서울특별시 성북구 안암로 145</td>\n",
       "    </tr>\n",
       "    <tr>\n",
       "      <th>7</th>\n",
       "      <td>경희대학교</td>\n",
       "      <td>서울특별시 동대문구 경희대로 26</td>\n",
       "    </tr>\n",
       "    <tr>\n",
       "      <th>8</th>\n",
       "      <td>세종대학교</td>\n",
       "      <td>서울특별시 광진구 능동로 209</td>\n",
       "    </tr>\n",
       "    <tr>\n",
       "      <th>9</th>\n",
       "      <td>한양대학교</td>\n",
       "      <td>서울특별시 성동구 왕십리로 222</td>\n",
       "    </tr>\n",
       "    <tr>\n",
       "      <th>12</th>\n",
       "      <td>중앙대학교</td>\n",
       "      <td>서울특별시 동작구 흑석로 84</td>\n",
       "    </tr>\n",
       "    <tr>\n",
       "      <th>13</th>\n",
       "      <td>이화여자대학교</td>\n",
       "      <td>서울특별시 서대문구 이화여대길 52</td>\n",
       "    </tr>\n",
       "    <tr>\n",
       "      <th>14</th>\n",
       "      <td>건국대학교</td>\n",
       "      <td>서울특별시 광진구 능동로 120</td>\n",
       "    </tr>\n",
       "    <tr>\n",
       "      <th>19</th>\n",
       "      <td>가톨릭대학교</td>\n",
       "      <td>서울특별시 종로구 창경궁로 296-12</td>\n",
       "    </tr>\n",
       "  </tbody>\n",
       "</table>\n",
       "</div>"
      ],
      "text/plain": [
       "       대학이름                     주소\n",
       "0     서울대학교        서울특별시 관악구 관악로 1\n",
       "2    성균관대학교    서울특별시 종로구 성균관로 25-2\n",
       "3     연세대학교      서울특별시 서대문구 연세로 50\n",
       "6     고려대학교      서울특별시 성북구 안암로 145\n",
       "7     경희대학교     서울특별시 동대문구 경희대로 26\n",
       "8     세종대학교      서울특별시 광진구 능동로 209\n",
       "9     한양대학교     서울특별시 성동구 왕십리로 222\n",
       "12    중앙대학교       서울특별시 동작구 흑석로 84\n",
       "13  이화여자대학교    서울특별시 서대문구 이화여대길 52\n",
       "14    건국대학교      서울특별시 광진구 능동로 120\n",
       "19   가톨릭대학교  서울특별시 종로구 창경궁로 296-12"
      ]
     },
     "execution_count": 9,
     "metadata": {},
     "output_type": "execute_result"
    }
   ],
   "source": [
    "df[df['주소'].str.startswith('서울')]"
   ]
  },
  {
   "cell_type": "markdown",
   "id": "caa142f9",
   "metadata": {},
   "source": [
    "# 주소가 '서울'로 시작하지 않는 데이터셋 추출"
   ]
  },
  {
   "cell_type": "code",
   "execution_count": 10,
   "id": "e3c8bf28",
   "metadata": {},
   "outputs": [
    {
     "data": {
      "text/html": [
       "<div>\n",
       "<style scoped>\n",
       "    .dataframe tbody tr th:only-of-type {\n",
       "        vertical-align: middle;\n",
       "    }\n",
       "\n",
       "    .dataframe tbody tr th {\n",
       "        vertical-align: top;\n",
       "    }\n",
       "\n",
       "    .dataframe thead th {\n",
       "        text-align: right;\n",
       "    }\n",
       "</style>\n",
       "<table border=\"1\" class=\"dataframe\">\n",
       "  <thead>\n",
       "    <tr style=\"text-align: right;\">\n",
       "      <th></th>\n",
       "      <th>대학이름</th>\n",
       "      <th>주소</th>\n",
       "    </tr>\n",
       "  </thead>\n",
       "  <tbody>\n",
       "    <tr>\n",
       "      <th>1</th>\n",
       "      <td>KAIST</td>\n",
       "      <td>대전광역시 유성구 대학로 291</td>\n",
       "    </tr>\n",
       "    <tr>\n",
       "      <th>4</th>\n",
       "      <td>UNIST</td>\n",
       "      <td>울산광역시 울주군 언양읍 유니스트길 50</td>\n",
       "    </tr>\n",
       "    <tr>\n",
       "      <th>5</th>\n",
       "      <td>포항공과대학교</td>\n",
       "      <td>경상북도 포항시 남구 청암로 77</td>\n",
       "    </tr>\n",
       "    <tr>\n",
       "      <th>10</th>\n",
       "      <td>GIST</td>\n",
       "      <td>광주광역시 북구 첨단과기로 123</td>\n",
       "    </tr>\n",
       "    <tr>\n",
       "      <th>11</th>\n",
       "      <td>아주대학교</td>\n",
       "      <td>경기도 수원시 영통구 월드컵로 206</td>\n",
       "    </tr>\n",
       "    <tr>\n",
       "      <th>15</th>\n",
       "      <td>경북대학교</td>\n",
       "      <td>대구광역시 북구 대학로 80</td>\n",
       "    </tr>\n",
       "    <tr>\n",
       "      <th>16</th>\n",
       "      <td>울산대학교</td>\n",
       "      <td>울산광역시 남구 대학로 93</td>\n",
       "    </tr>\n",
       "    <tr>\n",
       "      <th>17</th>\n",
       "      <td>부산대학교</td>\n",
       "      <td>부산광역시 금정구 부산대학로63번길 2</td>\n",
       "    </tr>\n",
       "    <tr>\n",
       "      <th>18</th>\n",
       "      <td>영남대학교</td>\n",
       "      <td>경상북도 경산시 대학로 280</td>\n",
       "    </tr>\n",
       "  </tbody>\n",
       "</table>\n",
       "</div>"
      ],
      "text/plain": [
       "       대학이름                      주소\n",
       "1     KAIST       대전광역시 유성구 대학로 291\n",
       "4     UNIST  울산광역시 울주군 언양읍 유니스트길 50\n",
       "5   포항공과대학교      경상북도 포항시 남구 청암로 77\n",
       "10     GIST      광주광역시 북구 첨단과기로 123\n",
       "11    아주대학교    경기도 수원시 영통구 월드컵로 206\n",
       "15    경북대학교         대구광역시 북구 대학로 80\n",
       "16    울산대학교         울산광역시 남구 대학로 93\n",
       "17    부산대학교   부산광역시 금정구 부산대학로63번길 2\n",
       "18    영남대학교        경상북도 경산시 대학로 280"
      ]
     },
     "execution_count": 10,
     "metadata": {},
     "output_type": "execute_result"
    }
   ],
   "source": [
    "df[~df['주소'].str.startswith('서울')]"
   ]
  },
  {
   "cell_type": "markdown",
   "id": "af277000",
   "metadata": {},
   "source": [
    "# 대학이름이 '대학교'로 끝나는 데이터셋 추출"
   ]
  },
  {
   "cell_type": "code",
   "execution_count": 11,
   "id": "a38411fc",
   "metadata": {},
   "outputs": [
    {
     "data": {
      "text/html": [
       "<div>\n",
       "<style scoped>\n",
       "    .dataframe tbody tr th:only-of-type {\n",
       "        vertical-align: middle;\n",
       "    }\n",
       "\n",
       "    .dataframe tbody tr th {\n",
       "        vertical-align: top;\n",
       "    }\n",
       "\n",
       "    .dataframe thead th {\n",
       "        text-align: right;\n",
       "    }\n",
       "</style>\n",
       "<table border=\"1\" class=\"dataframe\">\n",
       "  <thead>\n",
       "    <tr style=\"text-align: right;\">\n",
       "      <th></th>\n",
       "      <th>대학이름</th>\n",
       "      <th>주소</th>\n",
       "    </tr>\n",
       "  </thead>\n",
       "  <tbody>\n",
       "    <tr>\n",
       "      <th>0</th>\n",
       "      <td>서울대학교</td>\n",
       "      <td>서울특별시 관악구 관악로 1</td>\n",
       "    </tr>\n",
       "    <tr>\n",
       "      <th>2</th>\n",
       "      <td>성균관대학교</td>\n",
       "      <td>서울특별시 종로구 성균관로 25-2</td>\n",
       "    </tr>\n",
       "    <tr>\n",
       "      <th>3</th>\n",
       "      <td>연세대학교</td>\n",
       "      <td>서울특별시 서대문구 연세로 50</td>\n",
       "    </tr>\n",
       "    <tr>\n",
       "      <th>5</th>\n",
       "      <td>포항공과대학교</td>\n",
       "      <td>경상북도 포항시 남구 청암로 77</td>\n",
       "    </tr>\n",
       "    <tr>\n",
       "      <th>6</th>\n",
       "      <td>고려대학교</td>\n",
       "      <td>서울특별시 성북구 안암로 145</td>\n",
       "    </tr>\n",
       "    <tr>\n",
       "      <th>7</th>\n",
       "      <td>경희대학교</td>\n",
       "      <td>서울특별시 동대문구 경희대로 26</td>\n",
       "    </tr>\n",
       "    <tr>\n",
       "      <th>8</th>\n",
       "      <td>세종대학교</td>\n",
       "      <td>서울특별시 광진구 능동로 209</td>\n",
       "    </tr>\n",
       "    <tr>\n",
       "      <th>9</th>\n",
       "      <td>한양대학교</td>\n",
       "      <td>서울특별시 성동구 왕십리로 222</td>\n",
       "    </tr>\n",
       "    <tr>\n",
       "      <th>11</th>\n",
       "      <td>아주대학교</td>\n",
       "      <td>경기도 수원시 영통구 월드컵로 206</td>\n",
       "    </tr>\n",
       "    <tr>\n",
       "      <th>12</th>\n",
       "      <td>중앙대학교</td>\n",
       "      <td>서울특별시 동작구 흑석로 84</td>\n",
       "    </tr>\n",
       "    <tr>\n",
       "      <th>13</th>\n",
       "      <td>이화여자대학교</td>\n",
       "      <td>서울특별시 서대문구 이화여대길 52</td>\n",
       "    </tr>\n",
       "    <tr>\n",
       "      <th>14</th>\n",
       "      <td>건국대학교</td>\n",
       "      <td>서울특별시 광진구 능동로 120</td>\n",
       "    </tr>\n",
       "    <tr>\n",
       "      <th>15</th>\n",
       "      <td>경북대학교</td>\n",
       "      <td>대구광역시 북구 대학로 80</td>\n",
       "    </tr>\n",
       "    <tr>\n",
       "      <th>16</th>\n",
       "      <td>울산대학교</td>\n",
       "      <td>울산광역시 남구 대학로 93</td>\n",
       "    </tr>\n",
       "    <tr>\n",
       "      <th>17</th>\n",
       "      <td>부산대학교</td>\n",
       "      <td>부산광역시 금정구 부산대학로63번길 2</td>\n",
       "    </tr>\n",
       "    <tr>\n",
       "      <th>18</th>\n",
       "      <td>영남대학교</td>\n",
       "      <td>경상북도 경산시 대학로 280</td>\n",
       "    </tr>\n",
       "    <tr>\n",
       "      <th>19</th>\n",
       "      <td>가톨릭대학교</td>\n",
       "      <td>서울특별시 종로구 창경궁로 296-12</td>\n",
       "    </tr>\n",
       "  </tbody>\n",
       "</table>\n",
       "</div>"
      ],
      "text/plain": [
       "       대학이름                     주소\n",
       "0     서울대학교        서울특별시 관악구 관악로 1\n",
       "2    성균관대학교    서울특별시 종로구 성균관로 25-2\n",
       "3     연세대학교      서울특별시 서대문구 연세로 50\n",
       "5   포항공과대학교     경상북도 포항시 남구 청암로 77\n",
       "6     고려대학교      서울특별시 성북구 안암로 145\n",
       "7     경희대학교     서울특별시 동대문구 경희대로 26\n",
       "8     세종대학교      서울특별시 광진구 능동로 209\n",
       "9     한양대학교     서울특별시 성동구 왕십리로 222\n",
       "11    아주대학교   경기도 수원시 영통구 월드컵로 206\n",
       "12    중앙대학교       서울특별시 동작구 흑석로 84\n",
       "13  이화여자대학교    서울특별시 서대문구 이화여대길 52\n",
       "14    건국대학교      서울특별시 광진구 능동로 120\n",
       "15    경북대학교        대구광역시 북구 대학로 80\n",
       "16    울산대학교        울산광역시 남구 대학로 93\n",
       "17    부산대학교  부산광역시 금정구 부산대학로63번길 2\n",
       "18    영남대학교       경상북도 경산시 대학로 280\n",
       "19   가톨릭대학교  서울특별시 종로구 창경궁로 296-12"
      ]
     },
     "execution_count": 11,
     "metadata": {},
     "output_type": "execute_result"
    }
   ],
   "source": [
    "df[df['대학이름'].str.endswith('대학교')]"
   ]
  },
  {
   "cell_type": "markdown",
   "id": "23de9387",
   "metadata": {},
   "source": [
    "# 대학이름이 '대학교'로 끝나지 않는 데이터셋 추출"
   ]
  },
  {
   "cell_type": "code",
   "execution_count": 12,
   "id": "3f12be4f",
   "metadata": {},
   "outputs": [
    {
     "data": {
      "text/html": [
       "<div>\n",
       "<style scoped>\n",
       "    .dataframe tbody tr th:only-of-type {\n",
       "        vertical-align: middle;\n",
       "    }\n",
       "\n",
       "    .dataframe tbody tr th {\n",
       "        vertical-align: top;\n",
       "    }\n",
       "\n",
       "    .dataframe thead th {\n",
       "        text-align: right;\n",
       "    }\n",
       "</style>\n",
       "<table border=\"1\" class=\"dataframe\">\n",
       "  <thead>\n",
       "    <tr style=\"text-align: right;\">\n",
       "      <th></th>\n",
       "      <th>대학이름</th>\n",
       "      <th>주소</th>\n",
       "    </tr>\n",
       "  </thead>\n",
       "  <tbody>\n",
       "    <tr>\n",
       "      <th>1</th>\n",
       "      <td>KAIST</td>\n",
       "      <td>대전광역시 유성구 대학로 291</td>\n",
       "    </tr>\n",
       "    <tr>\n",
       "      <th>4</th>\n",
       "      <td>UNIST</td>\n",
       "      <td>울산광역시 울주군 언양읍 유니스트길 50</td>\n",
       "    </tr>\n",
       "    <tr>\n",
       "      <th>10</th>\n",
       "      <td>GIST</td>\n",
       "      <td>광주광역시 북구 첨단과기로 123</td>\n",
       "    </tr>\n",
       "  </tbody>\n",
       "</table>\n",
       "</div>"
      ],
      "text/plain": [
       "     대학이름                      주소\n",
       "1   KAIST       대전광역시 유성구 대학로 291\n",
       "4   UNIST  울산광역시 울주군 언양읍 유니스트길 50\n",
       "10   GIST      광주광역시 북구 첨단과기로 123"
      ]
     },
     "execution_count": 12,
     "metadata": {},
     "output_type": "execute_result"
    }
   ],
   "source": [
    "df[~df['대학이름'].str.endswith('대학교')]"
   ]
  },
  {
   "cell_type": "markdown",
   "id": "326a99dd",
   "metadata": {},
   "source": [
    "# 주소에 '광역시'를 포함하는 데이터셋 추출"
   ]
  },
  {
   "cell_type": "code",
   "execution_count": 13,
   "id": "8eef2392",
   "metadata": {},
   "outputs": [
    {
     "data": {
      "text/html": [
       "<div>\n",
       "<style scoped>\n",
       "    .dataframe tbody tr th:only-of-type {\n",
       "        vertical-align: middle;\n",
       "    }\n",
       "\n",
       "    .dataframe tbody tr th {\n",
       "        vertical-align: top;\n",
       "    }\n",
       "\n",
       "    .dataframe thead th {\n",
       "        text-align: right;\n",
       "    }\n",
       "</style>\n",
       "<table border=\"1\" class=\"dataframe\">\n",
       "  <thead>\n",
       "    <tr style=\"text-align: right;\">\n",
       "      <th></th>\n",
       "      <th>대학이름</th>\n",
       "      <th>주소</th>\n",
       "    </tr>\n",
       "  </thead>\n",
       "  <tbody>\n",
       "    <tr>\n",
       "      <th>1</th>\n",
       "      <td>KAIST</td>\n",
       "      <td>대전광역시 유성구 대학로 291</td>\n",
       "    </tr>\n",
       "    <tr>\n",
       "      <th>4</th>\n",
       "      <td>UNIST</td>\n",
       "      <td>울산광역시 울주군 언양읍 유니스트길 50</td>\n",
       "    </tr>\n",
       "    <tr>\n",
       "      <th>10</th>\n",
       "      <td>GIST</td>\n",
       "      <td>광주광역시 북구 첨단과기로 123</td>\n",
       "    </tr>\n",
       "    <tr>\n",
       "      <th>15</th>\n",
       "      <td>경북대학교</td>\n",
       "      <td>대구광역시 북구 대학로 80</td>\n",
       "    </tr>\n",
       "    <tr>\n",
       "      <th>16</th>\n",
       "      <td>울산대학교</td>\n",
       "      <td>울산광역시 남구 대학로 93</td>\n",
       "    </tr>\n",
       "    <tr>\n",
       "      <th>17</th>\n",
       "      <td>부산대학교</td>\n",
       "      <td>부산광역시 금정구 부산대학로63번길 2</td>\n",
       "    </tr>\n",
       "  </tbody>\n",
       "</table>\n",
       "</div>"
      ],
      "text/plain": [
       "     대학이름                      주소\n",
       "1   KAIST       대전광역시 유성구 대학로 291\n",
       "4   UNIST  울산광역시 울주군 언양읍 유니스트길 50\n",
       "10   GIST      광주광역시 북구 첨단과기로 123\n",
       "15  경북대학교         대구광역시 북구 대학로 80\n",
       "16  울산대학교         울산광역시 남구 대학로 93\n",
       "17  부산대학교   부산광역시 금정구 부산대학로63번길 2"
      ]
     },
     "execution_count": 13,
     "metadata": {},
     "output_type": "execute_result"
    }
   ],
   "source": [
    "df[df['주소'].str.contains('광역시')]"
   ]
  },
  {
   "cell_type": "markdown",
   "id": "a2f3d21b",
   "metadata": {},
   "source": [
    "# 주소를 공백을 기준으로 분리"
   ]
  },
  {
   "cell_type": "code",
   "execution_count": 15,
   "id": "95d4f7c3",
   "metadata": {},
   "outputs": [
    {
     "data": {
      "text/plain": [
       "0             [서울특별시, 관악구, 관악로, 1]\n",
       "1           [대전광역시, 유성구, 대학로, 291]\n",
       "2         [서울특별시, 종로구, 성균관로, 25-2]\n",
       "3           [서울특별시, 서대문구, 연세로, 50]\n",
       "4     [울산광역시, 울주군, 언양읍, 유니스트길, 50]\n",
       "5         [경상북도, 포항시, 남구, 청암로, 77]\n",
       "6           [서울특별시, 성북구, 안암로, 145]\n",
       "7          [서울특별시, 동대문구, 경희대로, 26]\n",
       "8           [서울특별시, 광진구, 능동로, 209]\n",
       "9          [서울특별시, 성동구, 왕십리로, 222]\n",
       "10         [광주광역시, 북구, 첨단과기로, 123]\n",
       "11      [경기도, 수원시, 영통구, 월드컵로, 206]\n",
       "12           [서울특별시, 동작구, 흑석로, 84]\n",
       "13        [서울특별시, 서대문구, 이화여대길, 52]\n",
       "14          [서울특별시, 광진구, 능동로, 120]\n",
       "15            [대구광역시, 북구, 대학로, 80]\n",
       "16            [울산광역시, 남구, 대학로, 93]\n",
       "17      [부산광역시, 금정구, 부산대학로63번길, 2]\n",
       "18           [경상북도, 경산시, 대학로, 280]\n",
       "19      [서울특별시, 종로구, 창경궁로, 296-12]\n",
       "Name: 주소, dtype: object"
      ]
     },
     "execution_count": 15,
     "metadata": {},
     "output_type": "execute_result"
    }
   ],
   "source": [
    "df['주소'].str.split()"
   ]
  },
  {
   "cell_type": "markdown",
   "id": "44f08c0c",
   "metadata": {},
   "source": [
    "# 주소의 '구' 위치값 추출"
   ]
  },
  {
   "cell_type": "code",
   "execution_count": 16,
   "id": "00183a6d",
   "metadata": {},
   "outputs": [
    {
     "data": {
      "text/plain": [
       "0      8\n",
       "1      8\n",
       "2      8\n",
       "3      9\n",
       "4     -1\n",
       "5     10\n",
       "6      8\n",
       "7      9\n",
       "8      8\n",
       "9      8\n",
       "10     7\n",
       "11    10\n",
       "12     8\n",
       "13     9\n",
       "14     8\n",
       "15     1\n",
       "16     7\n",
       "17     8\n",
       "18    -1\n",
       "19     8\n",
       "Name: 주소, dtype: int64"
      ]
     },
     "execution_count": 16,
     "metadata": {},
     "output_type": "execute_result"
    }
   ],
   "source": [
    "df['주소'].str.find('구')"
   ]
  },
  {
   "cell_type": "markdown",
   "id": "fb028c25",
   "metadata": {},
   "source": [
    "# 주소의 가장 뒤에 있는 공백 위치 추출"
   ]
  },
  {
   "cell_type": "code",
   "execution_count": 19,
   "id": "031ebe7c",
   "metadata": {},
   "outputs": [
    {
     "data": {
      "text/plain": [
       "0     13\n",
       "1     13\n",
       "2     14\n",
       "3     14\n",
       "4     19\n",
       "5     15\n",
       "6     13\n",
       "7     15\n",
       "8     13\n",
       "9     14\n",
       "10    14\n",
       "11    16\n",
       "12    13\n",
       "13    16\n",
       "14    13\n",
       "15    12\n",
       "16    12\n",
       "17    19\n",
       "18    12\n",
       "19    14\n",
       "Name: 주소, dtype: int64"
      ]
     },
     "execution_count": 19,
     "metadata": {},
     "output_type": "execute_result"
    }
   ],
   "source": [
    "df['주소'].str.rfind(sub=' ')"
   ]
  },
  {
   "cell_type": "markdown",
   "id": "7e5d0a3f",
   "metadata": {},
   "source": [
    "# 주소에서 '구'로 끝나는 단어들 모두 반환"
   ]
  },
  {
   "cell_type": "code",
   "execution_count": 23,
   "id": "9bd11b99",
   "metadata": {},
   "outputs": [
    {
     "data": {
      "text/plain": [
       "0        [관악구]\n",
       "1        [유성구]\n",
       "2        [종로구]\n",
       "3       [서대문구]\n",
       "4           []\n",
       "5         [남구]\n",
       "6        [성북구]\n",
       "7       [동대문구]\n",
       "8        [광진구]\n",
       "9        [성동구]\n",
       "10        [북구]\n",
       "11       [영통구]\n",
       "12       [동작구]\n",
       "13      [서대문구]\n",
       "14       [광진구]\n",
       "15    [대구, 북구]\n",
       "16        [남구]\n",
       "17       [금정구]\n",
       "18          []\n",
       "19       [종로구]\n",
       "Name: 주소, dtype: object"
      ]
     },
     "execution_count": 23,
     "metadata": {},
     "output_type": "execute_result"
    }
   ],
   "source": [
    "df['주소'].str.findall('\\w+구')"
   ]
  },
  {
   "cell_type": "markdown",
   "id": "cf729b4c",
   "metadata": {},
   "source": [
    "# 주소의 공백을 '_'로 대치"
   ]
  },
  {
   "cell_type": "code",
   "execution_count": 24,
   "id": "69e8fcdb",
   "metadata": {},
   "outputs": [
    {
     "data": {
      "text/plain": [
       "0            서울특별시_관악구_관악로_1\n",
       "1          대전광역시_유성구_대학로_291\n",
       "2        서울특별시_종로구_성균관로_25-2\n",
       "3          서울특별시_서대문구_연세로_50\n",
       "4     울산광역시_울주군_언양읍_유니스트길_50\n",
       "5         경상북도_포항시_남구_청암로_77\n",
       "6          서울특별시_성북구_안암로_145\n",
       "7         서울특별시_동대문구_경희대로_26\n",
       "8          서울특별시_광진구_능동로_209\n",
       "9         서울특별시_성동구_왕십리로_222\n",
       "10        광주광역시_북구_첨단과기로_123\n",
       "11      경기도_수원시_영통구_월드컵로_206\n",
       "12          서울특별시_동작구_흑석로_84\n",
       "13       서울특별시_서대문구_이화여대길_52\n",
       "14         서울특별시_광진구_능동로_120\n",
       "15           대구광역시_북구_대학로_80\n",
       "16           울산광역시_남구_대학로_93\n",
       "17     부산광역시_금정구_부산대학로63번길_2\n",
       "18          경상북도_경산시_대학로_280\n",
       "19     서울특별시_종로구_창경궁로_296-12\n",
       "Name: 주소, dtype: object"
      ]
     },
     "execution_count": 24,
     "metadata": {},
     "output_type": "execute_result"
    }
   ],
   "source": [
    "df['주소'].str.replace(\" \", \"_\")"
   ]
  },
  {
   "cell_type": "markdown",
   "id": "8d50de99",
   "metadata": {},
   "source": [
    "# 데이터2 불러오기"
   ]
  },
  {
   "cell_type": "code",
   "execution_count": 26,
   "id": "c91ef898",
   "metadata": {},
   "outputs": [],
   "source": [
    "df = pd.read_csv('./datasets/예제/University_text_before.csv', encoding='CP949')"
   ]
  },
  {
   "cell_type": "code",
   "execution_count": 27,
   "id": "0bd6e7a9",
   "metadata": {},
   "outputs": [
    {
     "data": {
      "text/plain": [
       "0                      /!서울특별시 관악구 관악로 1\n",
       "1                   대전광역시 유성구 대학로 291 ##\n",
       "2                    서울특별시 종로구 성균관로 25-2\n",
       "3                      서울특별시 서대문구 연세로 50\n",
       "4            ## 울산광역시 울주군 언양읍 유니스트길 50 %\n",
       "5                     경상북도 포항시 남구 청암로 77\n",
       "6                      서울특별시 성북구 안암로 145\n",
       "7                     서울특별시 동대문구 경희대로 26\n",
       "8                    ^!서울특별시 광진구 능동로 209\n",
       "9                     서울특별시 성동구 왕십리로 222\n",
       "10                    광주광역시 북구 첨단과기로 123\n",
       "11                  경기도 수원시 영통구 월드컵로 206\n",
       "12        서울특별시 동작구 흑석로 84              \n",
       "13         __________서울특별시 서대문구 이화여대길 52\n",
       "14                     서울특별시 광진구 능동로 120\n",
       "15            대구광역시 북구 대학로 80           \n",
       "16                    울산광역시 남구 대학로 93___\n",
       "17                 부산광역시 금정구 부산대학로63번길 2\n",
       "18                      경상북도 경산시 대학로 280\n",
       "19                 서울특별시 종로구 창경궁로 296-12\n",
       "Name: 주소, dtype: object"
      ]
     },
     "execution_count": 27,
     "metadata": {},
     "output_type": "execute_result"
    }
   ],
   "source": [
    "df['주소']"
   ]
  },
  {
   "cell_type": "markdown",
   "id": "bcc2def5",
   "metadata": {},
   "source": [
    "# 주소의 선행 및 후행 문자 제거"
   ]
  },
  {
   "cell_type": "code",
   "execution_count": 28,
   "id": "e0cad9e2",
   "metadata": {},
   "outputs": [
    {
     "data": {
      "text/plain": [
       "0            서울특별시 관악구 관악로 1\n",
       "1          대전광역시 유성구 대학로 291\n",
       "2        서울특별시 종로구 성균관로 25-2\n",
       "3          서울특별시 서대문구 연세로 50\n",
       "4     울산광역시 울주군 언양읍 유니스트길 50\n",
       "5         경상북도 포항시 남구 청암로 77\n",
       "6          서울특별시 성북구 안암로 145\n",
       "7         서울특별시 동대문구 경희대로 26\n",
       "8          서울특별시 광진구 능동로 209\n",
       "9         서울특별시 성동구 왕십리로 222\n",
       "10        광주광역시 북구 첨단과기로 123\n",
       "11      경기도 수원시 영통구 월드컵로 206\n",
       "12          서울특별시 동작구 흑석로 84\n",
       "13       서울특별시 서대문구 이화여대길 52\n",
       "14         서울특별시 광진구 능동로 120\n",
       "15           대구광역시 북구 대학로 80\n",
       "16           울산광역시 남구 대학로 93\n",
       "17     부산광역시 금정구 부산대학로63번길 2\n",
       "18          경상북도 경산시 대학로 280\n",
       "19     서울특별시 종로구 창경궁로 296-12\n",
       "Name: 주소, dtype: object"
      ]
     },
     "execution_count": 28,
     "metadata": {},
     "output_type": "execute_result"
    }
   ],
   "source": [
    "df['주소'].str.strip(to_strip='_^!#? /%')"
   ]
  }
 ],
 "metadata": {
  "kernelspec": {
   "display_name": "Python 3 (ipykernel)",
   "language": "python",
   "name": "python3"
  },
  "language_info": {
   "codemirror_mode": {
    "name": "ipython",
    "version": 3
   },
   "file_extension": ".py",
   "mimetype": "text/x-python",
   "name": "python",
   "nbconvert_exporter": "python",
   "pygments_lexer": "ipython3",
   "version": "3.10.7"
  }
 },
 "nbformat": 4,
 "nbformat_minor": 5
}
