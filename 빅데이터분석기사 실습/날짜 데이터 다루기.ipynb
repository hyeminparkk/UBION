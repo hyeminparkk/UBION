{
 "cells": [
  {
   "cell_type": "markdown",
   "id": "86c6e35c",
   "metadata": {},
   "source": [
    "# pandas.to_datetime(arg, format=None, ...)"
   ]
  },
  {
   "cell_type": "markdown",
   "id": "b29ae0a2",
   "metadata": {},
   "source": [
    "# 데이터 불러오기"
   ]
  },
  {
   "cell_type": "code",
   "execution_count": 1,
   "id": "b561ae4a",
   "metadata": {},
   "outputs": [],
   "source": [
    "import pandas as pd\n",
    "\n",
    "df = pd.read_csv('./datasets/예제/University_date.csv', encoding='CP949')"
   ]
  },
  {
   "cell_type": "markdown",
   "id": "48fe2f33",
   "metadata": {},
   "source": [
    "# 문자열 -> datetime형"
   ]
  },
  {
   "cell_type": "code",
   "execution_count": 3,
   "id": "b52a6a35",
   "metadata": {},
   "outputs": [
    {
     "data": {
      "text/plain": [
       "0    1946-10-15\n",
       "1    1971-02-16\n",
       "2    2007-09-03\n",
       "3    1986-12-03\n",
       "4    1905-05-05\n",
       "5    1993-11-17\n",
       "6    1946-05-15\n",
       "7    1969-12-24\n",
       "8    1946-05-15\n",
       "Name: 창립일, dtype: object"
      ]
     },
     "execution_count": 3,
     "metadata": {},
     "output_type": "execute_result"
    }
   ],
   "source": [
    "df['창립일']"
   ]
  },
  {
   "cell_type": "code",
   "execution_count": 5,
   "id": "126d0b99",
   "metadata": {},
   "outputs": [],
   "source": [
    "df['창립일'] = pd.to_datetime(df['창립일'], format='%Y-%m-%d')"
   ]
  },
  {
   "cell_type": "code",
   "execution_count": 6,
   "id": "779dfc3d",
   "metadata": {},
   "outputs": [
    {
     "data": {
      "text/plain": [
       "0   1946-10-15\n",
       "1   1971-02-16\n",
       "2   2007-09-03\n",
       "3   1986-12-03\n",
       "4   1905-05-05\n",
       "5   1993-11-17\n",
       "6   1946-05-15\n",
       "7   1969-12-24\n",
       "8   1946-05-15\n",
       "Name: 창립일, dtype: datetime64[ns]"
      ]
     },
     "execution_count": 6,
     "metadata": {},
     "output_type": "execute_result"
    }
   ],
   "source": [
    "df['창립일']"
   ]
  },
  {
   "cell_type": "markdown",
   "id": "827add46",
   "metadata": {},
   "source": [
    "# pandas.date_range(start, end=None, periods=None, freq='D', ...)\n",
    "- periods : 생성할 주기의 수\n",
    "- freq : 주기를 생성할 기준(단위) / default='D'로 일(day)의 단위로 생성"
   ]
  },
  {
   "cell_type": "code",
   "execution_count": 7,
   "id": "1b6dc9ba",
   "metadata": {},
   "outputs": [
    {
     "data": {
      "text/plain": [
       "DatetimeIndex(['2000-01-01', '2000-01-02', '2000-01-03', '2000-01-04',\n",
       "               '2000-01-05', '2000-01-06', '2000-01-07', '2000-01-08',\n",
       "               '2000-01-09', '2000-01-10'],\n",
       "              dtype='datetime64[ns]', freq='D')"
      ]
     },
     "execution_count": 7,
     "metadata": {},
     "output_type": "execute_result"
    }
   ],
   "source": [
    "pd.date_range('2000-01-01', '2000-01-10')"
   ]
  },
  {
   "cell_type": "code",
   "execution_count": 10,
   "id": "4c4fc029",
   "metadata": {},
   "outputs": [
    {
     "data": {
      "text/plain": [
       "DatetimeIndex(['2000-01-01', '2000-01-02', '2000-01-03', '2000-01-04',\n",
       "               '2000-01-05'],\n",
       "              dtype='datetime64[ns]', freq='D')"
      ]
     },
     "execution_count": 10,
     "metadata": {},
     "output_type": "execute_result"
    }
   ],
   "source": [
    "pd.date_range('2000-01-01', periods=5)"
   ]
  },
  {
   "cell_type": "markdown",
   "id": "8934caca",
   "metadata": {},
   "source": [
    "# 2000년 1월부터 1달씩 증가 5번 반복 -> 각 달의 마지막 날짜가 반환됨"
   ]
  },
  {
   "cell_type": "code",
   "execution_count": 11,
   "id": "7b35387f",
   "metadata": {},
   "outputs": [
    {
     "data": {
      "text/plain": [
       "DatetimeIndex(['2000-01-31', '2000-02-29', '2000-03-31', '2000-04-30',\n",
       "               '2000-05-31'],\n",
       "              dtype='datetime64[ns]', freq='M')"
      ]
     },
     "execution_count": 11,
     "metadata": {},
     "output_type": "execute_result"
    }
   ],
   "source": [
    "pd.date_range('2000-01-01', periods=5, freq='m')"
   ]
  },
  {
   "cell_type": "markdown",
   "id": "47a803c3",
   "metadata": {},
   "source": [
    "# 시계열 데이터 전처리"
   ]
  },
  {
   "cell_type": "code",
   "execution_count": 12,
   "id": "5fe25e2c",
   "metadata": {},
   "outputs": [],
   "source": [
    "df = pd.read_csv('./datasets/예제/University_date.csv', encoding='CP949')"
   ]
  },
  {
   "cell_type": "code",
   "execution_count": 13,
   "id": "e97f7d22",
   "metadata": {},
   "outputs": [],
   "source": [
    "df['창립일'] = pd.to_datetime(df['창립일'])"
   ]
  },
  {
   "cell_type": "code",
   "execution_count": 15,
   "id": "56279343",
   "metadata": {},
   "outputs": [
    {
     "data": {
      "text/plain": [
       "0    1946-10-15\n",
       "1    1971-02-16\n",
       "2    2007-09-03\n",
       "3    1986-12-03\n",
       "4    1905-05-05\n",
       "5    1993-11-17\n",
       "6    1946-05-15\n",
       "7    1969-12-24\n",
       "8    1946-05-15\n",
       "Name: 창립일, dtype: object"
      ]
     },
     "execution_count": 15,
     "metadata": {},
     "output_type": "execute_result"
    }
   ],
   "source": [
    "df['창립일'].dt.date"
   ]
  },
  {
   "cell_type": "code",
   "execution_count": 16,
   "id": "16802062",
   "metadata": {},
   "outputs": [
    {
     "data": {
      "text/plain": [
       "0    1946\n",
       "1    1971\n",
       "2    2007\n",
       "3    1986\n",
       "4    1905\n",
       "5    1993\n",
       "6    1946\n",
       "7    1969\n",
       "8    1946\n",
       "Name: 창립일, dtype: int64"
      ]
     },
     "execution_count": 16,
     "metadata": {},
     "output_type": "execute_result"
    }
   ],
   "source": [
    "df['창립일'].dt.year"
   ]
  },
  {
   "cell_type": "code",
   "execution_count": 17,
   "id": "bb13c050",
   "metadata": {},
   "outputs": [
    {
     "data": {
      "text/plain": [
       "0    10\n",
       "1     2\n",
       "2     9\n",
       "3    12\n",
       "4     5\n",
       "5    11\n",
       "6     5\n",
       "7    12\n",
       "8     5\n",
       "Name: 창립일, dtype: int64"
      ]
     },
     "execution_count": 17,
     "metadata": {},
     "output_type": "execute_result"
    }
   ],
   "source": [
    "df['창립일'].dt.month"
   ]
  },
  {
   "cell_type": "code",
   "execution_count": 19,
   "id": "99485637",
   "metadata": {},
   "outputs": [
    {
     "data": {
      "text/plain": [
       "0      October\n",
       "1     February\n",
       "2    September\n",
       "3     December\n",
       "4          May\n",
       "5     November\n",
       "6          May\n",
       "7     December\n",
       "8          May\n",
       "Name: 창립일, dtype: object"
      ]
     },
     "execution_count": 19,
     "metadata": {},
     "output_type": "execute_result"
    }
   ],
   "source": [
    "df['창립일'].dt.month_name()"
   ]
  },
  {
   "cell_type": "code",
   "execution_count": 20,
   "id": "8f734870",
   "metadata": {},
   "outputs": [
    {
     "data": {
      "text/plain": [
       "0    1\n",
       "1    1\n",
       "2    0\n",
       "3    2\n",
       "4    4\n",
       "5    2\n",
       "6    2\n",
       "7    2\n",
       "8    2\n",
       "Name: 창립일, dtype: int64"
      ]
     },
     "execution_count": 20,
     "metadata": {},
     "output_type": "execute_result"
    }
   ],
   "source": [
    "df['창립일'].dt.weekday"
   ]
  },
  {
   "cell_type": "code",
   "execution_count": 21,
   "id": "e94bb4c7",
   "metadata": {},
   "outputs": [
    {
     "data": {
      "text/plain": [
       "0      Tuesday\n",
       "1      Tuesday\n",
       "2       Monday\n",
       "3    Wednesday\n",
       "4       Friday\n",
       "5    Wednesday\n",
       "6    Wednesday\n",
       "7    Wednesday\n",
       "8    Wednesday\n",
       "Name: 창립일, dtype: object"
      ]
     },
     "execution_count": 21,
     "metadata": {},
     "output_type": "execute_result"
    }
   ],
   "source": [
    "df['창립일'].dt.day_name()"
   ]
  },
  {
   "cell_type": "code",
   "execution_count": 22,
   "id": "334ac996",
   "metadata": {},
   "outputs": [
    {
     "data": {
      "text/plain": [
       "0    4\n",
       "1    1\n",
       "2    3\n",
       "3    4\n",
       "4    2\n",
       "5    4\n",
       "6    2\n",
       "7    4\n",
       "8    2\n",
       "Name: 창립일, dtype: int64"
      ]
     },
     "execution_count": 22,
     "metadata": {},
     "output_type": "execute_result"
    }
   ],
   "source": [
    "df['창립일'].dt.quarter"
   ]
  },
  {
   "cell_type": "code",
   "execution_count": 23,
   "id": "3367993d",
   "metadata": {},
   "outputs": [
    {
     "name": "stderr",
     "output_type": "stream",
     "text": [
      "C:\\Users\\qkrtj\\AppData\\Local\\Temp\\ipykernel_2660\\3921657863.py:1: FutureWarning: Series.dt.weekofyear and Series.dt.week have been deprecated. Please use Series.dt.isocalendar().week instead.\n",
      "  df['창립일'].dt.weekofyear\n"
     ]
    },
    {
     "data": {
      "text/plain": [
       "0    42\n",
       "1     7\n",
       "2    36\n",
       "3    49\n",
       "4    18\n",
       "5    46\n",
       "6    20\n",
       "7    52\n",
       "8    20\n",
       "Name: 창립일, dtype: int64"
      ]
     },
     "execution_count": 23,
     "metadata": {},
     "output_type": "execute_result"
    }
   ],
   "source": [
    "df['창립일'].dt.weekofyear"
   ]
  },
  {
   "cell_type": "code",
   "execution_count": 24,
   "id": "e64905c3",
   "metadata": {},
   "outputs": [
    {
     "data": {
      "text/plain": [
       "0    288\n",
       "1     47\n",
       "2    246\n",
       "3    337\n",
       "4    125\n",
       "5    321\n",
       "6    135\n",
       "7    358\n",
       "8    135\n",
       "Name: 창립일, dtype: int64"
      ]
     },
     "execution_count": 24,
     "metadata": {},
     "output_type": "execute_result"
    }
   ],
   "source": [
    "df['창립일'].dt.dayofyear"
   ]
  },
  {
   "cell_type": "code",
   "execution_count": 25,
   "id": "a4c9d671",
   "metadata": {},
   "outputs": [
    {
     "data": {
      "text/plain": [
       "0    31\n",
       "1    28\n",
       "2    30\n",
       "3    31\n",
       "4    31\n",
       "5    30\n",
       "6    31\n",
       "7    31\n",
       "8    31\n",
       "Name: 창립일, dtype: int64"
      ]
     },
     "execution_count": 25,
     "metadata": {},
     "output_type": "execute_result"
    }
   ],
   "source": [
    "df['창립일'].dt.daysinmonth"
   ]
  },
  {
   "cell_type": "markdown",
   "id": "9a83f37b",
   "metadata": {},
   "source": [
    "# 2022-06-01 16:30:05부터 1초씩 증가하는 시계열 생성"
   ]
  },
  {
   "cell_type": "code",
   "execution_count": 26,
   "id": "542439d9",
   "metadata": {},
   "outputs": [],
   "source": [
    "sr = pd.Series(pd.date_range('2022-06-01 16:30:05', periods=5, freq='s'))"
   ]
  },
  {
   "cell_type": "code",
   "execution_count": 27,
   "id": "8cc6ceeb",
   "metadata": {},
   "outputs": [
    {
     "data": {
      "text/plain": [
       "0   2022-06-01 16:30:05\n",
       "1   2022-06-01 16:30:06\n",
       "2   2022-06-01 16:30:07\n",
       "3   2022-06-01 16:30:08\n",
       "4   2022-06-01 16:30:09\n",
       "dtype: datetime64[ns]"
      ]
     },
     "execution_count": 27,
     "metadata": {},
     "output_type": "execute_result"
    }
   ],
   "source": [
    "sr"
   ]
  },
  {
   "cell_type": "code",
   "execution_count": 29,
   "id": "ff6d9872",
   "metadata": {},
   "outputs": [
    {
     "data": {
      "text/plain": [
       "0    16:30:05\n",
       "1    16:30:06\n",
       "2    16:30:07\n",
       "3    16:30:08\n",
       "4    16:30:09\n",
       "dtype: object"
      ]
     },
     "execution_count": 29,
     "metadata": {},
     "output_type": "execute_result"
    }
   ],
   "source": [
    "sr.dt.time"
   ]
  },
  {
   "cell_type": "code",
   "execution_count": 30,
   "id": "006f8bfa",
   "metadata": {},
   "outputs": [
    {
     "data": {
      "text/plain": [
       "0    30\n",
       "1    30\n",
       "2    30\n",
       "3    30\n",
       "4    30\n",
       "dtype: int64"
      ]
     },
     "execution_count": 30,
     "metadata": {},
     "output_type": "execute_result"
    }
   ],
   "source": [
    "sr.dt.minute"
   ]
  },
  {
   "cell_type": "code",
   "execution_count": 31,
   "id": "e2dfbcb1",
   "metadata": {},
   "outputs": [
    {
     "data": {
      "text/plain": [
       "0    5\n",
       "1    6\n",
       "2    7\n",
       "3    8\n",
       "4    9\n",
       "dtype: int64"
      ]
     },
     "execution_count": 31,
     "metadata": {},
     "output_type": "execute_result"
    }
   ],
   "source": [
    "sr.dt.second"
   ]
  }
 ],
 "metadata": {
  "kernelspec": {
   "display_name": "Python 3 (ipykernel)",
   "language": "python",
   "name": "python3"
  },
  "language_info": {
   "codemirror_mode": {
    "name": "ipython",
    "version": 3
   },
   "file_extension": ".py",
   "mimetype": "text/x-python",
   "name": "python",
   "nbconvert_exporter": "python",
   "pygments_lexer": "ipython3",
   "version": "3.10.7"
  }
 },
 "nbformat": 4,
 "nbformat_minor": 5
}
