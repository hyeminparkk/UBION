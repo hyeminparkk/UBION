{
 "cells": [
  {
   "cell_type": "markdown",
   "id": "039cf390",
   "metadata": {},
   "source": [
    "# accuracy_score\n",
    "- 전체 중 예측을 잘 한 것의 비율\n",
    "- sklearn.metrics.accuracy_score\n",
    "- sklearn.metrics.accuracy_score(y_true, y_pred, *, normalize=True, sample_weight=None)"
   ]
  },
  {
   "cell_type": "markdown",
   "id": "22220a82",
   "metadata": {},
   "source": [
    "# precision_score\n",
    "- POS로 예측한 것 중 실제도 POS인 비율\n",
    "- sklearn.metrics.precision_score\n",
    "- sklearn.metrics.precision_score(y_true, y_pred, *, labels=None, pos_label=1, average='binary', sample_weight=None, zero_division='warn')"
   ]
  },
  {
   "cell_type": "markdown",
   "id": "9ee0d188",
   "metadata": {},
   "source": [
    "# recall_score\n",
    "- 실제 POS인 것 중 예측도 POS로 한 것의 비율\n",
    "- sklearn.metrics.recall_score\n",
    "- sklearn.metrics.recall_score(y_true, y_pred, *, labels=None, pos_label=1, average='binary', sample_weight=None, zero_division='warn')"
   ]
  },
  {
   "cell_type": "markdown",
   "id": "2daa2167",
   "metadata": {},
   "source": [
    "# f1_score\n",
    "- precision과 recall의 조화평균\n",
    "- sklearn.metrics.f1_score\n",
    "- sklearn.metrics.f1_score(y_true, y_pred, *, labels=None, pos_label=1, average='binary', sample_weight=None, zero_division='warn')"
   ]
  },
  {
   "cell_type": "markdown",
   "id": "532875e6",
   "metadata": {
    "hide_input": false
   },
   "source": [
    "# 함수로 표현"
   ]
  },
  {
   "cell_type": "code",
   "execution_count": 1,
   "id": "c24f41a0",
   "metadata": {
    "ExecuteTime": {
     "end_time": "2022-10-08T06:03:38.142644Z",
     "start_time": "2022-10-08T06:03:29.091706Z"
    }
   },
   "outputs": [],
   "source": [
    "from sklearn.metrics import accuracy_score, precision_score, recall_score, confusion_matrix, f1_score\n",
    "\n",
    "def get_clf_eval(y_test, pred) :\n",
    "    confusion = confusion_matrix(y_test, pred)\n",
    "    accuracy = accuracy_score(y_test, pred)\n",
    "    precision = precision_score(y_test, pred)\n",
    "    recall = recall_score(y_test, pred)\n",
    "    f1score = f1_score(y_test, pred)\n",
    "    print('오차행렬')\n",
    "    print(confusion)\n",
    "    print('정확도: {0:.4f}, 정밀도: {1:.4f}, 재현율: {2:.4f}, f1score: {3:.4f}'.format(accuracy, precision, recall, f1score))"
   ]
  },
  {
   "cell_type": "markdown",
   "id": "3ce311fa",
   "metadata": {},
   "source": [
    "# 타이타닉 예제 적용"
   ]
  },
  {
   "cell_type": "markdown",
   "id": "c4317177",
   "metadata": {},
   "source": [
    "## 전처리"
   ]
  },
  {
   "cell_type": "code",
   "execution_count": 19,
   "id": "6cd2d90f",
   "metadata": {
    "ExecuteTime": {
     "end_time": "2022-10-04T02:12:20.662916Z",
     "start_time": "2022-10-04T02:12:20.609153Z"
    }
   },
   "outputs": [],
   "source": [
    "import numpy as np\n",
    "import pandas as pd\n",
    "\n",
    "from sklearn.model_selection import train_test_split\n",
    "from sklearn.linear_model import LogisticRegression\n",
    "\n",
    "df_titanic = pd.read_csv('./datasets/titanic_train.csv')\n",
    "df_titanic = df_titanic.loc[:,['Survived', 'Sex', 'Age', 'Pclass']]\n",
    "X = df_titanic.loc[:,['Sex', 'Age', 'Pclass']]\n",
    "y = df_titanic['Survived']\n",
    "X['Age'].fillna(method='ffill', inplace=True)\n",
    "\n",
    "from sklearn.preprocessing import LabelEncoder\n",
    "encoder = LabelEncoder()\n",
    "labels = encoder.fit_transform(X['Sex'])\n",
    "X['Sex'] = labels\n",
    "\n",
    "from sklearn.preprocessing import MinMaxScaler\n",
    "scaler = MinMaxScaler()\n",
    "scaler.fit(X[['Age']])\n",
    "age_scaled = scaler.transform(X[['Age']])\n",
    "X['Age']=age_scaled"
   ]
  },
  {
   "cell_type": "markdown",
   "id": "4287bf74",
   "metadata": {},
   "source": [
    "## confusion matrix 구하기\n",
    "- binarizer 이용하지 않고 predict 하는 경우에는 확률 높은 값으로 분류됨"
   ]
  },
  {
   "cell_type": "code",
   "execution_count": 20,
   "id": "d88ef3c5",
   "metadata": {
    "ExecuteTime": {
     "end_time": "2022-10-04T02:12:22.085069Z",
     "start_time": "2022-10-04T02:12:22.032070Z"
    }
   },
   "outputs": [
    {
     "name": "stdout",
     "output_type": "stream",
     "text": [
      "오차행렬\n",
      "[[101  17]\n",
      " [ 12  49]]\n",
      "정확도: 0.8380, 정밀도: 0.7424, 재현율: 0.8033, f1score: 0.7717\n"
     ]
    }
   ],
   "source": [
    "X_train, X_test, y_train, y_test = train_test_split(X, y, test_size=0.2, random_state=11)\n",
    "\n",
    "lr_clf = LogisticRegression()\n",
    "lr_clf.fit(X_train, y_train)\n",
    "\n",
    "pred = lr_clf.predict(X_test)\n",
    "get_clf_eval(y_test, pred)"
   ]
  },
  {
   "cell_type": "markdown",
   "id": "922b78e0",
   "metadata": {},
   "source": [
    "## 1과 0 분류 확률 중 큰 것으로 분류"
   ]
  },
  {
   "cell_type": "code",
   "execution_count": 21,
   "id": "397e83e2",
   "metadata": {
    "ExecuteTime": {
     "end_time": "2022-10-04T05:30:35.581635Z",
     "start_time": "2022-10-04T05:30:35.401893Z"
    }
   },
   "outputs": [
    {
     "name": "stdout",
     "output_type": "stream",
     "text": [
      "pred_proba()결과 Shape : (179, 2)\n",
      "pred_proba array에서 앞 3개만 샘플로 추출 \n",
      ": [[0.42558527 0.57441473]\n",
      " [0.88833758 0.11166242]\n",
      " [0.88651722 0.11348278]]\n",
      "두개의 class 중에서 더 큰 확률을 클래스 값으로 예측\n",
      " [[0.42558527 0.57441473 1.        ]\n",
      " [0.88833758 0.11166242 0.        ]\n",
      " [0.88651722 0.11348278 0.        ]]\n"
     ]
    }
   ],
   "source": [
    "pred_proba = lr_clf.predict_proba(X_test)\n",
    "pred = lr_clf.predict(X_test)\n",
    "print('pred_proba()결과 Shape : {0}'.format(pred_proba.shape))\n",
    "print('pred_proba array에서 앞 3개만 샘플로 추출 \\n:', pred_proba[:3])\n",
    "\n",
    "# 예측확률 array 와 예측 결과값 array 를 concatenate 하여 예측 확률과 결과값을 한눈에 학인\n",
    "pred_proba_result = np.concatenate([pred_proba, pred.reshape(-1,1)],axis=1)\n",
    "print('두개의 class 중에서 더 큰 확률을 클래스 값으로 예측\\n',pred_proba_result[:3])"
   ]
  },
  {
   "cell_type": "markdown",
   "id": "abd2a214",
   "metadata": {},
   "source": [
    "## 임계값에 따른 분류 - 0.5인 경우\n",
    "- threshold 값보다 크면 1으로 분류되므로 predict_proba() 반환값의 두번째 컬럼 positive 클래스 컬럼 이용"
   ]
  },
  {
   "cell_type": "code",
   "execution_count": 24,
   "id": "f46568a5",
   "metadata": {
    "ExecuteTime": {
     "end_time": "2022-10-04T05:43:40.231507Z",
     "start_time": "2022-10-04T05:43:40.169667Z"
    }
   },
   "outputs": [
    {
     "name": "stdout",
     "output_type": "stream",
     "text": [
      "오차행렬\n",
      "[[101  17]\n",
      " [ 12  49]]\n",
      "정확도: 0.8380, 정밀도: 0.7424, 재현율: 0.8033, f1score: 0.7717\n"
     ]
    }
   ],
   "source": [
    "from sklearn.preprocessing import Binarizer\n",
    "\n",
    "# Binarizer의 threshold 설정값 분류 결정 임계값\n",
    "custom_threshold = 0.5\n",
    "\n",
    "# predict_proba() 반환값의 두번째 컬럼, 즉 positive 클래스 컬럼 하나만 추출하여 Binarizer 적용\n",
    "pred_proba_1 = pred_proba[:,1].reshape(-1,1)\n",
    "\n",
    "binarizer = Binarizer(threshold=custom_threshold).fit(pred_proba_1)\n",
    "custom_predict = binarizer.transform(pred_proba_1)\n",
    "\n",
    "get_clf_eval(y_test, custom_predict)"
   ]
  },
  {
   "cell_type": "markdown",
   "id": "734e3c25",
   "metadata": {},
   "source": [
    "## 임계값에 따른 분류 - 0.4인 경우"
   ]
  },
  {
   "cell_type": "code",
   "execution_count": 25,
   "id": "4f6576fd",
   "metadata": {
    "ExecuteTime": {
     "end_time": "2022-10-04T06:07:01.155850Z",
     "start_time": "2022-10-04T06:07:01.043836Z"
    }
   },
   "outputs": [
    {
     "name": "stdout",
     "output_type": "stream",
     "text": [
      "오차행렬\n",
      "[[94 24]\n",
      " [10 51]]\n",
      "정확도: 0.8101, 정밀도: 0.6800, 재현율: 0.8361, f1score: 0.7500\n"
     ]
    }
   ],
   "source": [
    "from sklearn.preprocessing import Binarizer\n",
    "\n",
    "custom_threshold = 0.4\n",
    "pred_proba_1 = pred_proba[:,1].reshape(-1,1)\n",
    "binarizer = Binarizer(threshold=custom_threshold).fit(pred_proba_1)\n",
    "custom_predict = binarizer.transform(pred_proba_1)\n",
    "\n",
    "get_clf_eval(y_test, custom_predict)"
   ]
  },
  {
   "cell_type": "markdown",
   "id": "9dc0e0ec",
   "metadata": {},
   "source": [
    "## 위 값을 이용한 결과\n",
    "- 재현율을 중요시 한다면 0.4를 기준으로\n",
    "- 재현율과 정밀도 둘 다 중요시 한다면 0.4를 기준으로"
   ]
  },
  {
   "cell_type": "markdown",
   "id": "75454824",
   "metadata": {},
   "source": [
    "## threshold 함수 만들어 돌리기"
   ]
  },
  {
   "cell_type": "code",
   "execution_count": 26,
   "id": "49b9f498",
   "metadata": {
    "ExecuteTime": {
     "end_time": "2022-10-04T06:11:43.100377Z",
     "start_time": "2022-10-04T06:11:43.029561Z"
    },
    "scrolled": true
   },
   "outputs": [
    {
     "name": "stdout",
     "output_type": "stream",
     "text": [
      "임계값: 0.4\n",
      "오차행렬\n",
      "[[94 24]\n",
      " [10 51]]\n",
      "정확도: 0.8101, 정밀도: 0.6800, 재현율: 0.8361, f1score: 0.7500\n",
      "임계값: 0.45\n",
      "오차행렬\n",
      "[[97 21]\n",
      " [11 50]]\n",
      "정확도: 0.8212, 정밀도: 0.7042, 재현율: 0.8197, f1score: 0.7576\n",
      "임계값: 0.5\n",
      "오차행렬\n",
      "[[101  17]\n",
      " [ 12  49]]\n",
      "정확도: 0.8380, 정밀도: 0.7424, 재현율: 0.8033, f1score: 0.7717\n",
      "임계값: 0.55\n",
      "오차행렬\n",
      "[[107  11]\n",
      " [ 17  44]]\n",
      "정확도: 0.8436, 정밀도: 0.8000, 재현율: 0.7213, f1score: 0.7586\n",
      "임계값: 0.6\n",
      "오차행렬\n",
      "[[111   7]\n",
      " [ 21  40]]\n",
      "정확도: 0.8436, 정밀도: 0.8511, 재현율: 0.6557, f1score: 0.7407\n"
     ]
    }
   ],
   "source": [
    "from sklearn.preprocessing import Binarizer\n",
    "\n",
    "thresholds = [0.4, 0.45, 0.5, 0.55, 0.6]\n",
    "\n",
    "def get_eval_by_threshold(y_test, pred_proba_c1, thresholds):\n",
    "    #threshold list 객체 내 값을 차례로 iteration하면서 evaluation 수행\n",
    "    for custom_threshold in thresholds:\n",
    "        binarizer = Binarizer(threshold = custom_threshold).fit(pred_proba_c1)\n",
    "        custom_predict = binarizer.transform(pred_proba_c1)\n",
    "        print('임계값:', custom_threshold)\n",
    "        get_clf_eval(y_test, custom_predict)\n",
    "get_eval_by_threshold(y_test, pred_proba[:,1].reshape(-1,1), thresholds)"
   ]
  },
  {
   "cell_type": "markdown",
   "id": "98d89280",
   "metadata": {},
   "source": [
    "## precision_recall_curve()로 정밀도-재현율 값 추출\n",
    "- sklearn.metrics.plot_precision_recall_curve\n",
    "- sklearn.metrics.plot_precision_recall_curve(estimator, X, y, *, sample_weight=None, response_method='auto', name=None, ax=None, pos_label=None, **kwargs)"
   ]
  },
  {
   "cell_type": "code",
   "execution_count": 39,
   "id": "7272acac",
   "metadata": {
    "ExecuteTime": {
     "end_time": "2022-10-04T07:00:59.340646Z",
     "start_time": "2022-10-04T07:00:59.313720Z"
    }
   },
   "outputs": [
    {
     "name": "stdout",
     "output_type": "stream",
     "text": [
      "반환된 분류 결정 임곗값 배열의 shape (124,)\n",
      "반환된 precisions 배열의 shape (125,)\n",
      "반환된 recalls 배열의 shape (125,)\n",
      "\n",
      "thresholds 5 samples: [0.06556004 0.07136752 0.0776467  0.07896181 0.08303016]\n",
      "precisions 5 samples: [0.34078212 0.34269663 0.34659091 0.35057471 0.35465116]\n",
      "recalls 5 samples: [1. 1. 1. 1. 1.]\n"
     ]
    }
   ],
   "source": [
    "from sklearn.metrics import precision_recall_curve\n",
    "\n",
    "#레이블 값이 1일때의 예측 확률을 추출\n",
    "pred_proba_class1 = lr_clf.predict_proba(X_test)[:,1]\n",
    "\n",
    "#실제값 데이터셋과 레이블값이 1일 떄의 예측 확률을 precision_recall_curve인자로 입력\n",
    "precisions, recalls, thresholds = precision_recall_curve(y_test, pred_proba_class1)\n",
    "\n",
    "print('반환된 분류 결정 임곗값 배열의 shape', thresholds.shape)\n",
    "print('반환된 precisions 배열의 shape', precisions.shape)\n",
    "print('반환된 recalls 배열의 shape', recalls.shape)\n",
    "\n",
    "print(\"\\nthresholds 5 samples:\", thresholds[:5]) # thresholdsndarray of shape (n_thresholds,)\n",
    "print(\"precisions 5 samples:\", precisions[:5]) # precisionndarray of shape (n_thresholds + 1,)\n",
    "print(\"recalls 5 samples:\", recalls[:5]) # recallndarray of shape (n_thresholds + 1,)"
   ]
  },
  {
   "cell_type": "markdown",
   "id": "389dcd9e",
   "metadata": {},
   "source": [
    "## precision_recall_curve() 시각화"
   ]
  },
  {
   "cell_type": "code",
   "execution_count": 40,
   "id": "ce8499a7",
   "metadata": {
    "ExecuteTime": {
     "end_time": "2022-10-04T07:01:01.568321Z",
     "start_time": "2022-10-04T07:01:01.345675Z"
    }
   },
   "outputs": [
    {
     "data": {
      "image/png": "[encoded data removed]",
      "text/plain": [
       "<Figure size 640x480 with 1 Axes>"
      ]
     },
     "metadata": {},
     "output_type": "display_data"
    }
   ],
   "source": [
    "import matplotlib.pyplot as plt\n",
    "\n",
    "plt.plot(recalls, marker='.', label = 'Recall')\n",
    "plt.plot(precisions, marker='.', label = 'Precision')\n",
    "\n",
    "plt.legend()\n",
    "plt.show()"
   ]
  },
  {
   "cell_type": "markdown",
   "id": "7883f447",
   "metadata": {
    "ExecuteTime": {
     "end_time": "2022-10-04T07:03:56.039917Z",
     "start_time": "2022-10-04T07:03:56.022916Z"
    }
   },
   "source": [
    "## ROC 곡선\n",
    "- sklearn.metrics.roc_curve\n",
    "- sklearn.metrics.roc_curve(y_true, y_score, *, pos_label=None, sample_weight=None, drop_intermediate=True)\n",
    "- fpr = False Positive Rate : 1-특이도\n",
    "- tpr = True Positive Rate : 민감도"
   ]
  },
  {
   "cell_type": "code",
   "execution_count": 50,
   "id": "27a743a2",
   "metadata": {
    "ExecuteTime": {
     "end_time": "2022-10-04T07:10:59.685313Z",
     "start_time": "2022-10-04T07:10:59.665421Z"
    }
   },
   "outputs": [
    {
     "name": "stdout",
     "output_type": "stream",
     "text": [
      "샘플 추출을 위한 임곗값 배열의 index: [ 1  6 11 16 21 26 31 36 41 46 51 56 61 66]\n",
      "샘플 index로 추출한 임곗값: [0.95 0.81 0.65 0.6  0.55 0.47 0.4  0.27 0.18 0.13 0.12 0.11 0.1  0.08]\n",
      "샘플 임계값별 FPR:  [0.    0.008 0.025 0.059 0.102 0.178 0.212 0.314 0.466 0.542 0.678 0.754\n",
      " 0.839 0.941]\n",
      "샘플 임계값별 TPR:  [0.016 0.344 0.541 0.656 0.721 0.803 0.852 0.902 0.902 0.918 0.934 0.967\n",
      " 1.    1.   ]\n"
     ]
    }
   ],
   "source": [
    "from sklearn.metrics import roc_curve\n",
    "\n",
    "# 레이블 값이 1일때의 예측 확률을 추측\n",
    "pred_proba_class1 = lr_clf.predict_proba(X_test)[:,1]\n",
    "\n",
    "fprs, tprs, thresholds = roc_curve(y_test, pred_proba_class1)\n",
    "\n",
    "# 반환된 임곗값 배열에서 샘플로 데이터를 추출하되, 임곗값을 5 step으로 추출\n",
    "# threshold[0]은 max(예측확률)+1로 임의 설정됨. 이를 제외하기 위해 np.arange는 1부터 시작 \n",
    "thr_index = np.arange(1, thresholds.shape[0], 5)\n",
    "print('샘플 추출을 위한 임곗값 배열의 index:', thr_index)\n",
    "print('샘플 index로 추출한 임곗값:', np.round(thresholds[thr_index],2))\n",
    "\n",
    "# 5 step으로 추출된 임계값에 따른 FPR, TPR 값\n",
    "print('샘플 임계값별 FPR: ', np.round(fprs[thr_index], 3))\n",
    "print('샘플 임계값별 TPR: ', np.round(tprs[thr_index], 3))"
   ]
  },
  {
   "cell_type": "code",
   "execution_count": 57,
   "id": "6f51d346",
   "metadata": {
    "ExecuteTime": {
     "end_time": "2022-10-04T07:23:35.334540Z",
     "start_time": "2022-10-04T07:23:35.081168Z"
    },
    "scrolled": true
   },
   "outputs": [
    {
     "data": {
      "image/png": "[encoded data removed]",
      "text/plain": [
       "<Figure size 640x480 with 1 Axes>"
      ]
     },
     "metadata": {},
     "output_type": "display_data"
    }
   ],
   "source": [
    "def roc_curve_plot(y_test, pred_proba_c1):\n",
    "    # 임곗값에 따른 FPR, TPR 값을 반환 받음\n",
    "    fprs, tprs, thresholds = roc_curve(y_test, pred_proba_c1)\n",
    "    \n",
    "    # ROC Curve를 plot 곡선으로 그림\n",
    "    plt.plot(fprs, tprs, label = 'ROC')\n",
    "    # 가운데 대각선 직선을 그림\n",
    "    plt.plot([0,1], [0,1], 'k--', label='Random')\n",
    "    \n",
    "    # FPR X축의 scale을 0.1 단위로 변경, X, Y 축명 설정등\n",
    "    start, end = plt.xlim()\n",
    "    plt.xticks(np.round(np.arange(start, end, 0.1), 2))\n",
    "    plt.xlim(0,1); plt.ylim(0,1)\n",
    "    plt.xlabel('FPR(1-Sensitivity)'); plt.ylabel('TPR(Recall)')\n",
    "    plt.legend()\n",
    "    plt.show()\n",
    "    \n",
    "roc_curve_plot(y_test, pred_proba_class1)"
   ]
  },
  {
   "cell_type": "code",
   "execution_count": 55,
   "id": "9be8d91e",
   "metadata": {
    "ExecuteTime": {
     "end_time": "2022-10-04T07:19:47.469822Z",
     "start_time": "2022-10-04T07:19:47.224947Z"
    }
   },
   "outputs": [
    {
     "data": {
      "image/png": "[encoded data removed]",
      "text/plain": [
       "<Figure size 640x480 with 1 Axes>"
      ]
     },
     "metadata": {},
     "output_type": "display_data"
    }
   ],
   "source": [
    "plt.plot(fprs, tprs, label = 'ROC')\n",
    "# 가운데 대각선 직선을 그림\n",
    "plt.plot([0,1], [0,1], 'k--', label='Random')\n",
    "    \n",
    "# FPR X축의 scale을 0.1 단위로 변경, X, Y 축명 설정등\n",
    "start, end = plt.xlim()\n",
    "plt.xticks(np.round(np.arange(start, end, 0.1), 2))\n",
    "plt.xlim(0,1); plt.ylim(0,1)\n",
    "plt.xlabel('FPR(1-Sensitivity)'); plt.ylabel('TPR(Recall)')\n",
    "plt.legend()\n",
    "plt.show()"
   ]
  },
  {
   "cell_type": "markdown",
   "id": "e2abc30a",
   "metadata": {},
   "source": [
    "## AUC 스코어"
   ]
  },
  {
   "cell_type": "code",
   "execution_count": 58,
   "id": "446fe354",
   "metadata": {
    "ExecuteTime": {
     "end_time": "2022-10-04T07:26:19.668069Z",
     "start_time": "2022-10-04T07:26:19.632163Z"
    }
   },
   "outputs": [
    {
     "name": "stdout",
     "output_type": "stream",
     "text": [
      "ROC AUC 값:  0.8900\n"
     ]
    }
   ],
   "source": [
    "from sklearn.metrics import roc_auc_score\n",
    "\n",
    "pred_proba = lr_clf.predict_proba(X_test)[:,1]\n",
    "roc_score = roc_auc_score(y_test, pred_proba)\n",
    "print('ROC AUC 값: {0: .4f}'.format(roc_score))"
   ]
  }
 ],
 "metadata": {
  "kernelspec": {
   "display_name": "Python 3 (ipykernel)",
   "language": "python",
   "name": "python3"
  },
  "language_info": {
   "codemirror_mode": {
    "name": "ipython",
    "version": 3
   },
   "file_extension": ".py",
   "mimetype": "text/x-python",
   "name": "python",
   "nbconvert_exporter": "python",
   "pygments_lexer": "ipython3",
   "version": "3.8.7"
  },
  "toc": {
   "base_numbering": 1,
   "nav_menu": {},
   "number_sections": true,
   "sideBar": true,
   "skip_h1_title": false,
   "title_cell": "Table of Contents",
   "title_sidebar": "Contents",
   "toc_cell": false,
   "toc_position": {},
   "toc_section_display": true,
   "toc_window_display": false
  },
  "varInspector": {
   "cols": {
    "lenName": 16,
    "lenType": 16,
    "lenVar": 40
   },
   "kernels_config": {
    "python": {
     "delete_cmd_postfix": "",
     "delete_cmd_prefix": "del ",
     "library": "var_list.py",
     "varRefreshCmd": "print(var_dic_list())"
    },
    "r": {
     "delete_cmd_postfix": ") ",
     "delete_cmd_prefix": "rm(",
     "library": "var_list.r",
     "varRefreshCmd": "cat(var_dic_list()) "
    }
   },
   "types_to_exclude": [
    "module",
    "function",
    "builtin_function_or_method",
    "instance",
    "_Feature"
   ],
   "window_display": false
  }
 },
 "nbformat": 4,
 "nbformat_minor": 5
}
