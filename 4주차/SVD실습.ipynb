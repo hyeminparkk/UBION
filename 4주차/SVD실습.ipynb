{
 "cells": [
  {
   "cell_type": "code",
   "execution_count": 1,
   "id": "20d30ae7",
   "metadata": {
    "ExecuteTime": {
     "end_time": "2022-10-25T02:15:43.132717Z",
     "start_time": "2022-10-25T02:15:43.099774Z"
    }
   },
   "outputs": [
    {
     "name": "stdout",
     "output_type": "stream",
     "text": [
      "[[ 1.749 -0.286 -0.485 -2.653]\n",
      " [-0.008 -0.32  -0.537  0.315]\n",
      " [ 0.421 -1.066 -0.886 -0.476]\n",
      " [ 0.69   0.561 -1.306 -1.119]]\n"
     ]
    }
   ],
   "source": [
    "import numpy as np\n",
    "from numpy.linalg import svd\n",
    "\n",
    "# 4X4 Random 행렬 a 생성\n",
    "np.random.seed(11)\n",
    "a = np.random.randn(4,4)\n",
    "print(np.round(a, 3))"
   ]
  },
  {
   "cell_type": "code",
   "execution_count": 4,
   "id": "5f52b7cf",
   "metadata": {
    "ExecuteTime": {
     "end_time": "2022-10-25T02:18:09.365753Z",
     "start_time": "2022-10-25T02:18:09.351785Z"
    }
   },
   "outputs": [
    {
     "name": "stdout",
     "output_type": "stream",
     "text": [
      "(4, 4) (4,) (4, 4)\n",
      "U matrix:\n",
      " [[-0.859 -0.319  0.333 -0.223]\n",
      " [ 0.014  0.493 -0.072 -0.867]\n",
      " [-0.261  0.792  0.364  0.416]\n",
      " [-0.44   0.169 -0.867  0.161]]\n",
      "Sigma Value:\n",
      " [3.693 1.39  1.182 0.115]\n",
      "V transpose matrix:\n",
      " [[-0.519  0.074  0.329  0.786]\n",
      " [-0.08  -0.586 -0.743  0.313]\n",
      " [ 0.116 -0.8    0.581 -0.091]\n",
      " [-0.843 -0.1   -0.051 -0.526]]\n"
     ]
    }
   ],
   "source": [
    "U, Sigma, Vt = svd(a)\n",
    "\n",
    "print(U.shape, Sigma.shape, Vt.shape)\n",
    "print('U matrix:\\n', np.round(U,3))\n",
    "print('Sigma Value:\\n', np.round(Sigma, 3))\n",
    "print('V transpose matrix:\\n', np.round(Vt, 3))"
   ]
  },
  {
   "cell_type": "code",
   "execution_count": 5,
   "id": "4a3d521a",
   "metadata": {
    "ExecuteTime": {
     "end_time": "2022-10-25T02:19:01.265992Z",
     "start_time": "2022-10-25T02:19:01.233074Z"
    }
   },
   "outputs": [
    {
     "name": "stdout",
     "output_type": "stream",
     "text": [
      "[[ 1.749 -0.286 -0.485 -2.653]\n",
      " [-0.008 -0.32  -0.537  0.315]\n",
      " [ 0.421 -1.066 -0.886 -0.476]\n",
      " [ 0.69   0.561 -1.306 -1.119]]\n"
     ]
    }
   ],
   "source": [
    "# Sigma를 다시 0을 포함한 대칭행렬로 변환\n",
    "\n",
    "Sigma_mat = np.diag(Sigma)\n",
    "a_ = np.dot(np.dot(U, Sigma_mat), Vt)\n",
    "print(np.round(a_, 3))"
   ]
  },
  {
   "cell_type": "code",
   "execution_count": 8,
   "id": "ecaf436e",
   "metadata": {
    "ExecuteTime": {
     "end_time": "2022-10-25T02:21:38.315168Z",
     "start_time": "2022-10-25T02:21:38.294225Z"
    },
    "scrolled": true
   },
   "outputs": [
    {
     "name": "stdout",
     "output_type": "stream",
     "text": [
      "[[ 1.749 -0.286 -0.485 -2.653]\n",
      " [-0.008 -0.32  -0.537  0.315]\n",
      " [ 1.741 -0.606 -1.021 -2.338]\n",
      " [ 1.749 -0.286 -0.485 -2.653]]\n",
      "(4, 4) (4,) (4, 4)\n",
      "Sigma Value:\n",
      " [5.517 0.893 0.    0.   ]\n"
     ]
    }
   ],
   "source": [
    "# 데이터 의존도가 높은 원본 데이터 행렬 생성\n",
    "\n",
    "a[2] = a[0]+a[1]\n",
    "a[3] = a[0]\n",
    "print(np.round(a,3))\n",
    "\n",
    "U, Sigma, Vt = svd(a)\n",
    "print(U.shape, Sigma.shape, Vt.shape)\n",
    "print('Sigma Value:\\n', np.round(Sigma,3))"
   ]
  },
  {
   "cell_type": "code",
   "execution_count": 9,
   "id": "634601ed",
   "metadata": {
    "ExecuteTime": {
     "end_time": "2022-10-25T02:24:29.203044Z",
     "start_time": "2022-10-25T02:24:29.183101Z"
    }
   },
   "outputs": [
    {
     "name": "stdout",
     "output_type": "stream",
     "text": [
      "[[ 1.749 -0.286 -0.485 -2.653]\n",
      " [-0.008 -0.32  -0.537  0.315]\n",
      " [ 1.741 -0.606 -1.021 -2.338]\n",
      " [ 1.749 -0.286 -0.485 -2.653]]\n"
     ]
    }
   ],
   "source": [
    "# U 행렬의 경우는 Sigma와 내적을 수행하므로 Sigam의 앞 2행에 대응되는 앞 2열만 추출\n",
    "\n",
    "U_ = U[:, :2]\n",
    "Sigma_ = np.diag(Sigma[:2])\n",
    "\n",
    "# V 전치 행렬의 경우는 앞 2행만 추출\n",
    "Vt_ = Vt[:2]\n",
    "\n",
    "# U, Sigma, Vt의 내적을 수행하며, 다시 원본 행렬 복원\n",
    "a_ = np.dot(np.dot(U_, Sigma_), Vt_)\n",
    "print(np.round(a_,3))"
   ]
  }
 ],
 "metadata": {
  "kernelspec": {
   "display_name": "Python 3 (ipykernel)",
   "language": "python",
   "name": "python3"
  },
  "language_info": {
   "codemirror_mode": {
    "name": "ipython",
    "version": 3
   },
   "file_extension": ".py",
   "mimetype": "text/x-python",
   "name": "python",
   "nbconvert_exporter": "python",
   "pygments_lexer": "ipython3",
   "version": "3.8.7"
  },
  "toc": {
   "base_numbering": 1,
   "nav_menu": {},
   "number_sections": true,
   "sideBar": true,
   "skip_h1_title": false,
   "title_cell": "Table of Contents",
   "title_sidebar": "Contents",
   "toc_cell": false,
   "toc_position": {},
   "toc_section_display": true,
   "toc_window_display": false
  },
  "varInspector": {
   "cols": {
    "lenName": 16,
    "lenType": 16,
    "lenVar": 40
   },
   "kernels_config": {
    "python": {
     "delete_cmd_postfix": "",
     "delete_cmd_prefix": "del ",
     "library": "var_list.py",
     "varRefreshCmd": "print(var_dic_list())"
    },
    "r": {
     "delete_cmd_postfix": ") ",
     "delete_cmd_prefix": "rm(",
     "library": "var_list.r",
     "varRefreshCmd": "cat(var_dic_list()) "
    }
   },
   "types_to_exclude": [
    "module",
    "function",
    "builtin_function_or_method",
    "instance",
    "_Feature"
   ],
   "window_display": false
  }
 },
 "nbformat": 4,
 "nbformat_minor": 5
}
