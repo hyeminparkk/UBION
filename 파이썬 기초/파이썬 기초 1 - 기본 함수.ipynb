{
 "cells": [
  {
   "cell_type": "markdown",
   "id": "3a53dabb",
   "metadata": {},
   "source": [
    "# 기본 함수"
   ]
  },
  {
   "cell_type": "markdown",
   "id": "83e3d71d",
   "metadata": {},
   "source": [
    "## reverse() 역순 정렬"
   ]
  },
  {
   "cell_type": "code",
   "execution_count": 6,
   "id": "295f7011",
   "metadata": {
    "ExecuteTime": {
     "end_time": "2022-10-03T12:28:29.340319Z",
     "start_time": "2022-10-03T12:28:29.319937Z"
    }
   },
   "outputs": [
    {
     "name": "stdout",
     "output_type": "stream",
     "text": [
      "[40, 30, 20, 10]\n"
     ]
    }
   ],
   "source": [
    "b = [10, 20, 30, 40]\n",
    "b.reverse()\n",
    "print(b)"
   ]
  },
  {
   "cell_type": "markdown",
   "id": "a0ab09e4",
   "metadata": {},
   "source": [
    "## 대소문자 변환"
   ]
  },
  {
   "cell_type": "code",
   "execution_count": 7,
   "id": "9135bc1b",
   "metadata": {
    "ExecuteTime": {
     "end_time": "2022-10-03T12:29:24.529790Z",
     "start_time": "2022-10-03T12:29:24.503674Z"
    }
   },
   "outputs": [
    {
     "name": "stdout",
     "output_type": "stream",
     "text": [
      "HELLO WORLD\n",
      "hello world\n",
      "Hello World\n"
     ]
    }
   ],
   "source": [
    "a = 'Hello world'\n",
    "print(a.upper())\n",
    "print(a.lower())\n",
    "print(a.title())"
   ]
  },
  {
   "cell_type": "markdown",
   "id": "d4bc9f02",
   "metadata": {
    "ExecuteTime": {
     "end_time": "2022-10-03T12:29:45.464393Z",
     "start_time": "2022-10-03T12:29:45.448718Z"
    }
   },
   "source": [
    "## strip(), replace() 공백 제거"
   ]
  },
  {
   "cell_type": "code",
   "execution_count": 9,
   "id": "05715c77",
   "metadata": {
    "ExecuteTime": {
     "end_time": "2022-10-03T12:30:56.924629Z",
     "start_time": "2022-10-03T12:30:56.895926Z"
    }
   },
   "outputs": [
    {
     "name": "stdout",
     "output_type": "stream",
     "text": [
      "hello world   \n",
      "    hello world\n",
      "hello world\n"
     ]
    }
   ],
   "source": [
    "a = '    hello world   '\n",
    "print(a.lstrip())\n",
    "print(a.rstrip())\n",
    "print(a.strip())"
   ]
  },
  {
   "cell_type": "code",
   "execution_count": 11,
   "id": "8e3472fe",
   "metadata": {
    "ExecuteTime": {
     "end_time": "2022-10-03T12:33:27.637462Z",
     "start_time": "2022-10-03T12:33:27.613533Z"
    }
   },
   "outputs": [
    {
     "data": {
      "text/plain": [
       "'helloworld'"
      ]
     },
     "execution_count": 11,
     "metadata": {},
     "output_type": "execute_result"
    }
   ],
   "source": [
    "a.replace(' ', '') # hello와 world 사이 공백까지 다 제거됨"
   ]
  },
  {
   "cell_type": "markdown",
   "id": "ae80186d",
   "metadata": {},
   "source": [
    "## split() 문자열 나눠주는 함수"
   ]
  },
  {
   "cell_type": "code",
   "execution_count": 12,
   "id": "f830fd88",
   "metadata": {
    "ExecuteTime": {
     "end_time": "2022-10-03T12:37:31.143357Z",
     "start_time": "2022-10-03T12:37:31.121309Z"
    }
   },
   "outputs": [
    {
     "data": {
      "text/plain": [
       "['a', 'b', 'c', 'd', 'e']"
      ]
     },
     "execution_count": 12,
     "metadata": {},
     "output_type": "execute_result"
    }
   ],
   "source": [
    "a = 'a,b,c,d,e'\n",
    "\n",
    "a.split(',')"
   ]
  }
 ],
 "metadata": {
  "kernelspec": {
   "display_name": "Python 3 (ipykernel)",
   "language": "python",
   "name": "python3"
  },
  "language_info": {
   "codemirror_mode": {
    "name": "ipython",
    "version": 3
   },
   "file_extension": ".py",
   "mimetype": "text/x-python",
   "name": "python",
   "nbconvert_exporter": "python",
   "pygments_lexer": "ipython3",
   "version": "3.8.7"
  },
  "toc": {
   "base_numbering": 1,
   "nav_menu": {},
   "number_sections": true,
   "sideBar": true,
   "skip_h1_title": false,
   "title_cell": "Table of Contents",
   "title_sidebar": "Contents",
   "toc_cell": false,
   "toc_position": {},
   "toc_section_display": true,
   "toc_window_display": true
  },
  "varInspector": {
   "cols": {
    "lenName": 16,
    "lenType": 16,
    "lenVar": 40
   },
   "kernels_config": {
    "python": {
     "delete_cmd_postfix": "",
     "delete_cmd_prefix": "del ",
     "library": "var_list.py",
     "varRefreshCmd": "print(var_dic_list())"
    },
    "r": {
     "delete_cmd_postfix": ") ",
     "delete_cmd_prefix": "rm(",
     "library": "var_list.r",
     "varRefreshCmd": "cat(var_dic_list()) "
    }
   },
   "types_to_exclude": [
    "module",
    "function",
    "builtin_function_or_method",
    "instance",
    "_Feature"
   ],
   "window_display": false
  }
 },
 "nbformat": 4,
 "nbformat_minor": 5
}
