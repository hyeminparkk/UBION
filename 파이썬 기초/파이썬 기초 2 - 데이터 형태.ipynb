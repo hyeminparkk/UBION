{
 "cells": [
  {
   "cell_type": "markdown",
   "id": "2bf3c2b9",
   "metadata": {},
   "source": [
    "# tuple 형태"
   ]
  },
  {
   "cell_type": "code",
   "execution_count": 2,
   "id": "ef37e9d7",
   "metadata": {
    "ExecuteTime": {
     "end_time": "2022-10-03T12:42:42.931005Z",
     "start_time": "2022-10-03T12:42:42.916805Z"
    }
   },
   "outputs": [
    {
     "name": "stdout",
     "output_type": "stream",
     "text": [
      "(20, 'test') (3, 3.14) (20, 'test', 3, 3.14) (20, 'test', 20, 'test', 20, 'test')\n"
     ]
    }
   ],
   "source": [
    "a = (20, 'test')\n",
    "b = (3, 3.14)\n",
    "c = a + b # a와 b 연결\n",
    "d = a * 3 # a 3번 반복\n",
    "print(a, b, c, d)"
   ]
  },
  {
   "cell_type": "code",
   "execution_count": 3,
   "id": "22b84f6e",
   "metadata": {
    "ExecuteTime": {
     "end_time": "2022-10-03T12:43:11.357262Z",
     "start_time": "2022-10-03T12:43:11.312618Z"
    }
   },
   "outputs": [
    {
     "data": {
      "text/plain": [
       "(20, 30)"
      ]
     },
     "execution_count": 3,
     "metadata": {},
     "output_type": "execute_result"
    }
   ],
   "source": [
    "a = (10, 20, 30, 40)\n",
    "a[1:3] # 첫번째 위치부터 3번째 위치 전까지 출력"
   ]
  },
  {
   "cell_type": "code",
   "execution_count": 4,
   "id": "74d173a3",
   "metadata": {
    "ExecuteTime": {
     "end_time": "2022-10-03T12:43:58.468796Z",
     "start_time": "2022-10-03T12:43:58.447663Z"
    }
   },
   "outputs": [
    {
     "name": "stdout",
     "output_type": "stream",
     "text": [
      "10\n"
     ]
    }
   ],
   "source": [
    "print(a[0])"
   ]
  },
  {
   "cell_type": "markdown",
   "id": "3e53e160",
   "metadata": {},
   "source": [
    "# list 형태"
   ]
  },
  {
   "cell_type": "code",
   "execution_count": 14,
   "id": "b98a137b",
   "metadata": {
    "ExecuteTime": {
     "end_time": "2022-10-03T12:45:55.661267Z",
     "start_time": "2022-10-03T12:45:55.645154Z"
    }
   },
   "outputs": [
    {
     "name": "stdout",
     "output_type": "stream",
     "text": [
      "[20, 10, 50] [10, 20]\n"
     ]
    }
   ],
   "source": [
    "a = [20, 10, 50, 5]\n",
    "b = [10, 20, 30, 40]\n",
    "print(a[0:3], b[:2])"
   ]
  },
  {
   "cell_type": "markdown",
   "id": "f1ba8f51",
   "metadata": {},
   "source": [
    "# dict 형태 \n",
    "- { key : value, key2 : value2 }"
   ]
  },
  {
   "cell_type": "code",
   "execution_count": 17,
   "id": "af597151",
   "metadata": {
    "ExecuteTime": {
     "end_time": "2022-10-03T12:47:55.884819Z",
     "start_time": "2022-10-03T12:47:55.854587Z"
    }
   },
   "outputs": [
    {
     "name": "stdout",
     "output_type": "stream",
     "text": [
      "test\n"
     ]
    }
   ],
   "source": [
    "dict = { 'name' : 'test', 'age' : 20, 'phone' : '01012345678'}\n",
    "print(dict['name']) # key 값을 이용해 value 불러올 수 있음"
   ]
  },
  {
   "cell_type": "code",
   "execution_count": 19,
   "id": "a250887e",
   "metadata": {
    "ExecuteTime": {
     "end_time": "2022-10-03T12:48:21.029725Z",
     "start_time": "2022-10-03T12:48:21.010282Z"
    }
   },
   "outputs": [
    {
     "data": {
      "text/plain": [
       "{'name': 'test', 'age': 20, 'phone': '01012345678', 'area': 'seoul'}"
      ]
     },
     "execution_count": 19,
     "metadata": {},
     "output_type": "execute_result"
    }
   ],
   "source": [
    "dict['area'] = 'seoul' # key : value 추가 가능\n",
    "dict"
   ]
  },
  {
   "cell_type": "code",
   "execution_count": 22,
   "id": "12310e13",
   "metadata": {
    "ExecuteTime": {
     "end_time": "2022-10-03T12:49:17.325108Z",
     "start_time": "2022-10-03T12:49:17.315162Z"
    }
   },
   "outputs": [],
   "source": [
    "test_data = [\n",
    "    {\"name\" : \"test\", \"age\" : 20}, \n",
    "    {\"name\" : \"test2\", \"age\" : 25}, \n",
    "    {\"name\" : \"test3\", \"age\" : 15}\n",
    "]"
   ]
  },
  {
   "cell_type": "code",
   "execution_count": 24,
   "id": "a4ed5887",
   "metadata": {
    "ExecuteTime": {
     "end_time": "2022-10-03T12:49:43.104869Z",
     "start_time": "2022-10-03T12:49:43.082452Z"
    }
   },
   "outputs": [
    {
     "name": "stdout",
     "output_type": "stream",
     "text": [
      "{'name': 'test', 'age': 20}\n",
      "test2\n"
     ]
    }
   ],
   "source": [
    "print(test_data[0])\n",
    "print(test_data[1]['name'])"
   ]
  }
 ],
 "metadata": {
  "kernelspec": {
   "display_name": "Python 3 (ipykernel)",
   "language": "python",
   "name": "python3"
  },
  "language_info": {
   "codemirror_mode": {
    "name": "ipython",
    "version": 3
   },
   "file_extension": ".py",
   "mimetype": "text/x-python",
   "name": "python",
   "nbconvert_exporter": "python",
   "pygments_lexer": "ipython3",
   "version": "3.8.7"
  },
  "toc": {
   "base_numbering": 1,
   "nav_menu": {},
   "number_sections": true,
   "sideBar": true,
   "skip_h1_title": false,
   "title_cell": "Table of Contents",
   "title_sidebar": "Contents",
   "toc_cell": false,
   "toc_position": {},
   "toc_section_display": true,
   "toc_window_display": true
  },
  "varInspector": {
   "cols": {
    "lenName": 16,
    "lenType": 16,
    "lenVar": 40
   },
   "kernels_config": {
    "python": {
     "delete_cmd_postfix": "",
     "delete_cmd_prefix": "del ",
     "library": "var_list.py",
     "varRefreshCmd": "print(var_dic_list())"
    },
    "r": {
     "delete_cmd_postfix": ") ",
     "delete_cmd_prefix": "rm(",
     "library": "var_list.r",
     "varRefreshCmd": "cat(var_dic_list()) "
    }
   },
   "types_to_exclude": [
    "module",
    "function",
    "builtin_function_or_method",
    "instance",
    "_Feature"
   ],
   "window_display": false
  }
 },
 "nbformat": 4,
 "nbformat_minor": 5
}
