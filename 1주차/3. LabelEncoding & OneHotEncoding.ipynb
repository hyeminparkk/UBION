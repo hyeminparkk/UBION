{
 "cells": [
  {
   "cell_type": "markdown",
   "id": "6a08e936",
   "metadata": {},
   "source": [
    "# LabelEncoding\n",
    "- sklearn.preprocessing.LabelEncoder\n",
    "- class sklearn.preprocessing.LabelEncoder"
   ]
  },
  {
   "cell_type": "markdown",
   "id": "69d10927",
   "metadata": {},
   "source": [
    "## 인코딩"
   ]
  },
  {
   "cell_type": "code",
   "execution_count": 26,
   "id": "6404977f",
   "metadata": {
    "ExecuteTime": {
     "end_time": "2022-09-30T02:24:55.513953Z",
     "start_time": "2022-09-30T02:24:55.485570Z"
    },
    "scrolled": true
   },
   "outputs": [
    {
     "name": "stdout",
     "output_type": "stream",
     "text": [
      "인코딩 변환값 : [0 3 4 2 2 1 1]\n",
      "인코딩 클래스 : ['TV' '믹서' '선풍기' '전자렌지' '컴퓨터']\n"
     ]
    }
   ],
   "source": [
    "from sklearn.preprocessing import LabelEncoder\n",
    "\n",
    "items = ['TV','전자렌지','컴퓨터','선풍기','선풍기','믹서','믹서']\n",
    "encoder = LabelEncoder()\n",
    "encoder.fit(items)\n",
    "labels = encoder.transform(items)\n",
    "print('인코딩 변환값 :', labels)\n",
    "print('인코딩 클래스 :', encoder.classes_)"
   ]
  },
  {
   "cell_type": "markdown",
   "id": "34e283e7",
   "metadata": {},
   "source": [
    "## 디코딩\n",
    "- inverse_transform(y)"
   ]
  },
  {
   "cell_type": "code",
   "execution_count": 27,
   "id": "564d5684",
   "metadata": {
    "ExecuteTime": {
     "end_time": "2022-09-30T02:25:08.282200Z",
     "start_time": "2022-09-30T02:25:08.248369Z"
    }
   },
   "outputs": [
    {
     "data": {
      "text/plain": [
       "array(['믹서', '믹서', '믹서', '선풍기', '전자렌지', '컴퓨터'], dtype='<U4')"
      ]
     },
     "execution_count": 27,
     "metadata": {},
     "output_type": "execute_result"
    }
   ],
   "source": [
    "encoder.inverse_transform([1,1,1,2,3,4])"
   ]
  },
  {
   "cell_type": "markdown",
   "id": "98cde3fa",
   "metadata": {},
   "source": [
    "# One Hot Encoding\n",
    "- 원-핫 인코딩을 할 땐 2차원 데이터로 변환하는 등 작업을 해 줘야 함"
   ]
  },
  {
   "cell_type": "markdown",
   "id": "47c421fa",
   "metadata": {},
   "source": [
    "## 방법 1"
   ]
  },
  {
   "cell_type": "code",
   "execution_count": 28,
   "id": "42a0777d",
   "metadata": {
    "ExecuteTime": {
     "end_time": "2022-09-30T02:25:11.204530Z",
     "start_time": "2022-09-30T02:25:11.175008Z"
    }
   },
   "outputs": [
    {
     "name": "stdout",
     "output_type": "stream",
     "text": [
      "원 - 핫 인코딩 데이터 :  [[1. 0. 0. 0. 0.]\n",
      " [0. 0. 0. 1. 0.]\n",
      " [0. 0. 0. 0. 1.]\n",
      " [0. 0. 1. 0. 0.]\n",
      " [0. 0. 1. 0. 0.]\n",
      " [0. 1. 0. 0. 0.]\n",
      " [0. 1. 0. 0. 0.]]\n",
      "원 - 핫 인코딩 데이터 차원 :  (7, 5)\n"
     ]
    }
   ],
   "source": [
    "from sklearn.preprocessing import OneHotEncoder\n",
    "import numpy as np\n",
    "\n",
    "items = ['TV', '전자렌지', '컴퓨터', '선풍기', '선풍기', '믹서', '믹서']\n",
    "\n",
    "# 먼저 숫자값으로 변환을 위해 Label Encoder로 변환\n",
    "encoder = LabelEncoder()\n",
    "encoder.fit(items)\n",
    "labels = encoder.transform(items)\n",
    "\n",
    "# 2차원 데이터로 변환\n",
    "labels = labels.reshape(-1,1)\n",
    "\n",
    "# 원-핫 인코딩 적용\n",
    "oh_encoder = OneHotEncoder()\n",
    "oh_encoder.fit(labels)\n",
    "oh_labels = oh_encoder.transform(labels)\n",
    "print('원 - 핫 인코딩 데이터 : ', oh_labels.toarray())\n",
    "print('원 - 핫 인코딩 데이터 차원 : ', oh_labels.shape)"
   ]
  },
  {
   "cell_type": "markdown",
   "id": "6356971d",
   "metadata": {},
   "source": [
    "## 방법 2 - 숫자로 바꿔서"
   ]
  },
  {
   "cell_type": "code",
   "execution_count": 30,
   "id": "53d870d0",
   "metadata": {
    "ExecuteTime": {
     "end_time": "2022-09-30T02:29:08.771920Z",
     "start_time": "2022-09-30T02:29:08.678078Z"
    }
   },
   "outputs": [
    {
     "name": "stdout",
     "output_type": "stream",
     "text": [
      "원 - 핫 인코딩 데이터 :  [[1. 0. 0. 0. 0. 1. 0. 0. 0. 0.]\n",
      " [0. 0. 0. 1. 0. 0. 1. 0. 0. 0.]\n",
      " [0. 0. 0. 0. 1. 0. 0. 1. 0. 0.]\n",
      " [0. 0. 1. 0. 0. 0. 0. 0. 1. 0.]\n",
      " [0. 0. 1. 0. 0. 0. 0. 0. 1. 0.]\n",
      " [0. 1. 0. 0. 0. 0. 0. 0. 0. 1.]\n",
      " [0. 1. 0. 0. 0. 0. 0. 0. 0. 1.]]\n",
      "원 - 핫 인코딩 데이터 차원 :  (7, 10)\n"
     ]
    }
   ],
   "source": [
    "from sklearn.preprocessing import OneHotEncoder\n",
    "import numpy as np\n",
    "\n",
    "items = [['TV', 1], ['전자렌지', 2], ['컴퓨터', 3], ['선풍기', 4], ['선풍기', 4], ['믹서', 5], ['믹서', 5]]\n",
    "items_1 = [['TV', 1], ['전자렌지', 2], ['컴퓨터', 3], ['선풍기', 4], ['믹서', 5]]\n",
    "\n",
    "# 원-핫 인코딩 적용\n",
    "oh_encoder = OneHotEncoder()\n",
    "oh_encoder.fit(items_1)\n",
    "oh_labels = oh_encoder.transform(items)\n",
    "print('원 - 핫 인코딩 데이터 : ', oh_labels.toarray())\n",
    "print('원 - 핫 인코딩 데이터 차원 : ', oh_labels.shape)"
   ]
  },
  {
   "cell_type": "markdown",
   "id": "aef4ab95",
   "metadata": {},
   "source": [
    "## 판다스에서 지원하는 원-핫 인코딩"
   ]
  },
  {
   "cell_type": "code",
   "execution_count": 23,
   "id": "e70e9762",
   "metadata": {
    "ExecuteTime": {
     "end_time": "2022-09-30T02:23:30.635341Z",
     "start_time": "2022-09-30T02:23:30.607348Z"
    }
   },
   "outputs": [
    {
     "data": {
      "text/html": [
       "<div>\n",
       "<style scoped>\n",
       "    .dataframe tbody tr th:only-of-type {\n",
       "        vertical-align: middle;\n",
       "    }\n",
       "\n",
       "    .dataframe tbody tr th {\n",
       "        vertical-align: top;\n",
       "    }\n",
       "\n",
       "    .dataframe thead th {\n",
       "        text-align: right;\n",
       "    }\n",
       "</style>\n",
       "<table border=\"1\" class=\"dataframe\">\n",
       "  <thead>\n",
       "    <tr style=\"text-align: right;\">\n",
       "      <th></th>\n",
       "      <th>items</th>\n",
       "    </tr>\n",
       "  </thead>\n",
       "  <tbody>\n",
       "    <tr>\n",
       "      <th>0</th>\n",
       "      <td>TV</td>\n",
       "    </tr>\n",
       "    <tr>\n",
       "      <th>1</th>\n",
       "      <td>전자렌지</td>\n",
       "    </tr>\n",
       "    <tr>\n",
       "      <th>2</th>\n",
       "      <td>컴퓨터</td>\n",
       "    </tr>\n",
       "    <tr>\n",
       "      <th>3</th>\n",
       "      <td>선풍기</td>\n",
       "    </tr>\n",
       "    <tr>\n",
       "      <th>4</th>\n",
       "      <td>선풍기</td>\n",
       "    </tr>\n",
       "    <tr>\n",
       "      <th>5</th>\n",
       "      <td>믹서</td>\n",
       "    </tr>\n",
       "    <tr>\n",
       "      <th>6</th>\n",
       "      <td>믹서</td>\n",
       "    </tr>\n",
       "  </tbody>\n",
       "</table>\n",
       "</div>"
      ],
      "text/plain": [
       "  items\n",
       "0    TV\n",
       "1  전자렌지\n",
       "2   컴퓨터\n",
       "3   선풍기\n",
       "4   선풍기\n",
       "5    믹서\n",
       "6    믹서"
      ]
     },
     "execution_count": 23,
     "metadata": {},
     "output_type": "execute_result"
    }
   ],
   "source": [
    "import pandas as pd\n",
    "\n",
    "df = pd.DataFrame({'items' : ['TV', '전자렌지', '컴퓨터', '선풍기', '선풍기', '믹서', '믹서']})\n",
    "df"
   ]
  },
  {
   "cell_type": "code",
   "execution_count": 24,
   "id": "9d8bdfcc",
   "metadata": {
    "ExecuteTime": {
     "end_time": "2022-09-30T02:23:33.480398Z",
     "start_time": "2022-09-30T02:23:33.443196Z"
    }
   },
   "outputs": [
    {
     "data": {
      "text/html": [
       "<div>\n",
       "<style scoped>\n",
       "    .dataframe tbody tr th:only-of-type {\n",
       "        vertical-align: middle;\n",
       "    }\n",
       "\n",
       "    .dataframe tbody tr th {\n",
       "        vertical-align: top;\n",
       "    }\n",
       "\n",
       "    .dataframe thead th {\n",
       "        text-align: right;\n",
       "    }\n",
       "</style>\n",
       "<table border=\"1\" class=\"dataframe\">\n",
       "  <thead>\n",
       "    <tr style=\"text-align: right;\">\n",
       "      <th></th>\n",
       "      <th>TV</th>\n",
       "      <th>믹서</th>\n",
       "      <th>선풍기</th>\n",
       "      <th>전자렌지</th>\n",
       "      <th>컴퓨터</th>\n",
       "    </tr>\n",
       "  </thead>\n",
       "  <tbody>\n",
       "    <tr>\n",
       "      <th>0</th>\n",
       "      <td>1</td>\n",
       "      <td>0</td>\n",
       "      <td>0</td>\n",
       "      <td>0</td>\n",
       "      <td>0</td>\n",
       "    </tr>\n",
       "    <tr>\n",
       "      <th>1</th>\n",
       "      <td>0</td>\n",
       "      <td>0</td>\n",
       "      <td>0</td>\n",
       "      <td>1</td>\n",
       "      <td>0</td>\n",
       "    </tr>\n",
       "    <tr>\n",
       "      <th>2</th>\n",
       "      <td>0</td>\n",
       "      <td>0</td>\n",
       "      <td>0</td>\n",
       "      <td>0</td>\n",
       "      <td>1</td>\n",
       "    </tr>\n",
       "    <tr>\n",
       "      <th>3</th>\n",
       "      <td>0</td>\n",
       "      <td>0</td>\n",
       "      <td>1</td>\n",
       "      <td>0</td>\n",
       "      <td>0</td>\n",
       "    </tr>\n",
       "    <tr>\n",
       "      <th>4</th>\n",
       "      <td>0</td>\n",
       "      <td>0</td>\n",
       "      <td>1</td>\n",
       "      <td>0</td>\n",
       "      <td>0</td>\n",
       "    </tr>\n",
       "    <tr>\n",
       "      <th>5</th>\n",
       "      <td>0</td>\n",
       "      <td>1</td>\n",
       "      <td>0</td>\n",
       "      <td>0</td>\n",
       "      <td>0</td>\n",
       "    </tr>\n",
       "    <tr>\n",
       "      <th>6</th>\n",
       "      <td>0</td>\n",
       "      <td>1</td>\n",
       "      <td>0</td>\n",
       "      <td>0</td>\n",
       "      <td>0</td>\n",
       "    </tr>\n",
       "  </tbody>\n",
       "</table>\n",
       "</div>"
      ],
      "text/plain": [
       "   TV  믹서  선풍기  전자렌지  컴퓨터\n",
       "0   1   0    0     0    0\n",
       "1   0   0    0     1    0\n",
       "2   0   0    0     0    1\n",
       "3   0   0    1     0    0\n",
       "4   0   0    1     0    0\n",
       "5   0   1    0     0    0\n",
       "6   0   1    0     0    0"
      ]
     },
     "execution_count": 24,
     "metadata": {},
     "output_type": "execute_result"
    }
   ],
   "source": [
    "pd.get_dummies(df['items'])"
   ]
  }
 ],
 "metadata": {
  "kernelspec": {
   "display_name": "Python 3 (ipykernel)",
   "language": "python",
   "name": "python3"
  },
  "language_info": {
   "codemirror_mode": {
    "name": "ipython",
    "version": 3
   },
   "file_extension": ".py",
   "mimetype": "text/x-python",
   "name": "python",
   "nbconvert_exporter": "python",
   "pygments_lexer": "ipython3",
   "version": "3.8.7"
  },
  "toc": {
   "base_numbering": 1,
   "nav_menu": {},
   "number_sections": true,
   "sideBar": true,
   "skip_h1_title": false,
   "title_cell": "Table of Contents",
   "title_sidebar": "Contents",
   "toc_cell": false,
   "toc_position": {},
   "toc_section_display": true,
   "toc_window_display": true
  },
  "varInspector": {
   "cols": {
    "lenName": 16,
    "lenType": 16,
    "lenVar": 40
   },
   "kernels_config": {
    "python": {
     "delete_cmd_postfix": "",
     "delete_cmd_prefix": "del ",
     "library": "var_list.py",
     "varRefreshCmd": "print(var_dic_list())"
    },
    "r": {
     "delete_cmd_postfix": ") ",
     "delete_cmd_prefix": "rm(",
     "library": "var_list.r",
     "varRefreshCmd": "cat(var_dic_list()) "
    }
   },
   "types_to_exclude": [
    "module",
    "function",
    "builtin_function_or_method",
    "instance",
    "_Feature"
   ],
   "window_display": false
  }
 },
 "nbformat": 4,
 "nbformat_minor": 5
}
